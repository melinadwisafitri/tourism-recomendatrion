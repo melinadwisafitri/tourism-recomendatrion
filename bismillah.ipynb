{
  "nbformat": 4,
  "nbformat_minor": 0,
  "metadata": {
    "colab": {
      "name": "bismillah.ipynb",
      "provenance": [],
      "collapsed_sections": [
        "m8vgurYV4OTu",
        "wRdI7PVu3YVB",
        "j3xwqXqPJj9x",
        "_JGYp_iXJnSs",
        "g5e-6xHH6yyH",
        "XQCZlAnSRLxp",
        "MXYB-C47guOz",
        "jRD2Rf1xsYLj",
        "fR8IffhxzisD",
        "0eV9a-hRVspf",
        "3QwNfsxYkWAV",
        "BT9oNqkBXfMf",
        "QCFH0EduAE9s",
        "ruRh7rIfAHlo",
        "T_naaboP2eRk",
        "-DSqf23AANiG"
      ],
      "authorship_tag": "ABX9TyPYB+YMYY8FXY9SnOdGazTK",
      "include_colab_link": true
    },
    "kernelspec": {
      "name": "python3",
      "display_name": "Python 3"
    },
    "language_info": {
      "name": "python"
    }
  },
  "cells": [
    {
      "cell_type": "markdown",
      "metadata": {
        "id": "view-in-github",
        "colab_type": "text"
      },
      "source": [
        "<a href=\"https://colab.research.google.com/github/melinadwisafitri/tourism-recomendatrion/blob/main/bismillah.ipynb\" target=\"_parent\"><img src=\"https://colab.research.google.com/assets/colab-badge.svg\" alt=\"Open In Colab\"/></a>"
      ]
    },
    {
      "cell_type": "markdown",
      "metadata": {
        "id": "_pF0ETQa12z_"
      },
      "source": [
        "#Sistem Rekomendasi mencari lokasi wisata di Indonesia\n",
        "\n",
        "Sistem digunakan untuk meberikan rekomendasi nama destinasi lokasi wisata berdasarkan cotent bases filtering (yang digunakan adalah nama lokasi yang di filter berdasarkan kesamaan lokasi/kota)"
      ]
    },
    {
      "cell_type": "markdown",
      "metadata": {
        "id": "RC3p6Lea12uY"
      },
      "source": [
        "## Data Source\n",
        "Data diambil dari kaggle, terdapat 4 file di dalam file zip\n",
        "\n",
        "[Source data Indonesia Tourism Destination](https://www.kaggle.com/aprabowo/indonesia-tourism-destination)"
      ]
    },
    {
      "cell_type": "markdown",
      "metadata": {
        "id": "1kMWJwR2Tus9"
      },
      "source": [
        "jadi nanti"
      ]
    },
    {
      "cell_type": "markdown",
      "metadata": {
        "id": "dkGz6WVz2lp2"
      },
      "source": [
        "Import semua Library yang akan digunakan, import dilakukan pada proses awal karena untuk mempermudah proses pengerjaan."
      ]
    },
    {
      "cell_type": "code",
      "metadata": {
        "colab": {
          "base_uri": "https://localhost:8080/"
        },
        "id": "x-fAYuyR8r9E",
        "outputId": "f149c3ed-49e9-4d49-d3aa-bd2c9a8a105e"
      },
      "source": [
        "!pip install kaggle\n",
        "\n",
        "import numpy as np\n",
        "import pandas as pd\n",
        "import seaborn as sns\n",
        "import tensorflow as tf\n",
        "import matplotlib.pyplot as plt\n",
        "\n",
        "from pathlib import Path\n",
        "from google.colab import files\n",
        "from tensorflow.keras import Model\n",
        "from tensorflow.keras.optimizers import Adam\n",
        "from tensorflow.keras.layers import Embedding\n",
        "from sklearn.preprocessing import MinMaxScaler\n",
        "from sklearn.metrics import mean_absolute_error\n",
        "from sklearn.model_selection import train_test_split\n",
        "from sklearn.metrics.pairwise import cosine_similarity\n",
        "from sklearn.feature_extraction.text import TfidfVectorizer\n",
        "from sklearn.feature_extraction.text import CountVectorizer"
      ],
      "execution_count": null,
      "outputs": [
        {
          "output_type": "stream",
          "name": "stdout",
          "text": [
            "Requirement already satisfied: kaggle in /usr/local/lib/python3.7/dist-packages (1.5.12)\n",
            "Requirement already satisfied: urllib3 in /usr/local/lib/python3.7/dist-packages (from kaggle) (1.24.3)\n",
            "Requirement already satisfied: requests in /usr/local/lib/python3.7/dist-packages (from kaggle) (2.23.0)\n",
            "Requirement already satisfied: python-slugify in /usr/local/lib/python3.7/dist-packages (from kaggle) (5.0.2)\n",
            "Requirement already satisfied: python-dateutil in /usr/local/lib/python3.7/dist-packages (from kaggle) (2.8.2)\n",
            "Requirement already satisfied: certifi in /usr/local/lib/python3.7/dist-packages (from kaggle) (2021.5.30)\n",
            "Requirement already satisfied: tqdm in /usr/local/lib/python3.7/dist-packages (from kaggle) (4.62.3)\n",
            "Requirement already satisfied: six>=1.10 in /usr/local/lib/python3.7/dist-packages (from kaggle) (1.15.0)\n",
            "Requirement already satisfied: text-unidecode>=1.3 in /usr/local/lib/python3.7/dist-packages (from python-slugify->kaggle) (1.3)\n",
            "Requirement already satisfied: chardet<4,>=3.0.2 in /usr/local/lib/python3.7/dist-packages (from requests->kaggle) (3.0.4)\n",
            "Requirement already satisfied: idna<3,>=2.5 in /usr/local/lib/python3.7/dist-packages (from requests->kaggle) (2.10)\n"
          ]
        }
      ]
    },
    {
      "cell_type": "markdown",
      "metadata": {
        "id": "ZPnqbkOW12pN"
      },
      "source": [
        "Karena Data diambil dari kaggle, untuk mempermudah proses load data bisa menggunakan library kaggle.\n",
        "\n",
        "Install kaggle, lalu upload file key token yang telah di *generate*  dari account yang dimiliki. Lalu membuat direktory baru bernama kaggle, pindah data kaggle.json yang sudah kita upload, arahkan ke folder kaggle yang sudah dibuat sebelumnya, lalu atur *permission access* supaya owner/user, grup, other bisa untuk *read, write and execution* terhadap data kaggle.json dengan menggunakan ```chmood 600```"
      ]
    },
    {
      "cell_type": "code",
      "metadata": {
        "colab": {
          "resources": {
            "http://localhost:8080/nbextensions/google.colab/files.js": {
              "data": "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",
              "ok": true,
              "headers": [
                [
                  "content-type",
                  "application/javascript"
                ]
              ],
              "status": 200,
              "status_text": ""
            }
          },
          "base_uri": "https://localhost:8080/",
          "height": 89
        },
        "id": "RwtoBO-l2jXy",
        "outputId": "5dff07ef-b953-4fbc-e9d9-516365961a3f"
      },
      "source": [
        "upload = files.upload()\n",
        "for k in upload.keys():\n",
        "  print(k)\n",
        "\n",
        "!mkdir -p ~/.kaggle/ && mv kaggle.json ~/.kaggle/ && chmod 600 ~/.kaggle/kaggle.json"
      ],
      "execution_count": null,
      "outputs": [
        {
          "output_type": "display_data",
          "data": {
            "text/html": [
              "\n",
              "     <input type=\"file\" id=\"files-e89fe1d7-e4df-430a-8589-770f065b9a5a\" name=\"files[]\" multiple disabled\n",
              "        style=\"border:none\" />\n",
              "     <output id=\"result-e89fe1d7-e4df-430a-8589-770f065b9a5a\">\n",
              "      Upload widget is only available when the cell has been executed in the\n",
              "      current browser session. Please rerun this cell to enable.\n",
              "      </output>\n",
              "      <script src=\"/nbextensions/google.colab/files.js\"></script> "
            ],
            "text/plain": [
              "<IPython.core.display.HTML object>"
            ]
          },
          "metadata": {}
        },
        {
          "output_type": "stream",
          "name": "stdout",
          "text": [
            "Saving kaggle.json to kaggle.json\n",
            "kaggle.json\n"
          ]
        }
      ]
    },
    {
      "cell_type": "markdown",
      "metadata": {
        "id": "9J6ioj4z2RcN"
      },
      "source": [
        "## Data Loading\n",
        "\n",
        "Download dataset Indonesia torism destination dengan menggunakan API kaggle file akan disimpan dalam ```/content/```"
      ]
    },
    {
      "cell_type": "code",
      "metadata": {
        "colab": {
          "base_uri": "https://localhost:8080/"
        },
        "id": "YIzYz-4M2RGD",
        "outputId": "86d97286-4161-4943-b601-15cca810eead"
      },
      "source": [
        "!kaggle datasets download -d aprabowo/indonesia-tourism-destination"
      ],
      "execution_count": null,
      "outputs": [
        {
          "output_type": "stream",
          "name": "stdout",
          "text": [
            "Downloading indonesia-tourism-destination.zip to /content\n",
            "\r  0% 0.00/158k [00:00<?, ?B/s]\n",
            "\r100% 158k/158k [00:00<00:00, 1.43MB/s]\n"
          ]
        }
      ]
    },
    {
      "cell_type": "markdown",
      "metadata": {
        "id": "P6bq-NWu35si"
      },
      "source": [
        "### Unzip File zip"
      ]
    },
    {
      "cell_type": "markdown",
      "metadata": {
        "id": "igRfKZhw2dPV"
      },
      "source": [
        "Setelah data di download, ternyata data berbentuk file zip, yang didalamnya terdapat 4 file csv yaitu:\n",
        "1. tourism_ with_id.csv : file ini berisi informasi lokasi wisata dari 5 kota di Indonesia \n",
        "2. user.csv : file ini berisi mengenai data pengguna (data dummy)\n",
        "3. tourism_rating.csv : file ini berisi mengenai data rating dari bebrapa tempat lokasi wissata yang diberikan oleh user \n",
        "4. package_tourism.csv : file ini berisi package lokasi wisata\n",
        "\n",
        "Buat satu directory yang berfungsi untuk menampung data dari indonesia-tourism-destination.zip dengan menggunakan \n",
        "\n",
        "```!mkdir name_directory```\n",
        "\n",
        "untuk ektract data zip bisa menggunakan script \n",
        "\n",
        "\n",
        "\n",
        "```\n",
        "!unzip -q indonesia-tourism-destination.zip\n",
        "```\n",
        "kenapa terdapat -q didalam script ```!unzip``` dikarenakan untuk menyembunyikan comment yang muncul\n"
      ]
    },
    {
      "cell_type": "code",
      "metadata": {
        "id": "ey4jHWIK2eSL"
      },
      "source": [
        "!mkdir -p /content/destination_tourism\n",
        "!unzip -q indonesia-tourism-destination.zip -d /content/destination_tourism"
      ],
      "execution_count": null,
      "outputs": []
    },
    {
      "cell_type": "markdown",
      "metadata": {
        "id": "ZOrLpjOD3pNm"
      },
      "source": [
        "### Load Data\n",
        "Load data masing-masing file kedalam variable yang mengambarkan nama dari file tersebut, data di load dengan menggunakan library **Pandas**\n",
        "\n",
        "Kemudian cek berapa jumlah masing-masing data dalam varible tersebut dengan menggunkan fungsi ```len()```"
      ]
    },
    {
      "cell_type": "code",
      "metadata": {
        "colab": {
          "base_uri": "https://localhost:8080/"
        },
        "id": "xxXheq6a2Z8J",
        "outputId": "7c796974-5a18-41d7-90d7-c3bfbf26f710"
      },
      "source": [
        "package_tourism = pd.read_csv('/content/destination_tourism/package_tourism.csv')\n",
        "tourism_rating = pd.read_csv('/content/destination_tourism/tourism_rating.csv')\n",
        "tourism_user = pd.read_csv('/content/destination_tourism/user.csv')\n",
        "tourism_info = pd.read_csv('/content/destination_tourism/tourism_with_id.csv')\n",
        "\n",
        "print(f'Jumlah data package tourism : {len(package_tourism)}')\n",
        "print(f'Jumlah data tourism rating: {len(tourism_rating)}')\n",
        "print(f'Jumlah user: {len(tourism_user)}')\n",
        "print(f'jumlah information tourism: {len(tourism_info)}')"
      ],
      "execution_count": null,
      "outputs": [
        {
          "output_type": "stream",
          "name": "stdout",
          "text": [
            "Jumlah data package tourism : 100\n",
            "Jumlah data tourism rating: 10000\n",
            "Jumlah user: 300\n",
            "jumlah information tourism: 437\n"
          ]
        }
      ]
    },
    {
      "cell_type": "markdown",
      "metadata": {
        "id": "wwD7GDdq4GPi"
      },
      "source": [
        "Setelah data csv di baca dan di letakkan pada variable diketahui bahwa data package tourism berjumlah 100 data rating berjumlah 10.000 jumlah user 300 dan jumlah tempat wisata 437"
      ]
    },
    {
      "cell_type": "markdown",
      "metadata": {
        "id": "UqToEq5g4Gs3"
      },
      "source": [
        "## Exploratory Data Unvariate"
      ]
    },
    {
      "cell_type": "markdown",
      "metadata": {
        "id": "m8vgurYV4OTu"
      },
      "source": [
        "Setelah setiap file csv di deklarasikan ke dalam sebuah variable maka data per variable akan di analisis untuk mengetahui apa jenis data yang ada.\n",
        "\n",
        "### Explorasi package tourism\n"
      ]
    },
    {
      "cell_type": "code",
      "metadata": {
        "colab": {
          "base_uri": "https://localhost:8080/"
        },
        "id": "rOC9-bZm2Ztf",
        "outputId": "e1596658-6557-4c9a-9b90-c7972f451d37"
      },
      "source": [
        "package_tourism"
      ],
      "execution_count": null,
      "outputs": [
        {
          "output_type": "execute_result",
          "data": {
            "text/html": [
              "<div>\n",
              "<style scoped>\n",
              "    .dataframe tbody tr th:only-of-type {\n",
              "        vertical-align: middle;\n",
              "    }\n",
              "\n",
              "    .dataframe tbody tr th {\n",
              "        vertical-align: top;\n",
              "    }\n",
              "\n",
              "    .dataframe thead th {\n",
              "        text-align: right;\n",
              "    }\n",
              "</style>\n",
              "<table border=\"1\" class=\"dataframe\">\n",
              "  <thead>\n",
              "    <tr style=\"text-align: right;\">\n",
              "      <th></th>\n",
              "      <th>Package</th>\n",
              "      <th>City</th>\n",
              "      <th>Place_Tourism1</th>\n",
              "      <th>Place_Tourism2</th>\n",
              "      <th>Place_Tourism3</th>\n",
              "      <th>Place_Tourism4</th>\n",
              "      <th>Place_Tourism5</th>\n",
              "    </tr>\n",
              "  </thead>\n",
              "  <tbody>\n",
              "    <tr>\n",
              "      <th>0</th>\n",
              "      <td>1</td>\n",
              "      <td>Jakarta</td>\n",
              "      <td>Pasar Tanah Abang</td>\n",
              "      <td>Taman Ayodya</td>\n",
              "      <td>Museum Tekstil</td>\n",
              "      <td>NaN</td>\n",
              "      <td>NaN</td>\n",
              "    </tr>\n",
              "    <tr>\n",
              "      <th>1</th>\n",
              "      <td>2</td>\n",
              "      <td>Jakarta</td>\n",
              "      <td>Pasar Tanah Abang</td>\n",
              "      <td>Pasar Taman Puring</td>\n",
              "      <td>Pasar Petak Sembilan</td>\n",
              "      <td>NaN</td>\n",
              "      <td>NaN</td>\n",
              "    </tr>\n",
              "    <tr>\n",
              "      <th>2</th>\n",
              "      <td>3</td>\n",
              "      <td>Jakarta</td>\n",
              "      <td>Perpustakaan Nasional</td>\n",
              "      <td>Monas</td>\n",
              "      <td>Masjid Istiqlal</td>\n",
              "      <td>NaN</td>\n",
              "      <td>NaN</td>\n",
              "    </tr>\n",
              "    <tr>\n",
              "      <th>3</th>\n",
              "      <td>4</td>\n",
              "      <td>Jakarta</td>\n",
              "      <td>Pulau Tidung</td>\n",
              "      <td>Pulau Bidadari</td>\n",
              "      <td>Pulau Pari</td>\n",
              "      <td>Pulau Pramuka</td>\n",
              "      <td>Pulau Pelangi</td>\n",
              "    </tr>\n",
              "    <tr>\n",
              "      <th>4</th>\n",
              "      <td>5</td>\n",
              "      <td>Jakarta</td>\n",
              "      <td>Museum Satria Mandala</td>\n",
              "      <td>Museum Wayang</td>\n",
              "      <td>Museum Bahari Jakarta</td>\n",
              "      <td>Museum Macan (Modern and Contemporary Art in N...</td>\n",
              "      <td>NaN</td>\n",
              "    </tr>\n",
              "    <tr>\n",
              "      <th>...</th>\n",
              "      <td>...</td>\n",
              "      <td>...</td>\n",
              "      <td>...</td>\n",
              "      <td>...</td>\n",
              "      <td>...</td>\n",
              "      <td>...</td>\n",
              "      <td>...</td>\n",
              "    </tr>\n",
              "    <tr>\n",
              "      <th>95</th>\n",
              "      <td>96</td>\n",
              "      <td>Surabaya</td>\n",
              "      <td>Ekowisata Mangrove Wonorejo</td>\n",
              "      <td>Taman Harmoni Keputih</td>\n",
              "      <td>Taman Kunang-Kunang</td>\n",
              "      <td>Taman Ekspresi Dan Perpustakaan</td>\n",
              "      <td>Museum De Javasche Bank</td>\n",
              "    </tr>\n",
              "    <tr>\n",
              "      <th>96</th>\n",
              "      <td>97</td>\n",
              "      <td>Surabaya</td>\n",
              "      <td>Ciputra Waterpark</td>\n",
              "      <td>Kenjeran Park</td>\n",
              "      <td>Kebun Binatang Surabaya</td>\n",
              "      <td>Food Junction Grand Pakuwon</td>\n",
              "      <td>| Atlantis Land Surabaya</td>\n",
              "    </tr>\n",
              "    <tr>\n",
              "      <th>97</th>\n",
              "      <td>98</td>\n",
              "      <td>Surabaya</td>\n",
              "      <td>Museum Kesehatan Dr. Adhyatma</td>\n",
              "      <td>Patung Buddha Empat Rupa</td>\n",
              "      <td>Taman Hiburan Rakyat</td>\n",
              "      <td>Taman Bungkul</td>\n",
              "      <td>Taman Flora Bratang Surabaya</td>\n",
              "    </tr>\n",
              "    <tr>\n",
              "      <th>98</th>\n",
              "      <td>99</td>\n",
              "      <td>Surabaya</td>\n",
              "      <td>Taman Ekspresi Dan Perpustakaan</td>\n",
              "      <td>Museum De Javasche Bank</td>\n",
              "      <td>Surabaya Museum (Gedung Siola)</td>\n",
              "      <td>Museum Mpu Tantular</td>\n",
              "      <td>Taman Air Mancur Menari Kenjeran</td>\n",
              "    </tr>\n",
              "    <tr>\n",
              "      <th>99</th>\n",
              "      <td>100</td>\n",
              "      <td>Surabaya</td>\n",
              "      <td>Taman Buah Surabaya</td>\n",
              "      <td>Hutan Bambu Keputih</td>\n",
              "      <td>Taman Barunawati</td>\n",
              "      <td>Kebun Bibit Wonorejo</td>\n",
              "      <td>Taman Mundu</td>\n",
              "    </tr>\n",
              "  </tbody>\n",
              "</table>\n",
              "<p>100 rows × 7 columns</p>\n",
              "</div>"
            ],
            "text/plain": [
              "    Package  ...                    Place_Tourism5\n",
              "0         1  ...                               NaN\n",
              "1         2  ...                               NaN\n",
              "2         3  ...                               NaN\n",
              "3         4  ...                     Pulau Pelangi\n",
              "4         5  ...                               NaN\n",
              "..      ...  ...                               ...\n",
              "95       96  ...           Museum De Javasche Bank\n",
              "96       97  ...          | Atlantis Land Surabaya\n",
              "97       98  ...      Taman Flora Bratang Surabaya\n",
              "98       99  ...  Taman Air Mancur Menari Kenjeran\n",
              "99      100  ...                       Taman Mundu\n",
              "\n",
              "[100 rows x 7 columns]"
            ]
          },
          "metadata": {},
          "execution_count": 8
        }
      ]
    },
    {
      "cell_type": "code",
      "metadata": {
        "colab": {
          "base_uri": "https://localhost:8080/"
        },
        "id": "Xb2dkyf8BuQG",
        "outputId": "273d8c4c-55d8-48f4-e31f-fd01d2e49f90"
      },
      "source": [
        "package_tourism.info()"
      ],
      "execution_count": null,
      "outputs": [
        {
          "output_type": "stream",
          "name": "stdout",
          "text": [
            "<class 'pandas.core.frame.DataFrame'>\n",
            "RangeIndex: 100 entries, 0 to 99\n",
            "Data columns (total 7 columns):\n",
            " #   Column          Non-Null Count  Dtype \n",
            "---  ------          --------------  ----- \n",
            " 0   Package         100 non-null    int64 \n",
            " 1   City            100 non-null    object\n",
            " 2   Place_Tourism1  100 non-null    object\n",
            " 3   Place_Tourism2  100 non-null    object\n",
            " 4   Place_Tourism3  100 non-null    object\n",
            " 5   Place_Tourism4  66 non-null     object\n",
            " 6   Place_Tourism5  39 non-null     object\n",
            "dtypes: int64(1), object(6)\n",
            "memory usage: 5.6+ KB\n"
          ]
        }
      ]
    },
    {
      "cell_type": "markdown",
      "metadata": {
        "id": "EpsG5krqGAf0"
      },
      "source": [
        "Data package tourism berisi 7 kolom dengan 100 baris, variable kolom (Package, city, place_tourism1, place_tourism2, place_tourism3, place_tourism4) dengan package memiliki type data integer sedangan untuk 5 variable kolom lainnya bertype string/object"
      ]
    },
    {
      "cell_type": "markdown",
      "metadata": {
        "id": "wRdI7PVu3YVB"
      },
      "source": [
        "### Ekplorasi data *Tourism Ratings*"
      ]
    },
    {
      "cell_type": "code",
      "metadata": {
        "colab": {
          "base_uri": "https://localhost:8080/"
        },
        "id": "kO6yRvvq4Og2",
        "outputId": "7a257080-fd59-45c6-9d2a-3e984b7202d5"
      },
      "source": [
        "tourism_rating"
      ],
      "execution_count": null,
      "outputs": [
        {
          "output_type": "execute_result",
          "data": {
            "text/html": [
              "<div>\n",
              "<style scoped>\n",
              "    .dataframe tbody tr th:only-of-type {\n",
              "        vertical-align: middle;\n",
              "    }\n",
              "\n",
              "    .dataframe tbody tr th {\n",
              "        vertical-align: top;\n",
              "    }\n",
              "\n",
              "    .dataframe thead th {\n",
              "        text-align: right;\n",
              "    }\n",
              "</style>\n",
              "<table border=\"1\" class=\"dataframe\">\n",
              "  <thead>\n",
              "    <tr style=\"text-align: right;\">\n",
              "      <th></th>\n",
              "      <th>User_Id</th>\n",
              "      <th>Place_Id</th>\n",
              "      <th>Place_Ratings</th>\n",
              "    </tr>\n",
              "  </thead>\n",
              "  <tbody>\n",
              "    <tr>\n",
              "      <th>0</th>\n",
              "      <td>1</td>\n",
              "      <td>179</td>\n",
              "      <td>3</td>\n",
              "    </tr>\n",
              "    <tr>\n",
              "      <th>1</th>\n",
              "      <td>1</td>\n",
              "      <td>344</td>\n",
              "      <td>2</td>\n",
              "    </tr>\n",
              "    <tr>\n",
              "      <th>2</th>\n",
              "      <td>1</td>\n",
              "      <td>5</td>\n",
              "      <td>5</td>\n",
              "    </tr>\n",
              "    <tr>\n",
              "      <th>3</th>\n",
              "      <td>1</td>\n",
              "      <td>373</td>\n",
              "      <td>3</td>\n",
              "    </tr>\n",
              "    <tr>\n",
              "      <th>4</th>\n",
              "      <td>1</td>\n",
              "      <td>101</td>\n",
              "      <td>4</td>\n",
              "    </tr>\n",
              "    <tr>\n",
              "      <th>...</th>\n",
              "      <td>...</td>\n",
              "      <td>...</td>\n",
              "      <td>...</td>\n",
              "    </tr>\n",
              "    <tr>\n",
              "      <th>9995</th>\n",
              "      <td>300</td>\n",
              "      <td>425</td>\n",
              "      <td>2</td>\n",
              "    </tr>\n",
              "    <tr>\n",
              "      <th>9996</th>\n",
              "      <td>300</td>\n",
              "      <td>64</td>\n",
              "      <td>4</td>\n",
              "    </tr>\n",
              "    <tr>\n",
              "      <th>9997</th>\n",
              "      <td>300</td>\n",
              "      <td>311</td>\n",
              "      <td>3</td>\n",
              "    </tr>\n",
              "    <tr>\n",
              "      <th>9998</th>\n",
              "      <td>300</td>\n",
              "      <td>279</td>\n",
              "      <td>4</td>\n",
              "    </tr>\n",
              "    <tr>\n",
              "      <th>9999</th>\n",
              "      <td>300</td>\n",
              "      <td>163</td>\n",
              "      <td>2</td>\n",
              "    </tr>\n",
              "  </tbody>\n",
              "</table>\n",
              "<p>10000 rows × 3 columns</p>\n",
              "</div>"
            ],
            "text/plain": [
              "      User_Id  Place_Id  Place_Ratings\n",
              "0           1       179              3\n",
              "1           1       344              2\n",
              "2           1         5              5\n",
              "3           1       373              3\n",
              "4           1       101              4\n",
              "...       ...       ...            ...\n",
              "9995      300       425              2\n",
              "9996      300        64              4\n",
              "9997      300       311              3\n",
              "9998      300       279              4\n",
              "9999      300       163              2\n",
              "\n",
              "[10000 rows x 3 columns]"
            ]
          },
          "metadata": {},
          "execution_count": 10
        }
      ]
    },
    {
      "cell_type": "code",
      "metadata": {
        "colab": {
          "base_uri": "https://localhost:8080/"
        },
        "id": "4i0kJAnSB69I",
        "outputId": "1b21e20c-0506-4347-9b05-4b8b2eb9e706"
      },
      "source": [
        "tourism_rating.info()"
      ],
      "execution_count": null,
      "outputs": [
        {
          "output_type": "stream",
          "name": "stdout",
          "text": [
            "<class 'pandas.core.frame.DataFrame'>\n",
            "RangeIndex: 10000 entries, 0 to 9999\n",
            "Data columns (total 3 columns):\n",
            " #   Column         Non-Null Count  Dtype\n",
            "---  ------         --------------  -----\n",
            " 0   User_Id        10000 non-null  int64\n",
            " 1   Place_Id       10000 non-null  int64\n",
            " 2   Place_Ratings  10000 non-null  int64\n",
            "dtypes: int64(3)\n",
            "memory usage: 234.5 KB\n"
          ]
        }
      ]
    },
    {
      "cell_type": "markdown",
      "metadata": {
        "id": "MIW72nzNBya0"
      },
      "source": [
        "Pada data rating memiliki 3 kolom (User Id, place Id, place Ratting) dengan type data integer\n",
        "* user id = untuk id user\n",
        "* place id = untuk id dari tempat/lokasi wisata\n",
        "* Place rating = untuk rating setiap lokasi yang diberikan user\n",
        "\n",
        "lalu untuk mengetahui berapa nilai dari min-max rating maka diperlukan deskripsi statistika digunakan fungsi ```data.describe()```"
      ]
    },
    {
      "cell_type": "code",
      "metadata": {
        "colab": {
          "base_uri": "https://localhost:8080/"
        },
        "id": "I80hxIN5B8rr",
        "outputId": "5530087f-4fd9-4d83-9ac6-c3b6e6dee288"
      },
      "source": [
        "tourism_rating.describe().T"
      ],
      "execution_count": null,
      "outputs": [
        {
          "output_type": "execute_result",
          "data": {
            "text/html": [
              "<div>\n",
              "<style scoped>\n",
              "    .dataframe tbody tr th:only-of-type {\n",
              "        vertical-align: middle;\n",
              "    }\n",
              "\n",
              "    .dataframe tbody tr th {\n",
              "        vertical-align: top;\n",
              "    }\n",
              "\n",
              "    .dataframe thead th {\n",
              "        text-align: right;\n",
              "    }\n",
              "</style>\n",
              "<table border=\"1\" class=\"dataframe\">\n",
              "  <thead>\n",
              "    <tr style=\"text-align: right;\">\n",
              "      <th></th>\n",
              "      <th>count</th>\n",
              "      <th>mean</th>\n",
              "      <th>std</th>\n",
              "      <th>min</th>\n",
              "      <th>25%</th>\n",
              "      <th>50%</th>\n",
              "      <th>75%</th>\n",
              "      <th>max</th>\n",
              "    </tr>\n",
              "  </thead>\n",
              "  <tbody>\n",
              "    <tr>\n",
              "      <th>User_Id</th>\n",
              "      <td>10000.0</td>\n",
              "      <td>151.2927</td>\n",
              "      <td>86.137374</td>\n",
              "      <td>1.0</td>\n",
              "      <td>77.00</td>\n",
              "      <td>151.0</td>\n",
              "      <td>226.0</td>\n",
              "      <td>300.0</td>\n",
              "    </tr>\n",
              "    <tr>\n",
              "      <th>Place_Id</th>\n",
              "      <td>10000.0</td>\n",
              "      <td>219.4164</td>\n",
              "      <td>126.228335</td>\n",
              "      <td>1.0</td>\n",
              "      <td>108.75</td>\n",
              "      <td>220.0</td>\n",
              "      <td>329.0</td>\n",
              "      <td>437.0</td>\n",
              "    </tr>\n",
              "    <tr>\n",
              "      <th>Place_Ratings</th>\n",
              "      <td>10000.0</td>\n",
              "      <td>3.0665</td>\n",
              "      <td>1.379952</td>\n",
              "      <td>1.0</td>\n",
              "      <td>2.00</td>\n",
              "      <td>3.0</td>\n",
              "      <td>4.0</td>\n",
              "      <td>5.0</td>\n",
              "    </tr>\n",
              "  </tbody>\n",
              "</table>\n",
              "</div>"
            ],
            "text/plain": [
              "                 count      mean         std  min     25%    50%    75%    max\n",
              "User_Id        10000.0  151.2927   86.137374  1.0   77.00  151.0  226.0  300.0\n",
              "Place_Id       10000.0  219.4164  126.228335  1.0  108.75  220.0  329.0  437.0\n",
              "Place_Ratings  10000.0    3.0665    1.379952  1.0    2.00    3.0    4.0    5.0"
            ]
          },
          "metadata": {},
          "execution_count": 12
        }
      ]
    },
    {
      "cell_type": "markdown",
      "metadata": {
        "id": "Q70A5qO-HNT8"
      },
      "source": [
        "Diketahui nilai minimum rating adalah 1.0 dan maximum rating adalah 5.0 dengan jumlah data 10000\n",
        "\n",
        "\n"
      ]
    },
    {
      "cell_type": "code",
      "metadata": {
        "colab": {
          "base_uri": "https://localhost:8080/"
        },
        "id": "HWJaWpiYCOGl",
        "outputId": "22e1ae90-221d-4b7a-f3c6-e2c7b6659847"
      },
      "source": [
        "tourism_rating.corr()"
      ],
      "execution_count": null,
      "outputs": [
        {
          "output_type": "execute_result",
          "data": {
            "text/html": [
              "<div>\n",
              "<style scoped>\n",
              "    .dataframe tbody tr th:only-of-type {\n",
              "        vertical-align: middle;\n",
              "    }\n",
              "\n",
              "    .dataframe tbody tr th {\n",
              "        vertical-align: top;\n",
              "    }\n",
              "\n",
              "    .dataframe thead th {\n",
              "        text-align: right;\n",
              "    }\n",
              "</style>\n",
              "<table border=\"1\" class=\"dataframe\">\n",
              "  <thead>\n",
              "    <tr style=\"text-align: right;\">\n",
              "      <th></th>\n",
              "      <th>User_Id</th>\n",
              "      <th>Place_Id</th>\n",
              "      <th>Place_Ratings</th>\n",
              "    </tr>\n",
              "  </thead>\n",
              "  <tbody>\n",
              "    <tr>\n",
              "      <th>User_Id</th>\n",
              "      <td>1.000000</td>\n",
              "      <td>0.00023</td>\n",
              "      <td>-0.070832</td>\n",
              "    </tr>\n",
              "    <tr>\n",
              "      <th>Place_Id</th>\n",
              "      <td>0.000230</td>\n",
              "      <td>1.00000</td>\n",
              "      <td>0.003190</td>\n",
              "    </tr>\n",
              "    <tr>\n",
              "      <th>Place_Ratings</th>\n",
              "      <td>-0.070832</td>\n",
              "      <td>0.00319</td>\n",
              "      <td>1.000000</td>\n",
              "    </tr>\n",
              "  </tbody>\n",
              "</table>\n",
              "</div>"
            ],
            "text/plain": [
              "                User_Id  Place_Id  Place_Ratings\n",
              "User_Id        1.000000   0.00023      -0.070832\n",
              "Place_Id       0.000230   1.00000       0.003190\n",
              "Place_Ratings -0.070832   0.00319       1.000000"
            ]
          },
          "metadata": {},
          "execution_count": 13
        }
      ]
    },
    {
      "cell_type": "markdown",
      "metadata": {
        "id": "2O_3tTQqCTbX"
      },
      "source": [
        "Plot data dengan rating sebagai x dan Place Id sebagai y"
      ]
    },
    {
      "cell_type": "code",
      "metadata": {
        "colab": {
          "base_uri": "https://localhost:8080/"
        },
        "id": "2dJC6e83CS66",
        "outputId": "5d2af29f-39b1-4fbb-9a83-70f8fbb8d505"
      },
      "source": [
        "plt.bar(tourism_rating['Place_Ratings'], tourism_rating['Place_Id'])\n",
        "plt.show"
      ],
      "execution_count": null,
      "outputs": [
        {
          "output_type": "execute_result",
          "data": {
            "text/plain": [
              "<function matplotlib.pyplot.show>"
            ]
          },
          "metadata": {},
          "execution_count": 14
        },
        {
          "output_type": "display_data",
          "data": {
            "image/png": "[encoded data removed]",
            "text/plain": [
              "<Figure size 432x288 with 1 Axes>"
            ]
          },
          "metadata": {
            "needs_background": "light"
          }
        }
      ]
    },
    {
      "cell_type": "markdown",
      "metadata": {
        "id": "j3xwqXqPJj9x"
      },
      "source": [
        "### Eksplorasi data User"
      ]
    },
    {
      "cell_type": "code",
      "metadata": {
        "colab": {
          "base_uri": "https://localhost:8080/"
        },
        "id": "YAURNBWqK4lD",
        "outputId": "4e271536-30fe-448e-e5f1-0ab424fa1421"
      },
      "source": [
        "tourism_user"
      ],
      "execution_count": null,
      "outputs": [
        {
          "output_type": "execute_result",
          "data": {
            "text/html": [
              "<div>\n",
              "<style scoped>\n",
              "    .dataframe tbody tr th:only-of-type {\n",
              "        vertical-align: middle;\n",
              "    }\n",
              "\n",
              "    .dataframe tbody tr th {\n",
              "        vertical-align: top;\n",
              "    }\n",
              "\n",
              "    .dataframe thead th {\n",
              "        text-align: right;\n",
              "    }\n",
              "</style>\n",
              "<table border=\"1\" class=\"dataframe\">\n",
              "  <thead>\n",
              "    <tr style=\"text-align: right;\">\n",
              "      <th></th>\n",
              "      <th>User_Id</th>\n",
              "      <th>Location</th>\n",
              "      <th>Age</th>\n",
              "    </tr>\n",
              "  </thead>\n",
              "  <tbody>\n",
              "    <tr>\n",
              "      <th>0</th>\n",
              "      <td>1</td>\n",
              "      <td>Semarang, Jawa Tengah</td>\n",
              "      <td>20</td>\n",
              "    </tr>\n",
              "    <tr>\n",
              "      <th>1</th>\n",
              "      <td>2</td>\n",
              "      <td>Bekasi, Jawa Barat</td>\n",
              "      <td>21</td>\n",
              "    </tr>\n",
              "    <tr>\n",
              "      <th>2</th>\n",
              "      <td>3</td>\n",
              "      <td>Cirebon, Jawa Barat</td>\n",
              "      <td>23</td>\n",
              "    </tr>\n",
              "    <tr>\n",
              "      <th>3</th>\n",
              "      <td>4</td>\n",
              "      <td>Bekasi, Jawa Barat</td>\n",
              "      <td>21</td>\n",
              "    </tr>\n",
              "    <tr>\n",
              "      <th>4</th>\n",
              "      <td>5</td>\n",
              "      <td>Lampung, Sumatera Selatan</td>\n",
              "      <td>20</td>\n",
              "    </tr>\n",
              "    <tr>\n",
              "      <th>...</th>\n",
              "      <td>...</td>\n",
              "      <td>...</td>\n",
              "      <td>...</td>\n",
              "    </tr>\n",
              "    <tr>\n",
              "      <th>295</th>\n",
              "      <td>296</td>\n",
              "      <td>Lampung, Sumatera Selatan</td>\n",
              "      <td>31</td>\n",
              "    </tr>\n",
              "    <tr>\n",
              "      <th>296</th>\n",
              "      <td>297</td>\n",
              "      <td>Palembang, Sumatera Selatan</td>\n",
              "      <td>39</td>\n",
              "    </tr>\n",
              "    <tr>\n",
              "      <th>297</th>\n",
              "      <td>298</td>\n",
              "      <td>Bogor, Jawa Barat</td>\n",
              "      <td>38</td>\n",
              "    </tr>\n",
              "    <tr>\n",
              "      <th>298</th>\n",
              "      <td>299</td>\n",
              "      <td>Sragen, Jawa Tengah</td>\n",
              "      <td>27</td>\n",
              "    </tr>\n",
              "    <tr>\n",
              "      <th>299</th>\n",
              "      <td>300</td>\n",
              "      <td>Ponorogo, Jawa Timur</td>\n",
              "      <td>26</td>\n",
              "    </tr>\n",
              "  </tbody>\n",
              "</table>\n",
              "<p>300 rows × 3 columns</p>\n",
              "</div>"
            ],
            "text/plain": [
              "     User_Id                     Location  Age\n",
              "0          1        Semarang, Jawa Tengah   20\n",
              "1          2           Bekasi, Jawa Barat   21\n",
              "2          3          Cirebon, Jawa Barat   23\n",
              "3          4           Bekasi, Jawa Barat   21\n",
              "4          5    Lampung, Sumatera Selatan   20\n",
              "..       ...                          ...  ...\n",
              "295      296    Lampung, Sumatera Selatan   31\n",
              "296      297  Palembang, Sumatera Selatan   39\n",
              "297      298            Bogor, Jawa Barat   38\n",
              "298      299          Sragen, Jawa Tengah   27\n",
              "299      300         Ponorogo, Jawa Timur   26\n",
              "\n",
              "[300 rows x 3 columns]"
            ]
          },
          "metadata": {},
          "execution_count": 15
        }
      ]
    },
    {
      "cell_type": "code",
      "metadata": {
        "colab": {
          "base_uri": "https://localhost:8080/"
        },
        "id": "xUSO2EYqK7R9",
        "outputId": "5c85b226-d91d-4330-def2-cc14a593164a"
      },
      "source": [
        "tourism_user.info()"
      ],
      "execution_count": null,
      "outputs": [
        {
          "output_type": "stream",
          "name": "stdout",
          "text": [
            "<class 'pandas.core.frame.DataFrame'>\n",
            "RangeIndex: 300 entries, 0 to 299\n",
            "Data columns (total 3 columns):\n",
            " #   Column    Non-Null Count  Dtype \n",
            "---  ------    --------------  ----- \n",
            " 0   User_Id   300 non-null    int64 \n",
            " 1   Location  300 non-null    object\n",
            " 2   Age       300 non-null    int64 \n",
            "dtypes: int64(2), object(1)\n",
            "memory usage: 7.2+ KB\n"
          ]
        }
      ]
    },
    {
      "cell_type": "markdown",
      "metadata": {
        "id": "mQcanFxtdJ6x"
      },
      "source": [
        "Diketahui data user berjumlah 300 dengan nama kolom user_id, location(asal user) dan age\n",
        "Data akan ditampilkan dalam visualisasi, data akan di petakan berdasarkan user_Id dan asal provinsi dari user.\n",
        "\n",
        "Dikarenakan data lokasi belum terpisah antara nama kota dan provinsi maka data lokasi akan dipecah menjadi kota dan provinsi."
      ]
    },
    {
      "cell_type": "code",
      "metadata": {
        "colab": {
          "base_uri": "https://localhost:8080/"
        },
        "id": "MTpE822TL7AK",
        "outputId": "749980e0-e627-4488-d318-725d15032bcb"
      },
      "source": [
        "tourism_user[['kota', 'provinsi']] = tourism_user['Location'].str.split(',', expand=True)\n",
        "tourism_user"
      ],
      "execution_count": null,
      "outputs": [
        {
          "output_type": "execute_result",
          "data": {
            "text/html": [
              "<div>\n",
              "<style scoped>\n",
              "    .dataframe tbody tr th:only-of-type {\n",
              "        vertical-align: middle;\n",
              "    }\n",
              "\n",
              "    .dataframe tbody tr th {\n",
              "        vertical-align: top;\n",
              "    }\n",
              "\n",
              "    .dataframe thead th {\n",
              "        text-align: right;\n",
              "    }\n",
              "</style>\n",
              "<table border=\"1\" class=\"dataframe\">\n",
              "  <thead>\n",
              "    <tr style=\"text-align: right;\">\n",
              "      <th></th>\n",
              "      <th>User_Id</th>\n",
              "      <th>Location</th>\n",
              "      <th>Age</th>\n",
              "      <th>kota</th>\n",
              "      <th>provinsi</th>\n",
              "    </tr>\n",
              "  </thead>\n",
              "  <tbody>\n",
              "    <tr>\n",
              "      <th>0</th>\n",
              "      <td>1</td>\n",
              "      <td>Semarang, Jawa Tengah</td>\n",
              "      <td>20</td>\n",
              "      <td>Semarang</td>\n",
              "      <td>Jawa Tengah</td>\n",
              "    </tr>\n",
              "    <tr>\n",
              "      <th>1</th>\n",
              "      <td>2</td>\n",
              "      <td>Bekasi, Jawa Barat</td>\n",
              "      <td>21</td>\n",
              "      <td>Bekasi</td>\n",
              "      <td>Jawa Barat</td>\n",
              "    </tr>\n",
              "    <tr>\n",
              "      <th>2</th>\n",
              "      <td>3</td>\n",
              "      <td>Cirebon, Jawa Barat</td>\n",
              "      <td>23</td>\n",
              "      <td>Cirebon</td>\n",
              "      <td>Jawa Barat</td>\n",
              "    </tr>\n",
              "    <tr>\n",
              "      <th>3</th>\n",
              "      <td>4</td>\n",
              "      <td>Bekasi, Jawa Barat</td>\n",
              "      <td>21</td>\n",
              "      <td>Bekasi</td>\n",
              "      <td>Jawa Barat</td>\n",
              "    </tr>\n",
              "    <tr>\n",
              "      <th>4</th>\n",
              "      <td>5</td>\n",
              "      <td>Lampung, Sumatera Selatan</td>\n",
              "      <td>20</td>\n",
              "      <td>Lampung</td>\n",
              "      <td>Sumatera Selatan</td>\n",
              "    </tr>\n",
              "    <tr>\n",
              "      <th>...</th>\n",
              "      <td>...</td>\n",
              "      <td>...</td>\n",
              "      <td>...</td>\n",
              "      <td>...</td>\n",
              "      <td>...</td>\n",
              "    </tr>\n",
              "    <tr>\n",
              "      <th>295</th>\n",
              "      <td>296</td>\n",
              "      <td>Lampung, Sumatera Selatan</td>\n",
              "      <td>31</td>\n",
              "      <td>Lampung</td>\n",
              "      <td>Sumatera Selatan</td>\n",
              "    </tr>\n",
              "    <tr>\n",
              "      <th>296</th>\n",
              "      <td>297</td>\n",
              "      <td>Palembang, Sumatera Selatan</td>\n",
              "      <td>39</td>\n",
              "      <td>Palembang</td>\n",
              "      <td>Sumatera Selatan</td>\n",
              "    </tr>\n",
              "    <tr>\n",
              "      <th>297</th>\n",
              "      <td>298</td>\n",
              "      <td>Bogor, Jawa Barat</td>\n",
              "      <td>38</td>\n",
              "      <td>Bogor</td>\n",
              "      <td>Jawa Barat</td>\n",
              "    </tr>\n",
              "    <tr>\n",
              "      <th>298</th>\n",
              "      <td>299</td>\n",
              "      <td>Sragen, Jawa Tengah</td>\n",
              "      <td>27</td>\n",
              "      <td>Sragen</td>\n",
              "      <td>Jawa Tengah</td>\n",
              "    </tr>\n",
              "    <tr>\n",
              "      <th>299</th>\n",
              "      <td>300</td>\n",
              "      <td>Ponorogo, Jawa Timur</td>\n",
              "      <td>26</td>\n",
              "      <td>Ponorogo</td>\n",
              "      <td>Jawa Timur</td>\n",
              "    </tr>\n",
              "  </tbody>\n",
              "</table>\n",
              "<p>300 rows × 5 columns</p>\n",
              "</div>"
            ],
            "text/plain": [
              "     User_Id                     Location  Age       kota           provinsi\n",
              "0          1        Semarang, Jawa Tengah   20   Semarang        Jawa Tengah\n",
              "1          2           Bekasi, Jawa Barat   21     Bekasi         Jawa Barat\n",
              "2          3          Cirebon, Jawa Barat   23    Cirebon         Jawa Barat\n",
              "3          4           Bekasi, Jawa Barat   21     Bekasi         Jawa Barat\n",
              "4          5    Lampung, Sumatera Selatan   20    Lampung   Sumatera Selatan\n",
              "..       ...                          ...  ...        ...                ...\n",
              "295      296    Lampung, Sumatera Selatan   31    Lampung   Sumatera Selatan\n",
              "296      297  Palembang, Sumatera Selatan   39  Palembang   Sumatera Selatan\n",
              "297      298            Bogor, Jawa Barat   38      Bogor         Jawa Barat\n",
              "298      299          Sragen, Jawa Tengah   27     Sragen        Jawa Tengah\n",
              "299      300         Ponorogo, Jawa Timur   26   Ponorogo         Jawa Timur\n",
              "\n",
              "[300 rows x 5 columns]"
            ]
          },
          "metadata": {},
          "execution_count": 17
        }
      ]
    },
    {
      "cell_type": "markdown",
      "metadata": {
        "id": "ednQX3L_dvHI"
      },
      "source": [
        "Setelah data dipecah data akan divisualisasikan dengan menggunakan barplot User_Id sebagai height"
      ]
    },
    {
      "cell_type": "code",
      "metadata": {
        "colab": {
          "base_uri": "https://localhost:8080/"
        },
        "id": "k2tNx9K_K-i3",
        "outputId": "b2581280-d31b-4049-fdcb-6e90da45f32b"
      },
      "source": [
        "plt.figure(figsize=(15, 10))\n",
        "sns.barplot(tourism_user['provinsi'], tourism_user['User_Id'])\n",
        "plt.show()"
      ],
      "execution_count": null,
      "outputs": [
        {
          "output_type": "stream",
          "name": "stderr",
          "text": [
            "/usr/local/lib/python3.7/dist-packages/seaborn/_decorators.py:43: FutureWarning: Pass the following variables as keyword args: x, y. From version 0.12, the only valid positional argument will be `data`, and passing other arguments without an explicit keyword will result in an error or misinterpretation.\n",
            "  FutureWarning\n"
          ]
        },
        {
          "output_type": "display_data",
          "data": {
            "image/png": "[encoded data removed]",
            "text/plain": [
              "<Figure size 1080x720 with 1 Axes>"
            ]
          },
          "metadata": {
            "needs_background": "light"
          }
        }
      ]
    },
    {
      "cell_type": "markdown",
      "metadata": {
        "id": "_JGYp_iXJnSs"
      },
      "source": [
        "### Eksplorasi data Tourism information"
      ]
    },
    {
      "cell_type": "code",
      "metadata": {
        "colab": {
          "base_uri": "https://localhost:8080/",
          "height": 861
        },
        "id": "lx9l4PGCRbAg",
        "outputId": "90855a05-1129-48cd-fa9f-fc4eeb238d45"
      },
      "source": [
        "tourism_info"
      ],
      "execution_count": null,
      "outputs": [
        {
          "output_type": "execute_result",
          "data": {
            "text/html": [
              "<div>\n",
              "<style scoped>\n",
              "    .dataframe tbody tr th:only-of-type {\n",
              "        vertical-align: middle;\n",
              "    }\n",
              "\n",
              "    .dataframe tbody tr th {\n",
              "        vertical-align: top;\n",
              "    }\n",
              "\n",
              "    .dataframe thead th {\n",
              "        text-align: right;\n",
              "    }\n",
              "</style>\n",
              "<table border=\"1\" class=\"dataframe\">\n",
              "  <thead>\n",
              "    <tr style=\"text-align: right;\">\n",
              "      <th></th>\n",
              "      <th>Place_Id</th>\n",
              "      <th>Place_Name</th>\n",
              "      <th>Description</th>\n",
              "      <th>Category</th>\n",
              "      <th>City</th>\n",
              "      <th>Price</th>\n",
              "      <th>Rating</th>\n",
              "      <th>Time_Minutes</th>\n",
              "      <th>Coordinate</th>\n",
              "      <th>Lat</th>\n",
              "      <th>Long</th>\n",
              "      <th>Unnamed: 11</th>\n",
              "      <th>Unnamed: 12</th>\n",
              "    </tr>\n",
              "  </thead>\n",
              "  <tbody>\n",
              "    <tr>\n",
              "      <th>0</th>\n",
              "      <td>1</td>\n",
              "      <td>Monumen Nasional</td>\n",
              "      <td>Monumen Nasional atau yang populer disingkat d...</td>\n",
              "      <td>Budaya</td>\n",
              "      <td>Jakarta</td>\n",
              "      <td>20000</td>\n",
              "      <td>4.6</td>\n",
              "      <td>15.0</td>\n",
              "      <td>{'lat': -6.1753924, 'lng': 106.8271528}</td>\n",
              "      <td>-6.175392</td>\n",
              "      <td>106.827153</td>\n",
              "      <td>NaN</td>\n",
              "      <td>1</td>\n",
              "    </tr>\n",
              "    <tr>\n",
              "      <th>1</th>\n",
              "      <td>2</td>\n",
              "      <td>Kota Tua</td>\n",
              "      <td>Kota tua di Jakarta, yang juga bernama Kota Tu...</td>\n",
              "      <td>Budaya</td>\n",
              "      <td>Jakarta</td>\n",
              "      <td>0</td>\n",
              "      <td>4.6</td>\n",
              "      <td>90.0</td>\n",
              "      <td>{'lat': -6.137644799999999, 'lng': 106.8171245}</td>\n",
              "      <td>-6.137645</td>\n",
              "      <td>106.817125</td>\n",
              "      <td>NaN</td>\n",
              "      <td>2</td>\n",
              "    </tr>\n",
              "    <tr>\n",
              "      <th>2</th>\n",
              "      <td>3</td>\n",
              "      <td>Dunia Fantasi</td>\n",
              "      <td>Dunia Fantasi atau disebut juga Dufan adalah t...</td>\n",
              "      <td>Taman Hiburan</td>\n",
              "      <td>Jakarta</td>\n",
              "      <td>270000</td>\n",
              "      <td>4.6</td>\n",
              "      <td>360.0</td>\n",
              "      <td>{'lat': -6.125312399999999, 'lng': 106.8335377}</td>\n",
              "      <td>-6.125312</td>\n",
              "      <td>106.833538</td>\n",
              "      <td>NaN</td>\n",
              "      <td>3</td>\n",
              "    </tr>\n",
              "    <tr>\n",
              "      <th>3</th>\n",
              "      <td>4</td>\n",
              "      <td>Taman Mini Indonesia Indah (TMII)</td>\n",
              "      <td>Taman Mini Indonesia Indah merupakan suatu kaw...</td>\n",
              "      <td>Taman Hiburan</td>\n",
              "      <td>Jakarta</td>\n",
              "      <td>10000</td>\n",
              "      <td>4.5</td>\n",
              "      <td>NaN</td>\n",
              "      <td>{'lat': -6.302445899999999, 'lng': 106.8951559}</td>\n",
              "      <td>-6.302446</td>\n",
              "      <td>106.895156</td>\n",
              "      <td>NaN</td>\n",
              "      <td>4</td>\n",
              "    </tr>\n",
              "    <tr>\n",
              "      <th>4</th>\n",
              "      <td>5</td>\n",
              "      <td>Atlantis Water Adventure</td>\n",
              "      <td>Atlantis Water Adventure atau dikenal dengan A...</td>\n",
              "      <td>Taman Hiburan</td>\n",
              "      <td>Jakarta</td>\n",
              "      <td>94000</td>\n",
              "      <td>4.5</td>\n",
              "      <td>60.0</td>\n",
              "      <td>{'lat': -6.12419, 'lng': 106.839134}</td>\n",
              "      <td>-6.124190</td>\n",
              "      <td>106.839134</td>\n",
              "      <td>NaN</td>\n",
              "      <td>5</td>\n",
              "    </tr>\n",
              "    <tr>\n",
              "      <th>...</th>\n",
              "      <td>...</td>\n",
              "      <td>...</td>\n",
              "      <td>...</td>\n",
              "      <td>...</td>\n",
              "      <td>...</td>\n",
              "      <td>...</td>\n",
              "      <td>...</td>\n",
              "      <td>...</td>\n",
              "      <td>...</td>\n",
              "      <td>...</td>\n",
              "      <td>...</td>\n",
              "      <td>...</td>\n",
              "      <td>...</td>\n",
              "    </tr>\n",
              "    <tr>\n",
              "      <th>432</th>\n",
              "      <td>433</td>\n",
              "      <td>Museum Mpu Tantular</td>\n",
              "      <td>Museum Negeri Mpu Tantular adalah sebuah museu...</td>\n",
              "      <td>Budaya</td>\n",
              "      <td>Surabaya</td>\n",
              "      <td>2000</td>\n",
              "      <td>4.4</td>\n",
              "      <td>45.0</td>\n",
              "      <td>{'lat': -7.4338593, 'lng': 112.7199058}</td>\n",
              "      <td>-7.433859</td>\n",
              "      <td>112.719906</td>\n",
              "      <td>NaN</td>\n",
              "      <td>433</td>\n",
              "    </tr>\n",
              "    <tr>\n",
              "      <th>433</th>\n",
              "      <td>434</td>\n",
              "      <td>Taman Bungkul</td>\n",
              "      <td>Taman Bungkul adalah taman wisata kota yang te...</td>\n",
              "      <td>Taman Hiburan</td>\n",
              "      <td>Surabaya</td>\n",
              "      <td>0</td>\n",
              "      <td>4.6</td>\n",
              "      <td>NaN</td>\n",
              "      <td>{'lat': -7.291346799999999, 'lng': 112.7398218}</td>\n",
              "      <td>-7.291347</td>\n",
              "      <td>112.739822</td>\n",
              "      <td>NaN</td>\n",
              "      <td>434</td>\n",
              "    </tr>\n",
              "    <tr>\n",
              "      <th>434</th>\n",
              "      <td>435</td>\n",
              "      <td>Taman Air Mancur Menari Kenjeran</td>\n",
              "      <td>Air mancur menari atau dancing fountain juga a...</td>\n",
              "      <td>Taman Hiburan</td>\n",
              "      <td>Surabaya</td>\n",
              "      <td>0</td>\n",
              "      <td>4.4</td>\n",
              "      <td>45.0</td>\n",
              "      <td>{'lat': -7.2752955, 'lng': 112.7549381}</td>\n",
              "      <td>-7.275296</td>\n",
              "      <td>112.754938</td>\n",
              "      <td>NaN</td>\n",
              "      <td>435</td>\n",
              "    </tr>\n",
              "    <tr>\n",
              "      <th>435</th>\n",
              "      <td>436</td>\n",
              "      <td>Taman Flora Bratang Surabaya</td>\n",
              "      <td>Taman Flora adalah salah satu taman kota di Su...</td>\n",
              "      <td>Taman Hiburan</td>\n",
              "      <td>Surabaya</td>\n",
              "      <td>0</td>\n",
              "      <td>4.6</td>\n",
              "      <td>NaN</td>\n",
              "      <td>{'lat': -7.294330299999999, 'lng': 112.7617534}</td>\n",
              "      <td>-7.294330</td>\n",
              "      <td>112.761753</td>\n",
              "      <td>NaN</td>\n",
              "      <td>436</td>\n",
              "    </tr>\n",
              "    <tr>\n",
              "      <th>436</th>\n",
              "      <td>437</td>\n",
              "      <td>Gereja Perawan Maria Tak Berdosa Surabaya</td>\n",
              "      <td>Gereja Katolik Kelahiran Santa Perawan Maria m...</td>\n",
              "      <td>Tempat Ibadah</td>\n",
              "      <td>Surabaya</td>\n",
              "      <td>10000</td>\n",
              "      <td>4.8</td>\n",
              "      <td>NaN</td>\n",
              "      <td>{'lat': -7.2420758, 'lng': 112.7368158}</td>\n",
              "      <td>-7.242076</td>\n",
              "      <td>112.736816</td>\n",
              "      <td>NaN</td>\n",
              "      <td>437</td>\n",
              "    </tr>\n",
              "  </tbody>\n",
              "</table>\n",
              "<p>437 rows × 13 columns</p>\n",
              "</div>"
            ],
            "text/plain": [
              "     Place_Id  ... Unnamed: 12\n",
              "0           1  ...           1\n",
              "1           2  ...           2\n",
              "2           3  ...           3\n",
              "3           4  ...           4\n",
              "4           5  ...           5\n",
              "..        ...  ...         ...\n",
              "432       433  ...         433\n",
              "433       434  ...         434\n",
              "434       435  ...         435\n",
              "435       436  ...         436\n",
              "436       437  ...         437\n",
              "\n",
              "[437 rows x 13 columns]"
            ]
          },
          "metadata": {},
          "execution_count": 19
        }
      ]
    },
    {
      "cell_type": "code",
      "metadata": {
        "colab": {
          "base_uri": "https://localhost:8080/"
        },
        "id": "yc3BswE5UHnQ",
        "outputId": "14c3b423-d5fb-4ea2-de85-0cbfa7dac394"
      },
      "source": [
        "tourism_info.info()"
      ],
      "execution_count": null,
      "outputs": [
        {
          "output_type": "stream",
          "name": "stdout",
          "text": [
            "<class 'pandas.core.frame.DataFrame'>\n",
            "RangeIndex: 437 entries, 0 to 436\n",
            "Data columns (total 13 columns):\n",
            " #   Column        Non-Null Count  Dtype  \n",
            "---  ------        --------------  -----  \n",
            " 0   Place_Id      437 non-null    int64  \n",
            " 1   Place_Name    437 non-null    object \n",
            " 2   Description   437 non-null    object \n",
            " 3   Category      437 non-null    object \n",
            " 4   City          437 non-null    object \n",
            " 5   Price         437 non-null    int64  \n",
            " 6   Rating        437 non-null    float64\n",
            " 7   Time_Minutes  205 non-null    float64\n",
            " 8   Coordinate    437 non-null    object \n",
            " 9   Lat           437 non-null    float64\n",
            " 10  Long          437 non-null    float64\n",
            " 11  Unnamed: 11   0 non-null      float64\n",
            " 12  Unnamed: 12   437 non-null    int64  \n",
            "dtypes: float64(5), int64(3), object(5)\n",
            "memory usage: 44.5+ KB\n"
          ]
        }
      ]
    },
    {
      "cell_type": "markdown",
      "metadata": {
        "id": "tNSfY9AZUOcY"
      },
      "source": [
        "Di dalam file tourism_info terdapat 13 kolom tetapi, ada 2 kolom dengan nama yang tidak jelas/tidak bisa dipahami maka kolom tersebut akan dihapus."
      ]
    },
    {
      "cell_type": "code",
      "metadata": {
        "colab": {
          "base_uri": "https://localhost:8080/",
          "height": 606
        },
        "id": "xncEDSf6UcgU",
        "outputId": "af366aff-5153-445c-feca-e355c8b916dd"
      },
      "source": [
        "tourism_inform = tourism_info.loc[:, ~tourism_info.columns.str.contains('^Unnamed')]\n",
        "tourism_inform"
      ],
      "execution_count": null,
      "outputs": [
        {
          "output_type": "execute_result",
          "data": {
            "text/html": [
              "<div>\n",
              "<style scoped>\n",
              "    .dataframe tbody tr th:only-of-type {\n",
              "        vertical-align: middle;\n",
              "    }\n",
              "\n",
              "    .dataframe tbody tr th {\n",
              "        vertical-align: top;\n",
              "    }\n",
              "\n",
              "    .dataframe thead th {\n",
              "        text-align: right;\n",
              "    }\n",
              "</style>\n",
              "<table border=\"1\" class=\"dataframe\">\n",
              "  <thead>\n",
              "    <tr style=\"text-align: right;\">\n",
              "      <th></th>\n",
              "      <th>Place_Id</th>\n",
              "      <th>Place_Name</th>\n",
              "      <th>Description</th>\n",
              "      <th>Category</th>\n",
              "      <th>City</th>\n",
              "      <th>Price</th>\n",
              "      <th>Rating</th>\n",
              "      <th>Time_Minutes</th>\n",
              "      <th>Coordinate</th>\n",
              "      <th>Lat</th>\n",
              "      <th>Long</th>\n",
              "    </tr>\n",
              "  </thead>\n",
              "  <tbody>\n",
              "    <tr>\n",
              "      <th>0</th>\n",
              "      <td>1</td>\n",
              "      <td>Monumen Nasional</td>\n",
              "      <td>Monumen Nasional atau yang populer disingkat d...</td>\n",
              "      <td>Budaya</td>\n",
              "      <td>Jakarta</td>\n",
              "      <td>20000</td>\n",
              "      <td>4.6</td>\n",
              "      <td>15.0</td>\n",
              "      <td>{'lat': -6.1753924, 'lng': 106.8271528}</td>\n",
              "      <td>-6.175392</td>\n",
              "      <td>106.827153</td>\n",
              "    </tr>\n",
              "    <tr>\n",
              "      <th>1</th>\n",
              "      <td>2</td>\n",
              "      <td>Kota Tua</td>\n",
              "      <td>Kota tua di Jakarta, yang juga bernama Kota Tu...</td>\n",
              "      <td>Budaya</td>\n",
              "      <td>Jakarta</td>\n",
              "      <td>0</td>\n",
              "      <td>4.6</td>\n",
              "      <td>90.0</td>\n",
              "      <td>{'lat': -6.137644799999999, 'lng': 106.8171245}</td>\n",
              "      <td>-6.137645</td>\n",
              "      <td>106.817125</td>\n",
              "    </tr>\n",
              "    <tr>\n",
              "      <th>2</th>\n",
              "      <td>3</td>\n",
              "      <td>Dunia Fantasi</td>\n",
              "      <td>Dunia Fantasi atau disebut juga Dufan adalah t...</td>\n",
              "      <td>Taman Hiburan</td>\n",
              "      <td>Jakarta</td>\n",
              "      <td>270000</td>\n",
              "      <td>4.6</td>\n",
              "      <td>360.0</td>\n",
              "      <td>{'lat': -6.125312399999999, 'lng': 106.8335377}</td>\n",
              "      <td>-6.125312</td>\n",
              "      <td>106.833538</td>\n",
              "    </tr>\n",
              "    <tr>\n",
              "      <th>3</th>\n",
              "      <td>4</td>\n",
              "      <td>Taman Mini Indonesia Indah (TMII)</td>\n",
              "      <td>Taman Mini Indonesia Indah merupakan suatu kaw...</td>\n",
              "      <td>Taman Hiburan</td>\n",
              "      <td>Jakarta</td>\n",
              "      <td>10000</td>\n",
              "      <td>4.5</td>\n",
              "      <td>NaN</td>\n",
              "      <td>{'lat': -6.302445899999999, 'lng': 106.8951559}</td>\n",
              "      <td>-6.302446</td>\n",
              "      <td>106.895156</td>\n",
              "    </tr>\n",
              "    <tr>\n",
              "      <th>4</th>\n",
              "      <td>5</td>\n",
              "      <td>Atlantis Water Adventure</td>\n",
              "      <td>Atlantis Water Adventure atau dikenal dengan A...</td>\n",
              "      <td>Taman Hiburan</td>\n",
              "      <td>Jakarta</td>\n",
              "      <td>94000</td>\n",
              "      <td>4.5</td>\n",
              "      <td>60.0</td>\n",
              "      <td>{'lat': -6.12419, 'lng': 106.839134}</td>\n",
              "      <td>-6.124190</td>\n",
              "      <td>106.839134</td>\n",
              "    </tr>\n",
              "    <tr>\n",
              "      <th>...</th>\n",
              "      <td>...</td>\n",
              "      <td>...</td>\n",
              "      <td>...</td>\n",
              "      <td>...</td>\n",
              "      <td>...</td>\n",
              "      <td>...</td>\n",
              "      <td>...</td>\n",
              "      <td>...</td>\n",
              "      <td>...</td>\n",
              "      <td>...</td>\n",
              "      <td>...</td>\n",
              "    </tr>\n",
              "    <tr>\n",
              "      <th>432</th>\n",
              "      <td>433</td>\n",
              "      <td>Museum Mpu Tantular</td>\n",
              "      <td>Museum Negeri Mpu Tantular adalah sebuah museu...</td>\n",
              "      <td>Budaya</td>\n",
              "      <td>Surabaya</td>\n",
              "      <td>2000</td>\n",
              "      <td>4.4</td>\n",
              "      <td>45.0</td>\n",
              "      <td>{'lat': -7.4338593, 'lng': 112.7199058}</td>\n",
              "      <td>-7.433859</td>\n",
              "      <td>112.719906</td>\n",
              "    </tr>\n",
              "    <tr>\n",
              "      <th>433</th>\n",
              "      <td>434</td>\n",
              "      <td>Taman Bungkul</td>\n",
              "      <td>Taman Bungkul adalah taman wisata kota yang te...</td>\n",
              "      <td>Taman Hiburan</td>\n",
              "      <td>Surabaya</td>\n",
              "      <td>0</td>\n",
              "      <td>4.6</td>\n",
              "      <td>NaN</td>\n",
              "      <td>{'lat': -7.291346799999999, 'lng': 112.7398218}</td>\n",
              "      <td>-7.291347</td>\n",
              "      <td>112.739822</td>\n",
              "    </tr>\n",
              "    <tr>\n",
              "      <th>434</th>\n",
              "      <td>435</td>\n",
              "      <td>Taman Air Mancur Menari Kenjeran</td>\n",
              "      <td>Air mancur menari atau dancing fountain juga a...</td>\n",
              "      <td>Taman Hiburan</td>\n",
              "      <td>Surabaya</td>\n",
              "      <td>0</td>\n",
              "      <td>4.4</td>\n",
              "      <td>45.0</td>\n",
              "      <td>{'lat': -7.2752955, 'lng': 112.7549381}</td>\n",
              "      <td>-7.275296</td>\n",
              "      <td>112.754938</td>\n",
              "    </tr>\n",
              "    <tr>\n",
              "      <th>435</th>\n",
              "      <td>436</td>\n",
              "      <td>Taman Flora Bratang Surabaya</td>\n",
              "      <td>Taman Flora adalah salah satu taman kota di Su...</td>\n",
              "      <td>Taman Hiburan</td>\n",
              "      <td>Surabaya</td>\n",
              "      <td>0</td>\n",
              "      <td>4.6</td>\n",
              "      <td>NaN</td>\n",
              "      <td>{'lat': -7.294330299999999, 'lng': 112.7617534}</td>\n",
              "      <td>-7.294330</td>\n",
              "      <td>112.761753</td>\n",
              "    </tr>\n",
              "    <tr>\n",
              "      <th>436</th>\n",
              "      <td>437</td>\n",
              "      <td>Gereja Perawan Maria Tak Berdosa Surabaya</td>\n",
              "      <td>Gereja Katolik Kelahiran Santa Perawan Maria m...</td>\n",
              "      <td>Tempat Ibadah</td>\n",
              "      <td>Surabaya</td>\n",
              "      <td>10000</td>\n",
              "      <td>4.8</td>\n",
              "      <td>NaN</td>\n",
              "      <td>{'lat': -7.2420758, 'lng': 112.7368158}</td>\n",
              "      <td>-7.242076</td>\n",
              "      <td>112.736816</td>\n",
              "    </tr>\n",
              "  </tbody>\n",
              "</table>\n",
              "<p>437 rows × 11 columns</p>\n",
              "</div>"
            ],
            "text/plain": [
              "     Place_Id                                 Place_Name  ...       Lat        Long\n",
              "0           1                           Monumen Nasional  ... -6.175392  106.827153\n",
              "1           2                                   Kota Tua  ... -6.137645  106.817125\n",
              "2           3                              Dunia Fantasi  ... -6.125312  106.833538\n",
              "3           4          Taman Mini Indonesia Indah (TMII)  ... -6.302446  106.895156\n",
              "4           5                   Atlantis Water Adventure  ... -6.124190  106.839134\n",
              "..        ...                                        ...  ...       ...         ...\n",
              "432       433                        Museum Mpu Tantular  ... -7.433859  112.719906\n",
              "433       434                              Taman Bungkul  ... -7.291347  112.739822\n",
              "434       435           Taman Air Mancur Menari Kenjeran  ... -7.275296  112.754938\n",
              "435       436               Taman Flora Bratang Surabaya  ... -7.294330  112.761753\n",
              "436       437  Gereja Perawan Maria Tak Berdosa Surabaya  ... -7.242076  112.736816\n",
              "\n",
              "[437 rows x 11 columns]"
            ]
          },
          "metadata": {},
          "execution_count": 21
        }
      ]
    },
    {
      "cell_type": "markdown",
      "metadata": {
        "id": "D3acyM6IUGKX"
      },
      "source": [
        "Diketahui bahwa :\n",
        "- Place-Id : id untuk tempat wisata\n",
        "- Place_Name: Nama dari lokasi wisata\n",
        "- Description: penjelasan singkat mengenai tempat wisata tersebut\n",
        "- Category: wisata termasuk dalam kategori apa(budaya, taman-hiburan dll)\n",
        "- City: Lokasi tempat wisata(kota)\n",
        "- Price: biaya masuk ke lokasi wisata \n",
        "- Rating : tingkat kepuasan pelanggan\n",
        "- Time_Minutes: waktu perjalanan\n",
        "- Coordinate: koordinat dari lokasi wisata\n",
        "- Lat: Garis Lintang\n",
        "- Long: Garis Bujur\n",
        "\n",
        "Variable tourism_info memiliki 437 data, karena di dalam minut terdapat nan/missing value, makan missing value tersebut diganti dengan nilai rata-rata dari data pada column tersebut.\n"
      ]
    },
    {
      "cell_type": "code",
      "metadata": {
        "colab": {
          "base_uri": "https://localhost:8080/"
        },
        "id": "F7sih6CkcYPM",
        "outputId": "b4bba463-ba3d-4c4b-8b46-b84123d53ba8"
      },
      "source": [
        "tourism_inform.isna().sum()"
      ],
      "execution_count": null,
      "outputs": [
        {
          "output_type": "execute_result",
          "data": {
            "text/plain": [
              "Place_Id          0\n",
              "Place_Name        0\n",
              "Description       0\n",
              "Category          0\n",
              "City              0\n",
              "Price             0\n",
              "Rating            0\n",
              "Time_Minutes    232\n",
              "Coordinate        0\n",
              "Lat               0\n",
              "Long              0\n",
              "dtype: int64"
            ]
          },
          "metadata": {},
          "execution_count": 22
        }
      ]
    },
    {
      "cell_type": "markdown",
      "metadata": {
        "id": "hdtn2TBxd92v"
      },
      "source": [
        "Data time minutes memiliki banyak missing value, kalau data row yang mengandung missing value dihapus maka akan berakibat berkurangnya data hampir 50% sehingga untuk mengatasi itu, dipilih untuk drop data time_minus dari dataFrame, untuk mencegah kehilangan data yang banyak.\n"
      ]
    },
    {
      "cell_type": "code",
      "metadata": {
        "colab": {
          "base_uri": "https://localhost:8080/",
          "height": 589
        },
        "id": "yApFCFwmesm7",
        "outputId": "3337602e-a82c-471e-f6f5-80dcabb8c34c"
      },
      "source": [
        "tourism_inform = tourism_inform.drop(columns=[\"Time_Minutes\"])\n",
        "tourism_inform"
      ],
      "execution_count": null,
      "outputs": [
        {
          "output_type": "execute_result",
          "data": {
            "text/html": [
              "<div>\n",
              "<style scoped>\n",
              "    .dataframe tbody tr th:only-of-type {\n",
              "        vertical-align: middle;\n",
              "    }\n",
              "\n",
              "    .dataframe tbody tr th {\n",
              "        vertical-align: top;\n",
              "    }\n",
              "\n",
              "    .dataframe thead th {\n",
              "        text-align: right;\n",
              "    }\n",
              "</style>\n",
              "<table border=\"1\" class=\"dataframe\">\n",
              "  <thead>\n",
              "    <tr style=\"text-align: right;\">\n",
              "      <th></th>\n",
              "      <th>Place_Id</th>\n",
              "      <th>Place_Name</th>\n",
              "      <th>Description</th>\n",
              "      <th>Category</th>\n",
              "      <th>City</th>\n",
              "      <th>Price</th>\n",
              "      <th>Rating</th>\n",
              "      <th>Coordinate</th>\n",
              "      <th>Lat</th>\n",
              "      <th>Long</th>\n",
              "    </tr>\n",
              "  </thead>\n",
              "  <tbody>\n",
              "    <tr>\n",
              "      <th>0</th>\n",
              "      <td>1</td>\n",
              "      <td>Monumen Nasional</td>\n",
              "      <td>Monumen Nasional atau yang populer disingkat d...</td>\n",
              "      <td>Budaya</td>\n",
              "      <td>Jakarta</td>\n",
              "      <td>20000</td>\n",
              "      <td>4.6</td>\n",
              "      <td>{'lat': -6.1753924, 'lng': 106.8271528}</td>\n",
              "      <td>-6.175392</td>\n",
              "      <td>106.827153</td>\n",
              "    </tr>\n",
              "    <tr>\n",
              "      <th>1</th>\n",
              "      <td>2</td>\n",
              "      <td>Kota Tua</td>\n",
              "      <td>Kota tua di Jakarta, yang juga bernama Kota Tu...</td>\n",
              "      <td>Budaya</td>\n",
              "      <td>Jakarta</td>\n",
              "      <td>0</td>\n",
              "      <td>4.6</td>\n",
              "      <td>{'lat': -6.137644799999999, 'lng': 106.8171245}</td>\n",
              "      <td>-6.137645</td>\n",
              "      <td>106.817125</td>\n",
              "    </tr>\n",
              "    <tr>\n",
              "      <th>2</th>\n",
              "      <td>3</td>\n",
              "      <td>Dunia Fantasi</td>\n",
              "      <td>Dunia Fantasi atau disebut juga Dufan adalah t...</td>\n",
              "      <td>Taman Hiburan</td>\n",
              "      <td>Jakarta</td>\n",
              "      <td>270000</td>\n",
              "      <td>4.6</td>\n",
              "      <td>{'lat': -6.125312399999999, 'lng': 106.8335377}</td>\n",
              "      <td>-6.125312</td>\n",
              "      <td>106.833538</td>\n",
              "    </tr>\n",
              "    <tr>\n",
              "      <th>3</th>\n",
              "      <td>4</td>\n",
              "      <td>Taman Mini Indonesia Indah (TMII)</td>\n",
              "      <td>Taman Mini Indonesia Indah merupakan suatu kaw...</td>\n",
              "      <td>Taman Hiburan</td>\n",
              "      <td>Jakarta</td>\n",
              "      <td>10000</td>\n",
              "      <td>4.5</td>\n",
              "      <td>{'lat': -6.302445899999999, 'lng': 106.8951559}</td>\n",
              "      <td>-6.302446</td>\n",
              "      <td>106.895156</td>\n",
              "    </tr>\n",
              "    <tr>\n",
              "      <th>4</th>\n",
              "      <td>5</td>\n",
              "      <td>Atlantis Water Adventure</td>\n",
              "      <td>Atlantis Water Adventure atau dikenal dengan A...</td>\n",
              "      <td>Taman Hiburan</td>\n",
              "      <td>Jakarta</td>\n",
              "      <td>94000</td>\n",
              "      <td>4.5</td>\n",
              "      <td>{'lat': -6.12419, 'lng': 106.839134}</td>\n",
              "      <td>-6.124190</td>\n",
              "      <td>106.839134</td>\n",
              "    </tr>\n",
              "    <tr>\n",
              "      <th>...</th>\n",
              "      <td>...</td>\n",
              "      <td>...</td>\n",
              "      <td>...</td>\n",
              "      <td>...</td>\n",
              "      <td>...</td>\n",
              "      <td>...</td>\n",
              "      <td>...</td>\n",
              "      <td>...</td>\n",
              "      <td>...</td>\n",
              "      <td>...</td>\n",
              "    </tr>\n",
              "    <tr>\n",
              "      <th>432</th>\n",
              "      <td>433</td>\n",
              "      <td>Museum Mpu Tantular</td>\n",
              "      <td>Museum Negeri Mpu Tantular adalah sebuah museu...</td>\n",
              "      <td>Budaya</td>\n",
              "      <td>Surabaya</td>\n",
              "      <td>2000</td>\n",
              "      <td>4.4</td>\n",
              "      <td>{'lat': -7.4338593, 'lng': 112.7199058}</td>\n",
              "      <td>-7.433859</td>\n",
              "      <td>112.719906</td>\n",
              "    </tr>\n",
              "    <tr>\n",
              "      <th>433</th>\n",
              "      <td>434</td>\n",
              "      <td>Taman Bungkul</td>\n",
              "      <td>Taman Bungkul adalah taman wisata kota yang te...</td>\n",
              "      <td>Taman Hiburan</td>\n",
              "      <td>Surabaya</td>\n",
              "      <td>0</td>\n",
              "      <td>4.6</td>\n",
              "      <td>{'lat': -7.291346799999999, 'lng': 112.7398218}</td>\n",
              "      <td>-7.291347</td>\n",
              "      <td>112.739822</td>\n",
              "    </tr>\n",
              "    <tr>\n",
              "      <th>434</th>\n",
              "      <td>435</td>\n",
              "      <td>Taman Air Mancur Menari Kenjeran</td>\n",
              "      <td>Air mancur menari atau dancing fountain juga a...</td>\n",
              "      <td>Taman Hiburan</td>\n",
              "      <td>Surabaya</td>\n",
              "      <td>0</td>\n",
              "      <td>4.4</td>\n",
              "      <td>{'lat': -7.2752955, 'lng': 112.7549381}</td>\n",
              "      <td>-7.275296</td>\n",
              "      <td>112.754938</td>\n",
              "    </tr>\n",
              "    <tr>\n",
              "      <th>435</th>\n",
              "      <td>436</td>\n",
              "      <td>Taman Flora Bratang Surabaya</td>\n",
              "      <td>Taman Flora adalah salah satu taman kota di Su...</td>\n",
              "      <td>Taman Hiburan</td>\n",
              "      <td>Surabaya</td>\n",
              "      <td>0</td>\n",
              "      <td>4.6</td>\n",
              "      <td>{'lat': -7.294330299999999, 'lng': 112.7617534}</td>\n",
              "      <td>-7.294330</td>\n",
              "      <td>112.761753</td>\n",
              "    </tr>\n",
              "    <tr>\n",
              "      <th>436</th>\n",
              "      <td>437</td>\n",
              "      <td>Gereja Perawan Maria Tak Berdosa Surabaya</td>\n",
              "      <td>Gereja Katolik Kelahiran Santa Perawan Maria m...</td>\n",
              "      <td>Tempat Ibadah</td>\n",
              "      <td>Surabaya</td>\n",
              "      <td>10000</td>\n",
              "      <td>4.8</td>\n",
              "      <td>{'lat': -7.2420758, 'lng': 112.7368158}</td>\n",
              "      <td>-7.242076</td>\n",
              "      <td>112.736816</td>\n",
              "    </tr>\n",
              "  </tbody>\n",
              "</table>\n",
              "<p>437 rows × 10 columns</p>\n",
              "</div>"
            ],
            "text/plain": [
              "     Place_Id                                 Place_Name  ...       Lat        Long\n",
              "0           1                           Monumen Nasional  ... -6.175392  106.827153\n",
              "1           2                                   Kota Tua  ... -6.137645  106.817125\n",
              "2           3                              Dunia Fantasi  ... -6.125312  106.833538\n",
              "3           4          Taman Mini Indonesia Indah (TMII)  ... -6.302446  106.895156\n",
              "4           5                   Atlantis Water Adventure  ... -6.124190  106.839134\n",
              "..        ...                                        ...  ...       ...         ...\n",
              "432       433                        Museum Mpu Tantular  ... -7.433859  112.719906\n",
              "433       434                              Taman Bungkul  ... -7.291347  112.739822\n",
              "434       435           Taman Air Mancur Menari Kenjeran  ... -7.275296  112.754938\n",
              "435       436               Taman Flora Bratang Surabaya  ... -7.294330  112.761753\n",
              "436       437  Gereja Perawan Maria Tak Berdosa Surabaya  ... -7.242076  112.736816\n",
              "\n",
              "[437 rows x 10 columns]"
            ]
          },
          "metadata": {},
          "execution_count": 23
        }
      ]
    },
    {
      "cell_type": "markdown",
      "metadata": {
        "id": "pbEUe3w7_joR"
      },
      "source": [
        "## Content Based Filtering\n",
        "\n",
        "Teknik yang digunakan untuk memberikan rekomendasi kepada user berdasarkan history pencarian yang mirip."
      ]
    },
    {
      "cell_type": "markdown",
      "metadata": {
        "id": "g5e-6xHH6yyH"
      },
      "source": [
        "### Data Preparation\n",
        "\n",
        "Menyiapkan data yang akan digunakan untuk membuat sistem rekomendasi berdasarkan history item.\n",
        "\n",
        "Data yang digunakan adalah data tourism_with_id/tourism_inform data yang berisi mengenai penjelasan lokasi wisata, data berjumlah 437. Data yang digunaka akan diambil dan disimpan kedalam sebuah dataFrame baru, data yang akan diambil adalah place_id, place_name dan place_city."
      ]
    },
    {
      "cell_type": "code",
      "metadata": {
        "colab": {
          "base_uri": "https://localhost:8080/",
          "height": 419
        },
        "id": "9fxpXsn56yXV",
        "outputId": "dc90351b-2bb7-4fd8-de0e-05a3cc78920d"
      },
      "source": [
        "data_preparation = tourism_inform\n",
        "\n",
        "id_place = data_preparation['Place_Id'].tolist()\n",
        "city = data_preparation['City'].tolist()\n",
        "name_place = data_preparation['Place_Name'].tolist()\n",
        "#category_place = data_preparation['Category']\n",
        "data_content = pd.DataFrame({\n",
        "    'place_id' :id_place,\n",
        "    'place_city' : city,\n",
        "    'place_name': name_place,\n",
        "    #'place_category': category_place,\n",
        "})\n",
        "data_content"
      ],
      "execution_count": null,
      "outputs": [
        {
          "output_type": "execute_result",
          "data": {
            "text/html": [
              "<div>\n",
              "<style scoped>\n",
              "    .dataframe tbody tr th:only-of-type {\n",
              "        vertical-align: middle;\n",
              "    }\n",
              "\n",
              "    .dataframe tbody tr th {\n",
              "        vertical-align: top;\n",
              "    }\n",
              "\n",
              "    .dataframe thead th {\n",
              "        text-align: right;\n",
              "    }\n",
              "</style>\n",
              "<table border=\"1\" class=\"dataframe\">\n",
              "  <thead>\n",
              "    <tr style=\"text-align: right;\">\n",
              "      <th></th>\n",
              "      <th>place_id</th>\n",
              "      <th>place_city</th>\n",
              "      <th>place_name</th>\n",
              "    </tr>\n",
              "  </thead>\n",
              "  <tbody>\n",
              "    <tr>\n",
              "      <th>0</th>\n",
              "      <td>1</td>\n",
              "      <td>Jakarta</td>\n",
              "      <td>Monumen Nasional</td>\n",
              "    </tr>\n",
              "    <tr>\n",
              "      <th>1</th>\n",
              "      <td>2</td>\n",
              "      <td>Jakarta</td>\n",
              "      <td>Kota Tua</td>\n",
              "    </tr>\n",
              "    <tr>\n",
              "      <th>2</th>\n",
              "      <td>3</td>\n",
              "      <td>Jakarta</td>\n",
              "      <td>Dunia Fantasi</td>\n",
              "    </tr>\n",
              "    <tr>\n",
              "      <th>3</th>\n",
              "      <td>4</td>\n",
              "      <td>Jakarta</td>\n",
              "      <td>Taman Mini Indonesia Indah (TMII)</td>\n",
              "    </tr>\n",
              "    <tr>\n",
              "      <th>4</th>\n",
              "      <td>5</td>\n",
              "      <td>Jakarta</td>\n",
              "      <td>Atlantis Water Adventure</td>\n",
              "    </tr>\n",
              "    <tr>\n",
              "      <th>...</th>\n",
              "      <td>...</td>\n",
              "      <td>...</td>\n",
              "      <td>...</td>\n",
              "    </tr>\n",
              "    <tr>\n",
              "      <th>432</th>\n",
              "      <td>433</td>\n",
              "      <td>Surabaya</td>\n",
              "      <td>Museum Mpu Tantular</td>\n",
              "    </tr>\n",
              "    <tr>\n",
              "      <th>433</th>\n",
              "      <td>434</td>\n",
              "      <td>Surabaya</td>\n",
              "      <td>Taman Bungkul</td>\n",
              "    </tr>\n",
              "    <tr>\n",
              "      <th>434</th>\n",
              "      <td>435</td>\n",
              "      <td>Surabaya</td>\n",
              "      <td>Taman Air Mancur Menari Kenjeran</td>\n",
              "    </tr>\n",
              "    <tr>\n",
              "      <th>435</th>\n",
              "      <td>436</td>\n",
              "      <td>Surabaya</td>\n",
              "      <td>Taman Flora Bratang Surabaya</td>\n",
              "    </tr>\n",
              "    <tr>\n",
              "      <th>436</th>\n",
              "      <td>437</td>\n",
              "      <td>Surabaya</td>\n",
              "      <td>Gereja Perawan Maria Tak Berdosa Surabaya</td>\n",
              "    </tr>\n",
              "  </tbody>\n",
              "</table>\n",
              "<p>437 rows × 3 columns</p>\n",
              "</div>"
            ],
            "text/plain": [
              "     place_id place_city                                 place_name\n",
              "0           1    Jakarta                           Monumen Nasional\n",
              "1           2    Jakarta                                   Kota Tua\n",
              "2           3    Jakarta                              Dunia Fantasi\n",
              "3           4    Jakarta          Taman Mini Indonesia Indah (TMII)\n",
              "4           5    Jakarta                   Atlantis Water Adventure\n",
              "..        ...        ...                                        ...\n",
              "432       433   Surabaya                        Museum Mpu Tantular\n",
              "433       434   Surabaya                              Taman Bungkul\n",
              "434       435   Surabaya           Taman Air Mancur Menari Kenjeran\n",
              "435       436   Surabaya               Taman Flora Bratang Surabaya\n",
              "436       437   Surabaya  Gereja Perawan Maria Tak Berdosa Surabaya\n",
              "\n",
              "[437 rows x 3 columns]"
            ]
          },
          "metadata": {},
          "execution_count": 70
        }
      ]
    },
    {
      "cell_type": "code",
      "metadata": {
        "colab": {
          "base_uri": "https://localhost:8080/"
        },
        "id": "g1fMJ5pTXmiI",
        "outputId": "c17c60bc-985e-415c-aeaf-cf65aa421752"
      },
      "source": [
        "data_content.isna().values.any()"
      ],
      "execution_count": null,
      "outputs": [
        {
          "output_type": "execute_result",
          "data": {
            "text/plain": [
              "False"
            ]
          },
          "metadata": {},
          "execution_count": 74
        }
      ]
    },
    {
      "cell_type": "markdown",
      "metadata": {
        "id": "XQCZlAnSRLxp"
      },
      "source": [
        "### TFIDF (Matrix)\n",
        "\n",
        "Untuk melakukan Content Filtering disini menggunakan TfidVectorizer yang berfungsi untuk konvert/merubah raw document menjadi matrix.\n",
        "\n",
        "Data yang akan dirubah menjadi matrix adalah data City/nama Kota"
      ]
    },
    {
      "cell_type": "code",
      "metadata": {
        "id": "fk1AZ84YwJui"
      },
      "source": [
        "vector = TfidfVectorizer()"
      ],
      "execution_count": null,
      "outputs": []
    },
    {
      "cell_type": "code",
      "metadata": {
        "id": "Se0u9txu-lFe",
        "colab": {
          "base_uri": "https://localhost:8080/"
        },
        "outputId": "1479f610-2240-4b02-a8ef-7775e38d9e48"
      },
      "source": [
        "vector.fit(data_content['place_city'])\n",
        "vector.get_feature_names()"
      ],
      "execution_count": null,
      "outputs": [
        {
          "output_type": "execute_result",
          "data": {
            "text/plain": [
              "['bandung', 'jakarta', 'semarang', 'surabaya', 'yogyakarta']"
            ]
          },
          "metadata": {},
          "execution_count": 26
        }
      ]
    },
    {
      "cell_type": "markdown",
      "metadata": {
        "id": "f_qvolP4guH1"
      },
      "source": [
        "Data City memiliki 5 lokasi/kota yaitu :\n",
        "* bandung\n",
        "* Surabaya\n",
        "* Jakarta \n",
        "* yogyakarta\n",
        "* Semarang\n",
        "\n",
        "`fit` digunakan untuk mempelajari kosakata dari data yang akan digunakan\n",
        "\n",
        "`fit_transform` digunakan untuk mempelajari kosakata dan diubah menjadi IDF yang memberikan nilai berupa matrix\n"
      ]
    },
    {
      "cell_type": "code",
      "metadata": {
        "colab": {
          "base_uri": "https://localhost:8080/"
        },
        "id": "JIkShTuxw0KZ",
        "outputId": "da2a273a-6766-4c29-ab9b-dae501cca5db"
      },
      "source": [
        "matrix = vector.fit_transform(data_content['place_city'])\n",
        "matrix.shape"
      ],
      "execution_count": null,
      "outputs": [
        {
          "output_type": "execute_result",
          "data": {
            "text/plain": [
              "(437, 5)"
            ]
          },
          "metadata": {},
          "execution_count": 27
        }
      ]
    },
    {
      "cell_type": "markdown",
      "metadata": {
        "id": "e8Yiz128i4BG"
      },
      "source": [
        "Data hasil konversi disimpan dalam variable matrix, data ini memiliki ukuran (437, 5), nilai 5 diambil dari 5 kota(feature yang berada pada place_city)"
      ]
    },
    {
      "cell_type": "markdown",
      "metadata": {
        "id": "UseYJzqlguRk"
      },
      "source": [
        "Data lalu akan dirubah menjadi satu dataFrame, didalam dataframe tersebut data hasil matrix akan dirubah menjadi vektor dengan menggunakan `.todense()` \n",
        "\n",
        "Data akan diambil 5 sample untuk sumbu x dan sumbu y"
      ]
    },
    {
      "cell_type": "code",
      "metadata": {
        "colab": {
          "base_uri": "https://localhost:8080/",
          "height": 252
        },
        "id": "qv_na8b7zzBT",
        "outputId": "12a680fc-28cc-41fd-a1a8-bd136f3683cd"
      },
      "source": [
        "pd.DataFrame(\n",
        "    matrix.todense(),\n",
        "    columns = vector.get_feature_names(),\n",
        "    index = data_content.place_name,\n",
        ").sample(5, axis=0).sample(5, axis=1)"
      ],
      "execution_count": null,
      "outputs": [
        {
          "output_type": "execute_result",
          "data": {
            "text/html": [
              "<div>\n",
              "<style scoped>\n",
              "    .dataframe tbody tr th:only-of-type {\n",
              "        vertical-align: middle;\n",
              "    }\n",
              "\n",
              "    .dataframe tbody tr th {\n",
              "        vertical-align: top;\n",
              "    }\n",
              "\n",
              "    .dataframe thead th {\n",
              "        text-align: right;\n",
              "    }\n",
              "</style>\n",
              "<table border=\"1\" class=\"dataframe\">\n",
              "  <thead>\n",
              "    <tr style=\"text-align: right;\">\n",
              "      <th></th>\n",
              "      <th>bandung</th>\n",
              "      <th>semarang</th>\n",
              "      <th>jakarta</th>\n",
              "      <th>surabaya</th>\n",
              "      <th>yogyakarta</th>\n",
              "    </tr>\n",
              "    <tr>\n",
              "      <th>place_name</th>\n",
              "      <th></th>\n",
              "      <th></th>\n",
              "      <th></th>\n",
              "      <th></th>\n",
              "      <th></th>\n",
              "    </tr>\n",
              "  </thead>\n",
              "  <tbody>\n",
              "    <tr>\n",
              "      <th>Museum Mandala Wangsit Siliwangi</th>\n",
              "      <td>1.0</td>\n",
              "      <td>0.0</td>\n",
              "      <td>0.0</td>\n",
              "      <td>0.0</td>\n",
              "      <td>0.0</td>\n",
              "    </tr>\n",
              "    <tr>\n",
              "      <th>Gembira Loka Zoo</th>\n",
              "      <td>0.0</td>\n",
              "      <td>0.0</td>\n",
              "      <td>0.0</td>\n",
              "      <td>0.0</td>\n",
              "      <td>1.0</td>\n",
              "    </tr>\n",
              "    <tr>\n",
              "      <th>Masjid Salman ITB</th>\n",
              "      <td>1.0</td>\n",
              "      <td>0.0</td>\n",
              "      <td>0.0</td>\n",
              "      <td>0.0</td>\n",
              "      <td>0.0</td>\n",
              "    </tr>\n",
              "    <tr>\n",
              "      <th>Candi Donotirto</th>\n",
              "      <td>0.0</td>\n",
              "      <td>0.0</td>\n",
              "      <td>0.0</td>\n",
              "      <td>0.0</td>\n",
              "      <td>1.0</td>\n",
              "    </tr>\n",
              "    <tr>\n",
              "      <th>Museum Perangko</th>\n",
              "      <td>0.0</td>\n",
              "      <td>0.0</td>\n",
              "      <td>1.0</td>\n",
              "      <td>0.0</td>\n",
              "      <td>0.0</td>\n",
              "    </tr>\n",
              "  </tbody>\n",
              "</table>\n",
              "</div>"
            ],
            "text/plain": [
              "                                  bandung  semarang  ...  surabaya  yogyakarta\n",
              "place_name                                           ...                      \n",
              "Museum Mandala Wangsit Siliwangi      1.0       0.0  ...       0.0         0.0\n",
              "Gembira Loka Zoo                      0.0       0.0  ...       0.0         1.0\n",
              "Masjid Salman ITB                     1.0       0.0  ...       0.0         0.0\n",
              "Candi Donotirto                       0.0       0.0  ...       0.0         1.0\n",
              "Museum Perangko                       0.0       0.0  ...       0.0         0.0\n",
              "\n",
              "[5 rows x 5 columns]"
            ]
          },
          "metadata": {},
          "execution_count": 28
        }
      ]
    },
    {
      "cell_type": "markdown",
      "metadata": {
        "id": "8B84igAkjowS"
      },
      "source": [
        "Diketahui bahwa seiap tempat akan berkorelasi dengan city/kota yang ditandai dengan nilai 1.0\n",
        "\n",
        "Contoh Goa Gong memiliki nilai 1.0 pada kota Semarang, jadi Goa Gong terletak di semarang"
      ]
    },
    {
      "cell_type": "markdown",
      "metadata": {
        "id": "MXYB-C47guOz"
      },
      "source": [
        "### Cosine Similarity\n",
        "Berfungsi untuk mengitung kesamaan data antar nama lokasi wisata.\n",
        "Library yang digunakan adalah cosine_similarity\n",
        "\n",
        "\n",
        "\n",
        "\\begin{align}\n",
        "  K(X, Y) = \\frac{<X, Y>}{(||X|| * ||Y||}\n",
        "\\end{align}\n"
      ]
    },
    {
      "cell_type": "code",
      "metadata": {
        "id": "SiF75luh0Fcq"
      },
      "source": [
        "similarity = cosine_similarity(matrix, matrix)"
      ],
      "execution_count": null,
      "outputs": []
    },
    {
      "cell_type": "code",
      "metadata": {
        "colab": {
          "base_uri": "https://localhost:8080/"
        },
        "id": "qToZ22dKDSxV",
        "outputId": "70cdd2fd-21ab-44af-a206-6fdd697421e3"
      },
      "source": [
        "similarity"
      ],
      "execution_count": null,
      "outputs": [
        {
          "output_type": "execute_result",
          "data": {
            "text/plain": [
              "array([[1., 1., 1., ..., 0., 0., 0.],\n",
              "       [1., 1., 1., ..., 0., 0., 0.],\n",
              "       [1., 1., 1., ..., 0., 0., 0.],\n",
              "       ...,\n",
              "       [0., 0., 0., ..., 1., 1., 1.],\n",
              "       [0., 0., 0., ..., 1., 1., 1.],\n",
              "       [0., 0., 0., ..., 1., 1., 1.]])"
            ]
          },
          "metadata": {},
          "execution_count": 30
        }
      ]
    },
    {
      "cell_type": "markdown",
      "metadata": {
        "id": "daAmsxphlGwv"
      },
      "source": [
        "Data hasil perhitungan kesaamaan atar fitur akan disimpan dalam variable dataframe. "
      ]
    },
    {
      "cell_type": "code",
      "metadata": {
        "colab": {
          "base_uri": "https://localhost:8080/",
          "height": 320
        },
        "id": "eQrfCFbkDbIA",
        "outputId": "241c6799-4f19-49e9-a0cd-a90ded276a2e"
      },
      "source": [
        "similarity_to_df = pd.DataFrame(\n",
        "    similarity,\n",
        "    columns = data_content.place_name,\n",
        "    index = data_content.place_name,\n",
        ")\n",
        "print(f'Ukuran dari similarity : {similarity_to_df.shape}')\n",
        "similarity_to_df.sample(5, axis=0).sample(5, axis=1)"
      ],
      "execution_count": null,
      "outputs": [
        {
          "output_type": "stream",
          "name": "stdout",
          "text": [
            "Ukuran dari similarity : (437, 437)\n"
          ]
        },
        {
          "output_type": "execute_result",
          "data": {
            "text/html": [
              "<div>\n",
              "<style scoped>\n",
              "    .dataframe tbody tr th:only-of-type {\n",
              "        vertical-align: middle;\n",
              "    }\n",
              "\n",
              "    .dataframe tbody tr th {\n",
              "        vertical-align: top;\n",
              "    }\n",
              "\n",
              "    .dataframe thead th {\n",
              "        text-align: right;\n",
              "    }\n",
              "</style>\n",
              "<table border=\"1\" class=\"dataframe\">\n",
              "  <thead>\n",
              "    <tr style=\"text-align: right;\">\n",
              "      <th>place_name</th>\n",
              "      <th>Taman Flora Bratang Surabaya</th>\n",
              "      <th>Ciwangun Indah Camp Official</th>\n",
              "      <th>Pasar Seni</th>\n",
              "      <th>Panama Park 825</th>\n",
              "      <th>Taman Jomblo</th>\n",
              "    </tr>\n",
              "    <tr>\n",
              "      <th>place_name</th>\n",
              "      <th></th>\n",
              "      <th></th>\n",
              "      <th></th>\n",
              "      <th></th>\n",
              "      <th></th>\n",
              "    </tr>\n",
              "  </thead>\n",
              "  <tbody>\n",
              "    <tr>\n",
              "      <th>Taman Cattleya</th>\n",
              "      <td>0.0</td>\n",
              "      <td>0.0</td>\n",
              "      <td>1.0</td>\n",
              "      <td>0.0</td>\n",
              "      <td>0.0</td>\n",
              "    </tr>\n",
              "    <tr>\n",
              "      <th>Lawang Sewu</th>\n",
              "      <td>0.0</td>\n",
              "      <td>0.0</td>\n",
              "      <td>0.0</td>\n",
              "      <td>0.0</td>\n",
              "      <td>0.0</td>\n",
              "    </tr>\n",
              "    <tr>\n",
              "      <th>Rumah Sipitung</th>\n",
              "      <td>0.0</td>\n",
              "      <td>0.0</td>\n",
              "      <td>1.0</td>\n",
              "      <td>0.0</td>\n",
              "      <td>0.0</td>\n",
              "    </tr>\n",
              "    <tr>\n",
              "      <th>Pantai Drini</th>\n",
              "      <td>0.0</td>\n",
              "      <td>0.0</td>\n",
              "      <td>0.0</td>\n",
              "      <td>0.0</td>\n",
              "      <td>0.0</td>\n",
              "    </tr>\n",
              "    <tr>\n",
              "      <th>Wisata Lereng Kelir</th>\n",
              "      <td>0.0</td>\n",
              "      <td>0.0</td>\n",
              "      <td>0.0</td>\n",
              "      <td>0.0</td>\n",
              "      <td>0.0</td>\n",
              "    </tr>\n",
              "  </tbody>\n",
              "</table>\n",
              "</div>"
            ],
            "text/plain": [
              "place_name           Taman Flora Bratang Surabaya  ...  Taman Jomblo\n",
              "place_name                                         ...              \n",
              "Taman Cattleya                                0.0  ...           0.0\n",
              "Lawang Sewu                                   0.0  ...           0.0\n",
              "Rumah Sipitung                                0.0  ...           0.0\n",
              "Pantai Drini                                  0.0  ...           0.0\n",
              "Wisata Lereng Kelir                           0.0  ...           0.0\n",
              "\n",
              "[5 rows x 5 columns]"
            ]
          },
          "metadata": {},
          "execution_count": 31
        }
      ]
    },
    {
      "cell_type": "markdown",
      "metadata": {
        "id": "3GnURPSSguL9"
      },
      "source": [
        "Berdasarkan data diatas dikatahui bahwa Taman Cattleyamemiliki kesamaan dengan Pasar Seni data diatas iambil sample 5 saja"
      ]
    },
    {
      "cell_type": "markdown",
      "metadata": {
        "id": "jRD2Rf1xsYLj"
      },
      "source": [
        "### Modeling"
      ]
    },
    {
      "cell_type": "markdown",
      "metadata": {
        "id": "58D2iP5AlVV9"
      },
      "source": [
        "Membuat sistem rekomendasi berdasarkan kesamaan data yang diambil dari kesamaan kotanya"
      ]
    },
    {
      "cell_type": "code",
      "metadata": {
        "id": "5rstecrcVxFc"
      },
      "source": [
        "def recomended_city_tourism(place_name,\n",
        "                            similarity_name=(similarity_to_df),\n",
        "                            items=data_content[['place_name', 'place_city']], \n",
        "                            n=10):\n",
        "  i = similarity_name.loc[place_name].to_numpy().argpartition(\n",
        "      range(-1, -n, -1)\n",
        "  )\n",
        "  h_index = similarity_name.columns[i[-1:-(n+2):-1]]\n",
        "  h_index = h_index.drop(place_name, errors='ignore')\n",
        "  return pd.DataFrame(h_index).merge(items).head(n)"
      ],
      "execution_count": null,
      "outputs": []
    },
    {
      "cell_type": "markdown",
      "metadata": {
        "id": "KJJxaep-3ET1"
      },
      "source": [
        "Karena ingin meminta rekomendasi berdasarkan tempat Pulau Pramuka maka ditampilkan terlebih dahulu kriteria dari Pantai Ancol"
      ]
    },
    {
      "cell_type": "code",
      "metadata": {
        "colab": {
          "base_uri": "https://localhost:8080/",
          "height": 80
        },
        "id": "Fzy4G2sEhIgR",
        "outputId": "f7cf0e0b-a423-4b3f-da34-c14819ded103"
      },
      "source": [
        "data_content[data_content.place_name.eq('Pantai Ancol')]"
      ],
      "execution_count": null,
      "outputs": [
        {
          "output_type": "execute_result",
          "data": {
            "text/html": [
              "<div>\n",
              "<style scoped>\n",
              "    .dataframe tbody tr th:only-of-type {\n",
              "        vertical-align: middle;\n",
              "    }\n",
              "\n",
              "    .dataframe tbody tr th {\n",
              "        vertical-align: top;\n",
              "    }\n",
              "\n",
              "    .dataframe thead th {\n",
              "        text-align: right;\n",
              "    }\n",
              "</style>\n",
              "<table border=\"1\" class=\"dataframe\">\n",
              "  <thead>\n",
              "    <tr style=\"text-align: right;\">\n",
              "      <th></th>\n",
              "      <th>place_id</th>\n",
              "      <th>place_city</th>\n",
              "      <th>place_name</th>\n",
              "    </tr>\n",
              "  </thead>\n",
              "  <tbody>\n",
              "    <tr>\n",
              "      <th>55</th>\n",
              "      <td>56</td>\n",
              "      <td>Jakarta</td>\n",
              "      <td>Pantai Ancol</td>\n",
              "    </tr>\n",
              "  </tbody>\n",
              "</table>\n",
              "</div>"
            ],
            "text/plain": [
              "    place_id place_city    place_name\n",
              "55        56    Jakarta  Pantai Ancol"
            ]
          },
          "metadata": {},
          "execution_count": 33
        }
      ]
    },
    {
      "cell_type": "markdown",
      "metadata": {
        "id": "aycNXY3_iGEH"
      },
      "source": [
        "Melakukan rekomendasi berdasarkan Pantai Ancol menggunakan model yang telah di susun berdasarkan kesamaan lokasi/nama kota"
      ]
    },
    {
      "cell_type": "code",
      "metadata": {
        "colab": {
          "base_uri": "https://localhost:8080/",
          "height": 359
        },
        "id": "hkj_nnaWiG7a",
        "outputId": "2d6ad4b4-3364-48ca-9c1a-80bcc44e8df5"
      },
      "source": [
        "recomended = recomended_city_tourism('Pantai Ancol')\n",
        "recomended"
      ],
      "execution_count": null,
      "outputs": [
        {
          "output_type": "execute_result",
          "data": {
            "text/html": [
              "<div>\n",
              "<style scoped>\n",
              "    .dataframe tbody tr th:only-of-type {\n",
              "        vertical-align: middle;\n",
              "    }\n",
              "\n",
              "    .dataframe tbody tr th {\n",
              "        vertical-align: top;\n",
              "    }\n",
              "\n",
              "    .dataframe thead th {\n",
              "        text-align: right;\n",
              "    }\n",
              "</style>\n",
              "<table border=\"1\" class=\"dataframe\">\n",
              "  <thead>\n",
              "    <tr style=\"text-align: right;\">\n",
              "      <th></th>\n",
              "      <th>place_name</th>\n",
              "      <th>place_city</th>\n",
              "    </tr>\n",
              "  </thead>\n",
              "  <tbody>\n",
              "    <tr>\n",
              "      <th>0</th>\n",
              "      <td>Monumen Nasional</td>\n",
              "      <td>Jakarta</td>\n",
              "    </tr>\n",
              "    <tr>\n",
              "      <th>1</th>\n",
              "      <td>Taman Lapangan Banteng</td>\n",
              "      <td>Jakarta</td>\n",
              "    </tr>\n",
              "    <tr>\n",
              "      <th>2</th>\n",
              "      <td>Taman Ayodya</td>\n",
              "      <td>Jakarta</td>\n",
              "    </tr>\n",
              "    <tr>\n",
              "      <th>3</th>\n",
              "      <td>Museum Kebangkitan Nasional</td>\n",
              "      <td>Jakarta</td>\n",
              "    </tr>\n",
              "    <tr>\n",
              "      <th>4</th>\n",
              "      <td>Tugu Proklamasi</td>\n",
              "      <td>Jakarta</td>\n",
              "    </tr>\n",
              "    <tr>\n",
              "      <th>5</th>\n",
              "      <td>Taman Legenda Keong Emas</td>\n",
              "      <td>Jakarta</td>\n",
              "    </tr>\n",
              "    <tr>\n",
              "      <th>6</th>\n",
              "      <td>Museum Tekstil</td>\n",
              "      <td>Jakarta</td>\n",
              "    </tr>\n",
              "    <tr>\n",
              "      <th>7</th>\n",
              "      <td>Museum Sumpah Pemuda</td>\n",
              "      <td>Jakarta</td>\n",
              "    </tr>\n",
              "    <tr>\n",
              "      <th>8</th>\n",
              "      <td>Taman Agrowisata Cilangkap</td>\n",
              "      <td>Jakarta</td>\n",
              "    </tr>\n",
              "    <tr>\n",
              "      <th>9</th>\n",
              "      <td>Jakarta Aquarium dan Safari</td>\n",
              "      <td>Jakarta</td>\n",
              "    </tr>\n",
              "  </tbody>\n",
              "</table>\n",
              "</div>"
            ],
            "text/plain": [
              "                    place_name place_city\n",
              "0             Monumen Nasional    Jakarta\n",
              "1       Taman Lapangan Banteng    Jakarta\n",
              "2                 Taman Ayodya    Jakarta\n",
              "3  Museum Kebangkitan Nasional    Jakarta\n",
              "4              Tugu Proklamasi    Jakarta\n",
              "5     Taman Legenda Keong Emas    Jakarta\n",
              "6               Museum Tekstil    Jakarta\n",
              "7         Museum Sumpah Pemuda    Jakarta\n",
              "8   Taman Agrowisata Cilangkap    Jakarta\n",
              "9  Jakarta Aquarium dan Safari    Jakarta"
            ]
          },
          "metadata": {},
          "execution_count": 34
        }
      ]
    },
    {
      "cell_type": "markdown",
      "metadata": {
        "id": "0o2YUWLdjyzv"
      },
      "source": [
        "Karena data yang diseting untuk ditampilkan di dalam model adalah 10 data yang ditampilkan juga berjumlah 10 data tersebut memililki nama kota/lokasi yang sama yaitu Jakarta"
      ]
    },
    {
      "cell_type": "markdown",
      "metadata": {
        "id": "fR8IffhxzisD"
      },
      "source": [
        "### Evaluasi Model\n",
        "\n",
        "\\begin{align}\n",
        "  precission = \\frac{recomendation relevant}{sum item recommended}\n",
        "  \\end{align}\n",
        "\n",
        "Diketahui bahwa sistem merekomendasikan 10 tempat yang memiliki nilai berdasarkan kota yang sama, dari 10 item tersebut memiliki nilai kota yang sama yaitu jakarta"
      ]
    },
    {
      "cell_type": "code",
      "metadata": {
        "colab": {
          "base_uri": "https://localhost:8080/"
        },
        "id": "Qaqhd7FjzjJD",
        "outputId": "142dbad4-985b-4025-9b1f-cc7ccaed02e7"
      },
      "source": [
        "precision = (len(recomended['place_city'] == 'Jakarta')/len(recomended))*100\n",
        "print(f'precission: {precision} %')"
      ],
      "execution_count": null,
      "outputs": [
        {
          "output_type": "stream",
          "name": "stdout",
          "text": [
            "precission: 100.0 %\n"
          ]
        }
      ]
    },
    {
      "cell_type": "markdown",
      "metadata": {
        "id": "NhRApWN9CkJX"
      },
      "source": [
        "Diketahui bahwa pecission dari data yang direkomendasikan adalah 100%, sehingga mengindikasikan sistem dapat berjalan dengan baik dikarenakan yang digunakan untuk matrix nya adalah nama kota (hanya ada 5 kategori kota)"
      ]
    },
    {
      "cell_type": "markdown",
      "metadata": {
        "id": "8rQaVBaEVa6n"
      },
      "source": [
        "## Colaborative Filtering\n",
        "\n",
        "Tenik ini digunakan untuk merekomendasikan user berdasarkan user_group atau bebeberapa user lain. Data yang digunakan adalah data rating dan data_inform yang sudah diberikan oleh pengguna/user."
      ]
    },
    {
      "cell_type": "markdown",
      "metadata": {
        "id": "0eV9a-hRVspf"
      },
      "source": [
        "### Data Understanding\n",
        "\n",
        "Untuk membuat colaborative Filtering data yang digunakan adalah data rating"
      ]
    },
    {
      "cell_type": "code",
      "metadata": {
        "colab": {
          "base_uri": "https://localhost:8080/",
          "height": 419
        },
        "id": "pzFPxZeRXZoF",
        "outputId": "a6e28beb-8b93-4397-cd0f-15535702c897"
      },
      "source": [
        "rate = tourism_rating\n",
        "rate"
      ],
      "execution_count": null,
      "outputs": [
        {
          "output_type": "execute_result",
          "data": {
            "text/html": [
              "<div>\n",
              "<style scoped>\n",
              "    .dataframe tbody tr th:only-of-type {\n",
              "        vertical-align: middle;\n",
              "    }\n",
              "\n",
              "    .dataframe tbody tr th {\n",
              "        vertical-align: top;\n",
              "    }\n",
              "\n",
              "    .dataframe thead th {\n",
              "        text-align: right;\n",
              "    }\n",
              "</style>\n",
              "<table border=\"1\" class=\"dataframe\">\n",
              "  <thead>\n",
              "    <tr style=\"text-align: right;\">\n",
              "      <th></th>\n",
              "      <th>User_Id</th>\n",
              "      <th>Place_Id</th>\n",
              "      <th>Place_Ratings</th>\n",
              "    </tr>\n",
              "  </thead>\n",
              "  <tbody>\n",
              "    <tr>\n",
              "      <th>0</th>\n",
              "      <td>1</td>\n",
              "      <td>179</td>\n",
              "      <td>3</td>\n",
              "    </tr>\n",
              "    <tr>\n",
              "      <th>1</th>\n",
              "      <td>1</td>\n",
              "      <td>344</td>\n",
              "      <td>2</td>\n",
              "    </tr>\n",
              "    <tr>\n",
              "      <th>2</th>\n",
              "      <td>1</td>\n",
              "      <td>5</td>\n",
              "      <td>5</td>\n",
              "    </tr>\n",
              "    <tr>\n",
              "      <th>3</th>\n",
              "      <td>1</td>\n",
              "      <td>373</td>\n",
              "      <td>3</td>\n",
              "    </tr>\n",
              "    <tr>\n",
              "      <th>4</th>\n",
              "      <td>1</td>\n",
              "      <td>101</td>\n",
              "      <td>4</td>\n",
              "    </tr>\n",
              "    <tr>\n",
              "      <th>...</th>\n",
              "      <td>...</td>\n",
              "      <td>...</td>\n",
              "      <td>...</td>\n",
              "    </tr>\n",
              "    <tr>\n",
              "      <th>9995</th>\n",
              "      <td>300</td>\n",
              "      <td>425</td>\n",
              "      <td>2</td>\n",
              "    </tr>\n",
              "    <tr>\n",
              "      <th>9996</th>\n",
              "      <td>300</td>\n",
              "      <td>64</td>\n",
              "      <td>4</td>\n",
              "    </tr>\n",
              "    <tr>\n",
              "      <th>9997</th>\n",
              "      <td>300</td>\n",
              "      <td>311</td>\n",
              "      <td>3</td>\n",
              "    </tr>\n",
              "    <tr>\n",
              "      <th>9998</th>\n",
              "      <td>300</td>\n",
              "      <td>279</td>\n",
              "      <td>4</td>\n",
              "    </tr>\n",
              "    <tr>\n",
              "      <th>9999</th>\n",
              "      <td>300</td>\n",
              "      <td>163</td>\n",
              "      <td>2</td>\n",
              "    </tr>\n",
              "  </tbody>\n",
              "</table>\n",
              "<p>10000 rows × 3 columns</p>\n",
              "</div>"
            ],
            "text/plain": [
              "      User_Id  Place_Id  Place_Ratings\n",
              "0           1       179              3\n",
              "1           1       344              2\n",
              "2           1         5              5\n",
              "3           1       373              3\n",
              "4           1       101              4\n",
              "...       ...       ...            ...\n",
              "9995      300       425              2\n",
              "9996      300        64              4\n",
              "9997      300       311              3\n",
              "9998      300       279              4\n",
              "9999      300       163              2\n",
              "\n",
              "[10000 rows x 3 columns]"
            ]
          },
          "metadata": {},
          "execution_count": 36
        }
      ]
    },
    {
      "cell_type": "markdown",
      "metadata": {
        "id": "3QwNfsxYkWAV"
      },
      "source": [
        "### Data Preparation"
      ]
    },
    {
      "cell_type": "markdown",
      "metadata": {
        "id": "_gk1Sg2oZZkF"
      },
      "source": [
        "Menggabungkan data rating dengan data informasi tempat bertujuan untuk mengetahui secara detail dari informasi berdasarkan rating yang diberikan user.\n",
        "Data yang akan digunakan untuk Colaborative FIltering yaitu data yang berada di file rating sebelumnya dan data tempat serta rating tempat secara keseluruhan yang diambil dari data_information."
      ]
    },
    {
      "cell_type": "code",
      "metadata": {
        "colab": {
          "base_uri": "https://localhost:8080/",
          "height": 589
        },
        "id": "5tBv7zNeaywF",
        "outputId": "d2b635df-8599-4bd6-ccd5-d6c7791975ed"
      },
      "source": [
        "data_colaborative = pd.merge(rate, tourism_inform[[\n",
        "                                                  'Place_Id',\n",
        "                                                  'Place_Name', \n",
        "                                                  'City',\n",
        "                                                  'Category',\n",
        "                                                  'Rating'\n",
        "]])\n",
        "data_colaborative"
      ],
      "execution_count": null,
      "outputs": [
        {
          "output_type": "execute_result",
          "data": {
            "text/html": [
              "<div>\n",
              "<style scoped>\n",
              "    .dataframe tbody tr th:only-of-type {\n",
              "        vertical-align: middle;\n",
              "    }\n",
              "\n",
              "    .dataframe tbody tr th {\n",
              "        vertical-align: top;\n",
              "    }\n",
              "\n",
              "    .dataframe thead th {\n",
              "        text-align: right;\n",
              "    }\n",
              "</style>\n",
              "<table border=\"1\" class=\"dataframe\">\n",
              "  <thead>\n",
              "    <tr style=\"text-align: right;\">\n",
              "      <th></th>\n",
              "      <th>User_Id</th>\n",
              "      <th>Place_Id</th>\n",
              "      <th>Place_Ratings</th>\n",
              "      <th>Place_Name</th>\n",
              "      <th>City</th>\n",
              "      <th>Category</th>\n",
              "      <th>Rating</th>\n",
              "    </tr>\n",
              "  </thead>\n",
              "  <tbody>\n",
              "    <tr>\n",
              "      <th>0</th>\n",
              "      <td>1</td>\n",
              "      <td>179</td>\n",
              "      <td>3</td>\n",
              "      <td>Candi Ratu Boko</td>\n",
              "      <td>Yogyakarta</td>\n",
              "      <td>Budaya</td>\n",
              "      <td>4.6</td>\n",
              "    </tr>\n",
              "    <tr>\n",
              "      <th>1</th>\n",
              "      <td>22</td>\n",
              "      <td>179</td>\n",
              "      <td>4</td>\n",
              "      <td>Candi Ratu Boko</td>\n",
              "      <td>Yogyakarta</td>\n",
              "      <td>Budaya</td>\n",
              "      <td>4.6</td>\n",
              "    </tr>\n",
              "    <tr>\n",
              "      <th>2</th>\n",
              "      <td>40</td>\n",
              "      <td>179</td>\n",
              "      <td>3</td>\n",
              "      <td>Candi Ratu Boko</td>\n",
              "      <td>Yogyakarta</td>\n",
              "      <td>Budaya</td>\n",
              "      <td>4.6</td>\n",
              "    </tr>\n",
              "    <tr>\n",
              "      <th>3</th>\n",
              "      <td>49</td>\n",
              "      <td>179</td>\n",
              "      <td>5</td>\n",
              "      <td>Candi Ratu Boko</td>\n",
              "      <td>Yogyakarta</td>\n",
              "      <td>Budaya</td>\n",
              "      <td>4.6</td>\n",
              "    </tr>\n",
              "    <tr>\n",
              "      <th>4</th>\n",
              "      <td>74</td>\n",
              "      <td>179</td>\n",
              "      <td>3</td>\n",
              "      <td>Candi Ratu Boko</td>\n",
              "      <td>Yogyakarta</td>\n",
              "      <td>Budaya</td>\n",
              "      <td>4.6</td>\n",
              "    </tr>\n",
              "    <tr>\n",
              "      <th>...</th>\n",
              "      <td>...</td>\n",
              "      <td>...</td>\n",
              "      <td>...</td>\n",
              "      <td>...</td>\n",
              "      <td>...</td>\n",
              "      <td>...</td>\n",
              "      <td>...</td>\n",
              "    </tr>\n",
              "    <tr>\n",
              "      <th>9995</th>\n",
              "      <td>240</td>\n",
              "      <td>140</td>\n",
              "      <td>3</td>\n",
              "      <td>Bendung Lepen</td>\n",
              "      <td>Yogyakarta</td>\n",
              "      <td>Taman Hiburan</td>\n",
              "      <td>4.6</td>\n",
              "    </tr>\n",
              "    <tr>\n",
              "      <th>9996</th>\n",
              "      <td>247</td>\n",
              "      <td>140</td>\n",
              "      <td>4</td>\n",
              "      <td>Bendung Lepen</td>\n",
              "      <td>Yogyakarta</td>\n",
              "      <td>Taman Hiburan</td>\n",
              "      <td>4.6</td>\n",
              "    </tr>\n",
              "    <tr>\n",
              "      <th>9997</th>\n",
              "      <td>261</td>\n",
              "      <td>140</td>\n",
              "      <td>4</td>\n",
              "      <td>Bendung Lepen</td>\n",
              "      <td>Yogyakarta</td>\n",
              "      <td>Taman Hiburan</td>\n",
              "      <td>4.6</td>\n",
              "    </tr>\n",
              "    <tr>\n",
              "      <th>9998</th>\n",
              "      <td>267</td>\n",
              "      <td>140</td>\n",
              "      <td>3</td>\n",
              "      <td>Bendung Lepen</td>\n",
              "      <td>Yogyakarta</td>\n",
              "      <td>Taman Hiburan</td>\n",
              "      <td>4.6</td>\n",
              "    </tr>\n",
              "    <tr>\n",
              "      <th>9999</th>\n",
              "      <td>268</td>\n",
              "      <td>140</td>\n",
              "      <td>2</td>\n",
              "      <td>Bendung Lepen</td>\n",
              "      <td>Yogyakarta</td>\n",
              "      <td>Taman Hiburan</td>\n",
              "      <td>4.6</td>\n",
              "    </tr>\n",
              "  </tbody>\n",
              "</table>\n",
              "<p>10000 rows × 7 columns</p>\n",
              "</div>"
            ],
            "text/plain": [
              "      User_Id  Place_Id  Place_Ratings  ...        City       Category Rating\n",
              "0           1       179              3  ...  Yogyakarta         Budaya    4.6\n",
              "1          22       179              4  ...  Yogyakarta         Budaya    4.6\n",
              "2          40       179              3  ...  Yogyakarta         Budaya    4.6\n",
              "3          49       179              5  ...  Yogyakarta         Budaya    4.6\n",
              "4          74       179              3  ...  Yogyakarta         Budaya    4.6\n",
              "...       ...       ...            ...  ...         ...            ...    ...\n",
              "9995      240       140              3  ...  Yogyakarta  Taman Hiburan    4.6\n",
              "9996      247       140              4  ...  Yogyakarta  Taman Hiburan    4.6\n",
              "9997      261       140              4  ...  Yogyakarta  Taman Hiburan    4.6\n",
              "9998      267       140              3  ...  Yogyakarta  Taman Hiburan    4.6\n",
              "9999      268       140              2  ...  Yogyakarta  Taman Hiburan    4.6\n",
              "\n",
              "[10000 rows x 7 columns]"
            ]
          },
          "metadata": {},
          "execution_count": 37
        }
      ]
    },
    {
      "cell_type": "markdown",
      "metadata": {
        "id": "e6kNoqt-afhd"
      },
      "source": [
        "Data berjumlah 1000 baris, lalu cek data apakah data memiliki missing value atau tidak"
      ]
    },
    {
      "cell_type": "code",
      "metadata": {
        "colab": {
          "base_uri": "https://localhost:8080/"
        },
        "id": "oq5WaZbAPzYY",
        "outputId": "43d70488-fd02-4209-e99e-9a1bcf6e46a5"
      },
      "source": [
        "data_colaborative.isna().values.any()"
      ],
      "execution_count": null,
      "outputs": [
        {
          "output_type": "execute_result",
          "data": {
            "text/plain": [
              "False"
            ]
          },
          "metadata": {},
          "execution_count": 71
        }
      ]
    },
    {
      "cell_type": "markdown",
      "metadata": {
        "id": "Ip6P7DB5co5S"
      },
      "source": [
        "Data tidak ada yang mengalami missing values.\n",
        "\n",
        "Kemudian untuk mempermudah, dilakukan inisialisasi variable baru terhadap data yang sudah diambil terlebih dahulu. Dan data diurutkan berdasarkan Id tempat"
      ]
    },
    {
      "cell_type": "code",
      "metadata": {
        "colab": {
          "base_uri": "https://localhost:8080/",
          "height": 759
        },
        "id": "y1bwJXMMbwwC",
        "outputId": "fa81c2ce-321b-4db3-c070-ee8497eb305a"
      },
      "source": [
        "data_preparation_fix = data_colaborative.sort_values('Place_Id')\n",
        "data_preparation_fix"
      ],
      "execution_count": null,
      "outputs": [
        {
          "output_type": "execute_result",
          "data": {
            "text/html": [
              "<div>\n",
              "<style scoped>\n",
              "    .dataframe tbody tr th:only-of-type {\n",
              "        vertical-align: middle;\n",
              "    }\n",
              "\n",
              "    .dataframe tbody tr th {\n",
              "        vertical-align: top;\n",
              "    }\n",
              "\n",
              "    .dataframe thead th {\n",
              "        text-align: right;\n",
              "    }\n",
              "</style>\n",
              "<table border=\"1\" class=\"dataframe\">\n",
              "  <thead>\n",
              "    <tr style=\"text-align: right;\">\n",
              "      <th></th>\n",
              "      <th>User_Id</th>\n",
              "      <th>Place_Id</th>\n",
              "      <th>Place_Ratings</th>\n",
              "      <th>Place_Name</th>\n",
              "      <th>City</th>\n",
              "      <th>Category</th>\n",
              "      <th>Rating</th>\n",
              "    </tr>\n",
              "  </thead>\n",
              "  <tbody>\n",
              "    <tr>\n",
              "      <th>9275</th>\n",
              "      <td>36</td>\n",
              "      <td>1</td>\n",
              "      <td>4</td>\n",
              "      <td>Monumen Nasional</td>\n",
              "      <td>Jakarta</td>\n",
              "      <td>Budaya</td>\n",
              "      <td>4.6</td>\n",
              "    </tr>\n",
              "    <tr>\n",
              "      <th>9292</th>\n",
              "      <td>265</td>\n",
              "      <td>1</td>\n",
              "      <td>4</td>\n",
              "      <td>Monumen Nasional</td>\n",
              "      <td>Jakarta</td>\n",
              "      <td>Budaya</td>\n",
              "      <td>4.6</td>\n",
              "    </tr>\n",
              "    <tr>\n",
              "      <th>9291</th>\n",
              "      <td>254</td>\n",
              "      <td>1</td>\n",
              "      <td>5</td>\n",
              "      <td>Monumen Nasional</td>\n",
              "      <td>Jakarta</td>\n",
              "      <td>Budaya</td>\n",
              "      <td>4.6</td>\n",
              "    </tr>\n",
              "    <tr>\n",
              "      <th>9290</th>\n",
              "      <td>235</td>\n",
              "      <td>1</td>\n",
              "      <td>4</td>\n",
              "      <td>Monumen Nasional</td>\n",
              "      <td>Jakarta</td>\n",
              "      <td>Budaya</td>\n",
              "      <td>4.6</td>\n",
              "    </tr>\n",
              "    <tr>\n",
              "      <th>9289</th>\n",
              "      <td>227</td>\n",
              "      <td>1</td>\n",
              "      <td>5</td>\n",
              "      <td>Monumen Nasional</td>\n",
              "      <td>Jakarta</td>\n",
              "      <td>Budaya</td>\n",
              "      <td>4.6</td>\n",
              "    </tr>\n",
              "    <tr>\n",
              "      <th>...</th>\n",
              "      <td>...</td>\n",
              "      <td>...</td>\n",
              "      <td>...</td>\n",
              "      <td>...</td>\n",
              "      <td>...</td>\n",
              "      <td>...</td>\n",
              "      <td>...</td>\n",
              "    </tr>\n",
              "    <tr>\n",
              "      <th>1078</th>\n",
              "      <td>234</td>\n",
              "      <td>437</td>\n",
              "      <td>3</td>\n",
              "      <td>Gereja Perawan Maria Tak Berdosa Surabaya</td>\n",
              "      <td>Surabaya</td>\n",
              "      <td>Tempat Ibadah</td>\n",
              "      <td>4.8</td>\n",
              "    </tr>\n",
              "    <tr>\n",
              "      <th>1077</th>\n",
              "      <td>222</td>\n",
              "      <td>437</td>\n",
              "      <td>2</td>\n",
              "      <td>Gereja Perawan Maria Tak Berdosa Surabaya</td>\n",
              "      <td>Surabaya</td>\n",
              "      <td>Tempat Ibadah</td>\n",
              "      <td>4.8</td>\n",
              "    </tr>\n",
              "    <tr>\n",
              "      <th>1076</th>\n",
              "      <td>217</td>\n",
              "      <td>437</td>\n",
              "      <td>1</td>\n",
              "      <td>Gereja Perawan Maria Tak Berdosa Surabaya</td>\n",
              "      <td>Surabaya</td>\n",
              "      <td>Tempat Ibadah</td>\n",
              "      <td>4.8</td>\n",
              "    </tr>\n",
              "    <tr>\n",
              "      <th>1083</th>\n",
              "      <td>270</td>\n",
              "      <td>437</td>\n",
              "      <td>1</td>\n",
              "      <td>Gereja Perawan Maria Tak Berdosa Surabaya</td>\n",
              "      <td>Surabaya</td>\n",
              "      <td>Tempat Ibadah</td>\n",
              "      <td>4.8</td>\n",
              "    </tr>\n",
              "    <tr>\n",
              "      <th>1067</th>\n",
              "      <td>129</td>\n",
              "      <td>437</td>\n",
              "      <td>4</td>\n",
              "      <td>Gereja Perawan Maria Tak Berdosa Surabaya</td>\n",
              "      <td>Surabaya</td>\n",
              "      <td>Tempat Ibadah</td>\n",
              "      <td>4.8</td>\n",
              "    </tr>\n",
              "  </tbody>\n",
              "</table>\n",
              "<p>10000 rows × 7 columns</p>\n",
              "</div>"
            ],
            "text/plain": [
              "      User_Id  Place_Id  Place_Ratings  ...      City       Category Rating\n",
              "9275       36         1              4  ...   Jakarta         Budaya    4.6\n",
              "9292      265         1              4  ...   Jakarta         Budaya    4.6\n",
              "9291      254         1              5  ...   Jakarta         Budaya    4.6\n",
              "9290      235         1              4  ...   Jakarta         Budaya    4.6\n",
              "9289      227         1              5  ...   Jakarta         Budaya    4.6\n",
              "...       ...       ...            ...  ...       ...            ...    ...\n",
              "1078      234       437              3  ...  Surabaya  Tempat Ibadah    4.8\n",
              "1077      222       437              2  ...  Surabaya  Tempat Ibadah    4.8\n",
              "1076      217       437              1  ...  Surabaya  Tempat Ibadah    4.8\n",
              "1083      270       437              1  ...  Surabaya  Tempat Ibadah    4.8\n",
              "1067      129       437              4  ...  Surabaya  Tempat Ibadah    4.8\n",
              "\n",
              "[10000 rows x 7 columns]"
            ]
          },
          "metadata": {},
          "execution_count": 41
        }
      ]
    },
    {
      "cell_type": "markdown",
      "metadata": {
        "id": "79aXMremkng5"
      },
      "source": [
        "Data yang akan digunakan yaitu data user_id dan data place_id data tersebut diambil yang unique kemudian diajadikan list. \n",
        "\n",
        "Selanjutnya dilakukan encode data id_place dan id_user, berfungsi untuk melakukan indexing/membuat data menjadi integer.\n",
        "\n",
        "Data user dan place dirubah menjadi list untuk selanjutnya dilakukan encode data tersebut."
      ]
    },
    {
      "cell_type": "code",
      "metadata": {
        "id": "mT7eHzjxkBn1"
      },
      "source": [
        "id_user = data_preparation_fix['User_Id'].unique().tolist()\n",
        "id_place = data_preparation_fix['Place_Id'].unique().tolist()\n",
        "\n",
        "\n",
        "user_encode = {user: u for u, user in (enumerate(id_user))}\n",
        "#encode angka ke user\n",
        "encode_user = {u: user for u, user in (enumerate(id_user))}\n",
        "\n",
        "\n",
        "place_encode = {place: p for p, place in enumerate(id_place)}\n",
        "#encioding dari angka ke place\n",
        "encode_place = {p : place for p, place in enumerate(id_place)}"
      ],
      "execution_count": null,
      "outputs": []
    },
    {
      "cell_type": "code",
      "metadata": {
        "colab": {
          "base_uri": "https://localhost:8080/"
        },
        "id": "Yk0MVWhzk4Zh",
        "outputId": "9cccf96e-0ad6-407b-8807-0fc665c70b35"
      },
      "source": [
        "print(user_encode)\n",
        "print(encode_user)\n",
        "print(place_encode)\n",
        "print(encode_place)"
      ],
      "execution_count": null,
      "outputs": [
        {
          "output_type": "stream",
          "name": "stdout",
          "text": [
            "{36: 0, 265: 1, 254: 2, 235: 3, 227: 4, 189: 5, 187: 6, 167: 7, 169: 8, 159: 9, 118: 10, 105: 11, 100: 12, 86: 13, 74: 14, 64: 15, 162: 16, 38: 17, 292: 18, 17: 19, 295: 20, 2: 21, 217: 22, 30: 23, 43: 24, 46: 25, 56: 26, 57: 27, 59: 28, 75: 29, 94: 30, 98: 31, 134: 32, 137: 33, 154: 34, 160: 35, 175: 36, 188: 37, 203: 38, 110: 39, 231: 40, 55: 41, 285: 42, 267: 43, 255: 44, 242: 45, 240: 46, 280: 47, 220: 48, 97: 49, 190: 50, 185: 51, 206: 52, 127: 53, 247: 54, 288: 55, 171: 56, 150: 57, 143: 58, 205: 59, 113: 60, 53: 61, 108: 62, 91: 63, 26: 64, 6: 65, 5: 66, 4: 67, 111: 68, 290: 69, 276: 70, 238: 71, 232: 72, 226: 73, 222: 74, 212: 75, 183: 76, 179: 77, 139: 78, 120: 79, 116: 80, 106: 81, 109: 82, 92: 83, 87: 84, 35: 85, 12: 86, 11: 87, 1: 88, 103: 89, 184: 90, 264: 91, 258: 92, 182: 93, 68: 94, 161: 95, 156: 96, 129: 97, 104: 98, 95: 99, 90: 100, 81: 101, 65: 102, 31: 103, 23: 104, 170: 105, 294: 106, 296: 107, 297: 108, 278: 109, 277: 110, 250: 111, 78: 112, 101: 113, 107: 114, 201: 115, 123: 116, 196: 117, 164: 118, 148: 119, 142: 120, 146: 121, 126: 122, 253: 123, 262: 124, 248: 125, 181: 126, 195: 127, 271: 128, 299: 129, 259: 130, 18: 131, 14: 132, 300: 133, 112: 134, 50: 135, 47: 136, 33: 137, 281: 138, 15: 139, 19: 140, 20: 141, 117: 142, 61: 143, 124: 144, 237: 145, 211: 146, 269: 147, 140: 148, 136: 149, 283: 150, 174: 151, 121: 152, 122: 153, 149: 154, 194: 155, 213: 156, 223: 157, 249: 158, 282: 159, 279: 160, 263: 161, 135: 162, 79: 163, 88: 164, 216: 165, 198: 166, 245: 167, 10: 168, 239: 169, 168: 170, 7: 171, 52: 172, 58: 173, 83: 174, 125: 175, 130: 176, 229: 177, 44: 178, 119: 179, 151: 180, 202: 181, 204: 182, 251: 183, 25: 184, 71: 185, 63: 186, 93: 187, 298: 188, 131: 189, 147: 190, 256: 191, 244: 192, 34: 193, 197: 194, 153: 195, 54: 196, 51: 197, 28: 198, 266: 199, 177: 200, 286: 201, 152: 202, 155: 203, 186: 204, 215: 205, 234: 206, 236: 207, 22: 208, 270: 209, 272: 210, 287: 211, 3: 212, 291: 213, 207: 214, 218: 215, 163: 216, 69: 217, 115: 218, 138: 219, 29: 220, 66: 221, 192: 222, 45: 223, 165: 224, 13: 225, 243: 226, 173: 227, 176: 228, 73: 229, 208: 230, 261: 231, 40: 232, 193: 233, 221: 234, 72: 235, 158: 236, 180: 237, 172: 238, 60: 239, 67: 240, 274: 241, 49: 242, 24: 243, 132: 244, 191: 245, 8: 246, 241: 247, 224: 248, 214: 249, 16: 250, 80: 251, 84: 252, 62: 253, 257: 254, 145: 255, 144: 256, 42: 257, 9: 258, 210: 259, 128: 260, 85: 261, 268: 262, 246: 263, 233: 264, 228: 265, 89: 266, 225: 267, 70: 268, 219: 269, 293: 270, 77: 271, 157: 272, 82: 273, 273: 274, 37: 275, 39: 276, 209: 277, 96: 278, 260: 279, 114: 280, 48: 281, 76: 282, 199: 283, 133: 284, 200: 285, 102: 286, 230: 287, 252: 288, 166: 289, 289: 290, 178: 291, 99: 292, 21: 293, 41: 294, 27: 295, 141: 296, 32: 297, 275: 298, 284: 299}\n",
            "{0: 36, 1: 265, 2: 254, 3: 235, 4: 227, 5: 189, 6: 187, 7: 167, 8: 169, 9: 159, 10: 118, 11: 105, 12: 100, 13: 86, 14: 74, 15: 64, 16: 162, 17: 38, 18: 292, 19: 17, 20: 295, 21: 2, 22: 217, 23: 30, 24: 43, 25: 46, 26: 56, 27: 57, 28: 59, 29: 75, 30: 94, 31: 98, 32: 134, 33: 137, 34: 154, 35: 160, 36: 175, 37: 188, 38: 203, 39: 110, 40: 231, 41: 55, 42: 285, 43: 267, 44: 255, 45: 242, 46: 240, 47: 280, 48: 220, 49: 97, 50: 190, 51: 185, 52: 206, 53: 127, 54: 247, 55: 288, 56: 171, 57: 150, 58: 143, 59: 205, 60: 113, 61: 53, 62: 108, 63: 91, 64: 26, 65: 6, 66: 5, 67: 4, 68: 111, 69: 290, 70: 276, 71: 238, 72: 232, 73: 226, 74: 222, 75: 212, 76: 183, 77: 179, 78: 139, 79: 120, 80: 116, 81: 106, 82: 109, 83: 92, 84: 87, 85: 35, 86: 12, 87: 11, 88: 1, 89: 103, 90: 184, 91: 264, 92: 258, 93: 182, 94: 68, 95: 161, 96: 156, 97: 129, 98: 104, 99: 95, 100: 90, 101: 81, 102: 65, 103: 31, 104: 23, 105: 170, 106: 294, 107: 296, 108: 297, 109: 278, 110: 277, 111: 250, 112: 78, 113: 101, 114: 107, 115: 201, 116: 123, 117: 196, 118: 164, 119: 148, 120: 142, 121: 146, 122: 126, 123: 253, 124: 262, 125: 248, 126: 181, 127: 195, 128: 271, 129: 299, 130: 259, 131: 18, 132: 14, 133: 300, 134: 112, 135: 50, 136: 47, 137: 33, 138: 281, 139: 15, 140: 19, 141: 20, 142: 117, 143: 61, 144: 124, 145: 237, 146: 211, 147: 269, 148: 140, 149: 136, 150: 283, 151: 174, 152: 121, 153: 122, 154: 149, 155: 194, 156: 213, 157: 223, 158: 249, 159: 282, 160: 279, 161: 263, 162: 135, 163: 79, 164: 88, 165: 216, 166: 198, 167: 245, 168: 10, 169: 239, 170: 168, 171: 7, 172: 52, 173: 58, 174: 83, 175: 125, 176: 130, 177: 229, 178: 44, 179: 119, 180: 151, 181: 202, 182: 204, 183: 251, 184: 25, 185: 71, 186: 63, 187: 93, 188: 298, 189: 131, 190: 147, 191: 256, 192: 244, 193: 34, 194: 197, 195: 153, 196: 54, 197: 51, 198: 28, 199: 266, 200: 177, 201: 286, 202: 152, 203: 155, 204: 186, 205: 215, 206: 234, 207: 236, 208: 22, 209: 270, 210: 272, 211: 287, 212: 3, 213: 291, 214: 207, 215: 218, 216: 163, 217: 69, 218: 115, 219: 138, 220: 29, 221: 66, 222: 192, 223: 45, 224: 165, 225: 13, 226: 243, 227: 173, 228: 176, 229: 73, 230: 208, 231: 261, 232: 40, 233: 193, 234: 221, 235: 72, 236: 158, 237: 180, 238: 172, 239: 60, 240: 67, 241: 274, 242: 49, 243: 24, 244: 132, 245: 191, 246: 8, 247: 241, 248: 224, 249: 214, 250: 16, 251: 80, 252: 84, 253: 62, 254: 257, 255: 145, 256: 144, 257: 42, 258: 9, 259: 210, 260: 128, 261: 85, 262: 268, 263: 246, 264: 233, 265: 228, 266: 89, 267: 225, 268: 70, 269: 219, 270: 293, 271: 77, 272: 157, 273: 82, 274: 273, 275: 37, 276: 39, 277: 209, 278: 96, 279: 260, 280: 114, 281: 48, 282: 76, 283: 199, 284: 133, 285: 200, 286: 102, 287: 230, 288: 252, 289: 166, 290: 289, 291: 178, 292: 99, 293: 21, 294: 41, 295: 27, 296: 141, 297: 32, 298: 275, 299: 284}\n",
            "{1: 0, 2: 1, 3: 2, 4: 3, 5: 4, 6: 5, 7: 6, 8: 7, 9: 8, 10: 9, 11: 10, 12: 11, 13: 12, 14: 13, 15: 14, 16: 15, 17: 16, 18: 17, 19: 18, 20: 19, 21: 20, 22: 21, 23: 22, 24: 23, 25: 24, 26: 25, 27: 26, 28: 27, 29: 28, 30: 29, 31: 30, 32: 31, 33: 32, 34: 33, 35: 34, 36: 35, 37: 36, 38: 37, 39: 38, 40: 39, 41: 40, 42: 41, 43: 42, 44: 43, 45: 44, 46: 45, 47: 46, 48: 47, 49: 48, 50: 49, 51: 50, 52: 51, 53: 52, 54: 53, 55: 54, 56: 55, 57: 56, 58: 57, 59: 58, 60: 59, 61: 60, 62: 61, 63: 62, 64: 63, 65: 64, 66: 65, 67: 66, 68: 67, 69: 68, 70: 69, 71: 70, 72: 71, 73: 72, 74: 73, 75: 74, 76: 75, 77: 76, 78: 77, 79: 78, 80: 79, 81: 80, 82: 81, 83: 82, 84: 83, 85: 84, 86: 85, 87: 86, 88: 87, 89: 88, 90: 89, 91: 90, 92: 91, 93: 92, 94: 93, 95: 94, 96: 95, 97: 96, 98: 97, 99: 98, 100: 99, 101: 100, 102: 101, 103: 102, 104: 103, 105: 104, 106: 105, 107: 106, 108: 107, 109: 108, 110: 109, 111: 110, 112: 111, 113: 112, 114: 113, 115: 114, 116: 115, 117: 116, 118: 117, 119: 118, 120: 119, 121: 120, 122: 121, 123: 122, 124: 123, 125: 124, 126: 125, 127: 126, 128: 127, 129: 128, 130: 129, 131: 130, 132: 131, 133: 132, 134: 133, 135: 134, 136: 135, 137: 136, 138: 137, 139: 138, 140: 139, 141: 140, 142: 141, 143: 142, 144: 143, 145: 144, 146: 145, 147: 146, 148: 147, 149: 148, 150: 149, 151: 150, 152: 151, 153: 152, 154: 153, 155: 154, 156: 155, 157: 156, 158: 157, 159: 158, 160: 159, 161: 160, 162: 161, 163: 162, 164: 163, 165: 164, 166: 165, 167: 166, 168: 167, 169: 168, 170: 169, 171: 170, 172: 171, 173: 172, 174: 173, 175: 174, 176: 175, 177: 176, 178: 177, 179: 178, 180: 179, 181: 180, 182: 181, 183: 182, 184: 183, 185: 184, 186: 185, 187: 186, 188: 187, 189: 188, 190: 189, 191: 190, 192: 191, 193: 192, 194: 193, 195: 194, 196: 195, 197: 196, 198: 197, 199: 198, 200: 199, 201: 200, 202: 201, 203: 202, 204: 203, 205: 204, 206: 205, 207: 206, 208: 207, 209: 208, 210: 209, 211: 210, 212: 211, 213: 212, 214: 213, 215: 214, 216: 215, 217: 216, 218: 217, 219: 218, 220: 219, 221: 220, 222: 221, 223: 222, 224: 223, 225: 224, 226: 225, 227: 226, 228: 227, 229: 228, 230: 229, 231: 230, 232: 231, 233: 232, 234: 233, 235: 234, 236: 235, 237: 236, 238: 237, 239: 238, 240: 239, 241: 240, 242: 241, 243: 242, 244: 243, 245: 244, 246: 245, 247: 246, 248: 247, 249: 248, 250: 249, 251: 250, 252: 251, 253: 252, 254: 253, 255: 254, 256: 255, 257: 256, 258: 257, 259: 258, 260: 259, 261: 260, 262: 261, 263: 262, 264: 263, 265: 264, 266: 265, 267: 266, 268: 267, 269: 268, 270: 269, 271: 270, 272: 271, 273: 272, 274: 273, 275: 274, 276: 275, 277: 276, 278: 277, 279: 278, 280: 279, 281: 280, 282: 281, 283: 282, 284: 283, 285: 284, 286: 285, 287: 286, 288: 287, 289: 288, 290: 289, 291: 290, 292: 291, 293: 292, 294: 293, 295: 294, 296: 295, 297: 296, 298: 297, 299: 298, 300: 299, 301: 300, 302: 301, 303: 302, 304: 303, 305: 304, 306: 305, 307: 306, 308: 307, 309: 308, 310: 309, 311: 310, 312: 311, 313: 312, 314: 313, 315: 314, 316: 315, 317: 316, 318: 317, 319: 318, 320: 319, 321: 320, 322: 321, 323: 322, 324: 323, 325: 324, 326: 325, 327: 326, 328: 327, 329: 328, 330: 329, 331: 330, 332: 331, 333: 332, 334: 333, 335: 334, 336: 335, 337: 336, 338: 337, 339: 338, 340: 339, 341: 340, 342: 341, 343: 342, 344: 343, 345: 344, 346: 345, 347: 346, 348: 347, 349: 348, 350: 349, 351: 350, 352: 351, 353: 352, 354: 353, 355: 354, 356: 355, 357: 356, 358: 357, 359: 358, 360: 359, 361: 360, 362: 361, 363: 362, 364: 363, 365: 364, 366: 365, 367: 366, 368: 367, 369: 368, 370: 369, 371: 370, 372: 371, 373: 372, 374: 373, 375: 374, 376: 375, 377: 376, 378: 377, 379: 378, 380: 379, 381: 380, 382: 381, 383: 382, 384: 383, 385: 384, 386: 385, 387: 386, 388: 387, 389: 388, 390: 389, 391: 390, 392: 391, 393: 392, 394: 393, 395: 394, 396: 395, 397: 396, 398: 397, 399: 398, 400: 399, 401: 400, 402: 401, 403: 402, 404: 403, 405: 404, 406: 405, 407: 406, 408: 407, 409: 408, 410: 409, 411: 410, 412: 411, 413: 412, 414: 413, 415: 414, 416: 415, 417: 416, 418: 417, 419: 418, 420: 419, 421: 420, 422: 421, 423: 422, 424: 423, 425: 424, 426: 425, 427: 426, 428: 427, 429: 428, 430: 429, 431: 430, 432: 431, 433: 432, 434: 433, 435: 434, 436: 435, 437: 436}\n",
            "{0: 1, 1: 2, 2: 3, 3: 4, 4: 5, 5: 6, 6: 7, 7: 8, 8: 9, 9: 10, 10: 11, 11: 12, 12: 13, 13: 14, 14: 15, 15: 16, 16: 17, 17: 18, 18: 19, 19: 20, 20: 21, 21: 22, 22: 23, 23: 24, 24: 25, 25: 26, 26: 27, 27: 28, 28: 29, 29: 30, 30: 31, 31: 32, 32: 33, 33: 34, 34: 35, 35: 36, 36: 37, 37: 38, 38: 39, 39: 40, 40: 41, 41: 42, 42: 43, 43: 44, 44: 45, 45: 46, 46: 47, 47: 48, 48: 49, 49: 50, 50: 51, 51: 52, 52: 53, 53: 54, 54: 55, 55: 56, 56: 57, 57: 58, 58: 59, 59: 60, 60: 61, 61: 62, 62: 63, 63: 64, 64: 65, 65: 66, 66: 67, 67: 68, 68: 69, 69: 70, 70: 71, 71: 72, 72: 73, 73: 74, 74: 75, 75: 76, 76: 77, 77: 78, 78: 79, 79: 80, 80: 81, 81: 82, 82: 83, 83: 84, 84: 85, 85: 86, 86: 87, 87: 88, 88: 89, 89: 90, 90: 91, 91: 92, 92: 93, 93: 94, 94: 95, 95: 96, 96: 97, 97: 98, 98: 99, 99: 100, 100: 101, 101: 102, 102: 103, 103: 104, 104: 105, 105: 106, 106: 107, 107: 108, 108: 109, 109: 110, 110: 111, 111: 112, 112: 113, 113: 114, 114: 115, 115: 116, 116: 117, 117: 118, 118: 119, 119: 120, 120: 121, 121: 122, 122: 123, 123: 124, 124: 125, 125: 126, 126: 127, 127: 128, 128: 129, 129: 130, 130: 131, 131: 132, 132: 133, 133: 134, 134: 135, 135: 136, 136: 137, 137: 138, 138: 139, 139: 140, 140: 141, 141: 142, 142: 143, 143: 144, 144: 145, 145: 146, 146: 147, 147: 148, 148: 149, 149: 150, 150: 151, 151: 152, 152: 153, 153: 154, 154: 155, 155: 156, 156: 157, 157: 158, 158: 159, 159: 160, 160: 161, 161: 162, 162: 163, 163: 164, 164: 165, 165: 166, 166: 167, 167: 168, 168: 169, 169: 170, 170: 171, 171: 172, 172: 173, 173: 174, 174: 175, 175: 176, 176: 177, 177: 178, 178: 179, 179: 180, 180: 181, 181: 182, 182: 183, 183: 184, 184: 185, 185: 186, 186: 187, 187: 188, 188: 189, 189: 190, 190: 191, 191: 192, 192: 193, 193: 194, 194: 195, 195: 196, 196: 197, 197: 198, 198: 199, 199: 200, 200: 201, 201: 202, 202: 203, 203: 204, 204: 205, 205: 206, 206: 207, 207: 208, 208: 209, 209: 210, 210: 211, 211: 212, 212: 213, 213: 214, 214: 215, 215: 216, 216: 217, 217: 218, 218: 219, 219: 220, 220: 221, 221: 222, 222: 223, 223: 224, 224: 225, 225: 226, 226: 227, 227: 228, 228: 229, 229: 230, 230: 231, 231: 232, 232: 233, 233: 234, 234: 235, 235: 236, 236: 237, 237: 238, 238: 239, 239: 240, 240: 241, 241: 242, 242: 243, 243: 244, 244: 245, 245: 246, 246: 247, 247: 248, 248: 249, 249: 250, 250: 251, 251: 252, 252: 253, 253: 254, 254: 255, 255: 256, 256: 257, 257: 258, 258: 259, 259: 260, 260: 261, 261: 262, 262: 263, 263: 264, 264: 265, 265: 266, 266: 267, 267: 268, 268: 269, 269: 270, 270: 271, 271: 272, 272: 273, 273: 274, 274: 275, 275: 276, 276: 277, 277: 278, 278: 279, 279: 280, 280: 281, 281: 282, 282: 283, 283: 284, 284: 285, 285: 286, 286: 287, 287: 288, 288: 289, 289: 290, 290: 291, 291: 292, 292: 293, 293: 294, 294: 295, 295: 296, 296: 297, 297: 298, 298: 299, 299: 300, 300: 301, 301: 302, 302: 303, 303: 304, 304: 305, 305: 306, 306: 307, 307: 308, 308: 309, 309: 310, 310: 311, 311: 312, 312: 313, 313: 314, 314: 315, 315: 316, 316: 317, 317: 318, 318: 319, 319: 320, 320: 321, 321: 322, 322: 323, 323: 324, 324: 325, 325: 326, 326: 327, 327: 328, 328: 329, 329: 330, 330: 331, 331: 332, 332: 333, 333: 334, 334: 335, 335: 336, 336: 337, 337: 338, 338: 339, 339: 340, 340: 341, 341: 342, 342: 343, 343: 344, 344: 345, 345: 346, 346: 347, 347: 348, 348: 349, 349: 350, 350: 351, 351: 352, 352: 353, 353: 354, 354: 355, 355: 356, 356: 357, 357: 358, 358: 359, 359: 360, 360: 361, 361: 362, 362: 363, 363: 364, 364: 365, 365: 366, 366: 367, 367: 368, 368: 369, 369: 370, 370: 371, 371: 372, 372: 373, 373: 374, 374: 375, 375: 376, 376: 377, 377: 378, 378: 379, 379: 380, 380: 381, 381: 382, 382: 383, 383: 384, 384: 385, 385: 386, 386: 387, 387: 388, 388: 389, 389: 390, 390: 391, 391: 392, 392: 393, 393: 394, 394: 395, 395: 396, 396: 397, 397: 398, 398: 399, 399: 400, 400: 401, 401: 402, 402: 403, 403: 404, 404: 405, 405: 406, 406: 407, 407: 408, 408: 409, 409: 410, 410: 411, 411: 412, 412: 413, 413: 414, 414: 415, 415: 416, 416: 417, 417: 418, 418: 419, 419: 420, 420: 421, 421: 422, 422: 423, 423: 424, 424: 425, 425: 426, 426: 427, 427: 428, 428: 429, 429: 430, 430: 431, 431: 432, 432: 433, 433: 434, 434: 435, 435: 436, 436: 437}\n"
          ]
        }
      ]
    },
    {
      "cell_type": "markdown",
      "metadata": {
        "id": "wIBx07oIqVKv"
      },
      "source": [
        "Data User_Id dan Place_Id yang telah di encode akan ditambahkan di dalam dataframe colaborative filtering_fix"
      ]
    },
    {
      "cell_type": "code",
      "metadata": {
        "id": "K6T5BFi9ptfd"
      },
      "source": [
        "#memasukkan hasil encode ke dalam dataFrame\n",
        "data_preparation_fix['id_user'] = data_preparation_fix['User_Id'].map(user_encode)\n",
        "data_preparation_fix['id_place'] = data_preparation_fix['Place_Id'].map(place_encode)"
      ],
      "execution_count": null,
      "outputs": []
    },
    {
      "cell_type": "code",
      "metadata": {
        "colab": {
          "base_uri": "https://localhost:8080/",
          "height": 309
        },
        "id": "qeeb2l4tqPdq",
        "outputId": "121d5706-e490-45a7-ad54-bc1e481d5efe"
      },
      "source": [
        "data_preparation_fix.head()"
      ],
      "execution_count": null,
      "outputs": [
        {
          "output_type": "execute_result",
          "data": {
            "text/html": [
              "<div>\n",
              "<style scoped>\n",
              "    .dataframe tbody tr th:only-of-type {\n",
              "        vertical-align: middle;\n",
              "    }\n",
              "\n",
              "    .dataframe tbody tr th {\n",
              "        vertical-align: top;\n",
              "    }\n",
              "\n",
              "    .dataframe thead th {\n",
              "        text-align: right;\n",
              "    }\n",
              "</style>\n",
              "<table border=\"1\" class=\"dataframe\">\n",
              "  <thead>\n",
              "    <tr style=\"text-align: right;\">\n",
              "      <th></th>\n",
              "      <th>User_Id</th>\n",
              "      <th>Place_Id</th>\n",
              "      <th>Place_Ratings</th>\n",
              "      <th>Place_Name</th>\n",
              "      <th>City</th>\n",
              "      <th>Category</th>\n",
              "      <th>Rating</th>\n",
              "      <th>id_user</th>\n",
              "      <th>id_place</th>\n",
              "    </tr>\n",
              "  </thead>\n",
              "  <tbody>\n",
              "    <tr>\n",
              "      <th>9275</th>\n",
              "      <td>36</td>\n",
              "      <td>1</td>\n",
              "      <td>4</td>\n",
              "      <td>Monumen Nasional</td>\n",
              "      <td>Jakarta</td>\n",
              "      <td>Budaya</td>\n",
              "      <td>4.6</td>\n",
              "      <td>0</td>\n",
              "      <td>0</td>\n",
              "    </tr>\n",
              "    <tr>\n",
              "      <th>9292</th>\n",
              "      <td>265</td>\n",
              "      <td>1</td>\n",
              "      <td>4</td>\n",
              "      <td>Monumen Nasional</td>\n",
              "      <td>Jakarta</td>\n",
              "      <td>Budaya</td>\n",
              "      <td>4.6</td>\n",
              "      <td>1</td>\n",
              "      <td>0</td>\n",
              "    </tr>\n",
              "    <tr>\n",
              "      <th>9291</th>\n",
              "      <td>254</td>\n",
              "      <td>1</td>\n",
              "      <td>5</td>\n",
              "      <td>Monumen Nasional</td>\n",
              "      <td>Jakarta</td>\n",
              "      <td>Budaya</td>\n",
              "      <td>4.6</td>\n",
              "      <td>2</td>\n",
              "      <td>0</td>\n",
              "    </tr>\n",
              "    <tr>\n",
              "      <th>9290</th>\n",
              "      <td>235</td>\n",
              "      <td>1</td>\n",
              "      <td>4</td>\n",
              "      <td>Monumen Nasional</td>\n",
              "      <td>Jakarta</td>\n",
              "      <td>Budaya</td>\n",
              "      <td>4.6</td>\n",
              "      <td>3</td>\n",
              "      <td>0</td>\n",
              "    </tr>\n",
              "    <tr>\n",
              "      <th>9289</th>\n",
              "      <td>227</td>\n",
              "      <td>1</td>\n",
              "      <td>5</td>\n",
              "      <td>Monumen Nasional</td>\n",
              "      <td>Jakarta</td>\n",
              "      <td>Budaya</td>\n",
              "      <td>4.6</td>\n",
              "      <td>4</td>\n",
              "      <td>0</td>\n",
              "    </tr>\n",
              "  </tbody>\n",
              "</table>\n",
              "</div>"
            ],
            "text/plain": [
              "      User_Id  Place_Id  Place_Ratings  ... Rating id_user id_place\n",
              "9275       36         1              4  ...    4.6       0        0\n",
              "9292      265         1              4  ...    4.6       1        0\n",
              "9291      254         1              5  ...    4.6       2        0\n",
              "9290      235         1              4  ...    4.6       3        0\n",
              "9289      227         1              5  ...    4.6       4        0\n",
              "\n",
              "[5 rows x 9 columns]"
            ]
          },
          "metadata": {},
          "execution_count": 45
        }
      ]
    },
    {
      "cell_type": "markdown",
      "metadata": {
        "id": "g0mDcj1OlNlV"
      },
      "source": [
        "Data yang akan displit, sebelumnya diinisialisasi dahulu, dipecah kedalam masing-masing vaiable, jumlah data place dan user encode juga akan disimpan dalam varible sendiri-sendiri, jumlah data ini yang akan digunakan untuk menjalakan model."
      ]
    },
    {
      "cell_type": "code",
      "metadata": {
        "colab": {
          "base_uri": "https://localhost:8080/"
        },
        "id": "CASw5DmHeW2x",
        "outputId": "807e7f2d-2983-49be-ef8c-7e6de10afdae"
      },
      "source": [
        "data = data_preparation_fix[['id_user', 'id_place']].values\n",
        "rating_place_from_user =data_preparation_fix['Place_Ratings'].values\n",
        "\n",
        "num_p = len(place_encode)\n",
        "num_u = len(user_encode)\n",
        "print(f'jumlah data user {num_u}\\njumlah data tempat {num_p}')"
      ],
      "execution_count": null,
      "outputs": [
        {
          "output_type": "stream",
          "name": "stdout",
          "text": [
            "jumlah data user 300\n",
            "jumlah data tempat 437\n"
          ]
        }
      ]
    },
    {
      "cell_type": "markdown",
      "metadata": {
        "id": "BT9oNqkBXfMf"
      },
      "source": [
        "### Split data Train and Val\n",
        "\n"
      ]
    },
    {
      "cell_type": "markdown",
      "metadata": {
        "id": "c3HXEvH-lIwq"
      },
      "source": [
        "MinMaxScaler data Ratings, Data rating di lakukan scalling menggunakan MinMaxScaler dari library sklearn, fungsi scaler ini untuk menormalisasi data, sehingga data bisa lebih optimal untuk digunakan."
      ]
    },
    {
      "cell_type": "code",
      "metadata": {
        "colab": {
          "base_uri": "https://localhost:8080/"
        },
        "id": "bEgQiIW3fSqw",
        "outputId": "6db7b783-0d0f-43e2-f0cc-ab2dfd8aec01"
      },
      "source": [
        "scall = MinMaxScaler(feature_range=(0, 1))"
      ],
      "execution_count": null,
      "outputs": [
        {
          "output_type": "stream",
          "name": "stdout",
          "text": [
            "(10000,)\n"
          ]
        },
        {
          "output_type": "execute_result",
          "data": {
            "text/plain": [
              "(10000, 1)"
            ]
          },
          "metadata": {},
          "execution_count": 48
        }
      ]
    },
    {
      "cell_type": "markdown",
      "metadata": {
        "id": "X-Yh59DGRhLH"
      },
      "source": [
        "Dikarenakan data rating yang sudah diambil tidak bisa dingunakan kerena ukuran dari dari maka data akan reshape dulu dengan (-1, 1) yang memiliki arti menambah satu kolom. "
      ]
    },
    {
      "cell_type": "code",
      "metadata": {
        "colab": {
          "base_uri": "https://localhost:8080/"
        },
        "id": "139vQBN7RdmR",
        "outputId": "33684579-e016-4158-b7d7-95dc7f147938"
      },
      "source": [
        "rating_place_from_user_reshape = rating_place_from_user.reshape(-1, 1)\n",
        "print(rating_place_from_user.shape)"
      ],
      "execution_count": null,
      "outputs": [
        {
          "output_type": "stream",
          "name": "stdout",
          "text": [
            "(10000,)\n"
          ]
        }
      ]
    },
    {
      "cell_type": "code",
      "metadata": {
        "colab": {
          "base_uri": "https://localhost:8080/"
        },
        "id": "ZNudB9iqRf9h",
        "outputId": "7314811f-0236-44fd-e841-12feaad3f57c"
      },
      "source": [
        "\n",
        "rating_place_from_user_scall = scall.fit_transform(rating_place_from_user_reshape)\n",
        "rating_place_from_user_scall.shape"
      ],
      "execution_count": null,
      "outputs": [
        {
          "output_type": "execute_result",
          "data": {
            "text/plain": [
              "(10000, 1)"
            ]
          },
          "metadata": {},
          "execution_count": 73
        }
      ]
    },
    {
      "cell_type": "markdown",
      "metadata": {
        "id": "-d6OcDJ6gFNI"
      },
      "source": [
        "Data akan dipecah menjadi train 80% dan val 20%, split data memnfaatkan fitur train_test_split dari sklearn, untuk mempercepat process."
      ]
    },
    {
      "cell_type": "code",
      "metadata": {
        "colab": {
          "base_uri": "https://localhost:8080/"
        },
        "id": "-v5CIc9sgFnj",
        "outputId": "3969d1bf-757a-4074-e8bf-02c0fda226a1"
      },
      "source": [
        "train_user, val_user, train_rating, val_rating = train_test_split(\n",
        "    data, rating_place_from_user_scall, test_size=0.2\n",
        ")\n",
        "\n",
        "print(f'jumlah dari data train {len(train_user)}')\n",
        "print(f'Jumlah dari data validation {len(val_user)}')"
      ],
      "execution_count": null,
      "outputs": [
        {
          "output_type": "stream",
          "name": "stdout",
          "text": [
            "jumlah dari data train 8000\n",
            "Jumlah dari data validation 2000\n"
          ]
        }
      ]
    },
    {
      "cell_type": "markdown",
      "metadata": {
        "id": "QCFH0EduAE9s"
      },
      "source": [
        "### Training Model\n",
        "\n",
        "Setelah data berhasil di periapkan dilanjutkan dengan membuat model baru dengan memanfaakan tensorflow berdasarkan proses embeding dari user_id dan place_id, dengan menggunakan perkalian dot product [0, 1] menggunakan sigmoid sebagai aktivasi"
      ]
    },
    {
      "cell_type": "code",
      "metadata": {
        "id": "vWnoP9Z_AIH1"
      },
      "source": [
        "class filtering_based_ratings(tf.keras.Model):\n",
        "  def __init__(self, num_u, num_p, size_e, **place):\n",
        "    super(filtering_based_ratings, self).__init__(**place)\n",
        "    self.num_u = num_u\n",
        "    self.num_p = num_p\n",
        "    self.size_e = size_e\n",
        "    self.user_e = Embedding(\n",
        "        num_u,\n",
        "        size_e,\n",
        "        embeddings_initializer = 'he_normal',\n",
        "        embeddings_regularizer = tf.keras.regularizers.l1(1e-6)\n",
        "    )\n",
        "    self.bias1 = Embedding(num_u, 1)\n",
        "    self.place_e = Embedding(\n",
        "        num_p,\n",
        "        size_e,\n",
        "        embeddings_initializer = 'he_normal',\n",
        "        embeddings_regularizer = tf.keras.regularizers.l1(1e-6)\n",
        "      )\n",
        "    self.bias2 = Embedding(num_p, 1)\n",
        "\n",
        "  def call(self, ins):\n",
        "    u = self.user_e(ins[:, 0])\n",
        "    bias1 = self.bias1(ins[:, 0])\n",
        "    p = self.place_e(ins[:, 1])\n",
        "    bias2 = self.bias2(ins[:, 1])\n",
        "\n",
        "    user = tf.tensordot(u, p, 2)\n",
        "    merge = user + bias1 + bias2\n",
        "\n",
        "    return tf.nn.sigmoid(merge)"
      ],
      "execution_count": null,
      "outputs": []
    },
    {
      "cell_type": "markdown",
      "metadata": {
        "id": "d97AJqypHDJO"
      },
      "source": [
        "setelah model terbentuk data akan di training menggunkan optimizer ada dengan los binary_crossentropy berdasarakan metrics MAE(Mean Absolute Error)"
      ]
    },
    {
      "cell_type": "code",
      "metadata": {
        "id": "WJXqcppsJi_w"
      },
      "source": [
        "model = filtering_based_ratings(num_u, num_p, 16)\n",
        "model.compile(optimizer = Adam(learning_rate=1e-3),\n",
        "              loss='binary_crossentropy',\n",
        "              metrics=[tf.keras.metrics.MeanAbsoluteError()])"
      ],
      "execution_count": null,
      "outputs": []
    },
    {
      "cell_type": "markdown",
      "metadata": {
        "id": "ixb3eUuIYqI7"
      },
      "source": [
        "Data di training dengan 10 epoch dan batch_size nya 5 \n",
        "\n",
        "\\begin{align}\n",
        "  \\frac{jumlah data train}{batchsize} = \\frac{7000}{5} = 1400/perepochs\n",
        "\\end{align}"
      ]
    },
    {
      "cell_type": "code",
      "metadata": {
        "colab": {
          "base_uri": "https://localhost:8080/"
        },
        "id": "Bz3x_U0bHCzW",
        "outputId": "5f336238-b8a6-41bc-8f10-aed3694d5e54"
      },
      "source": [
        "h = model.fit(\n",
        "    x=train_user, \n",
        "    y= train_rating, \n",
        "    batch_size=5,\n",
        "    validation_data=(val_user, val_rating), \n",
        "    epochs=50, verbose=2)"
      ],
      "execution_count": null,
      "outputs": [
        {
          "output_type": "stream",
          "name": "stdout",
          "text": [
            "Epoch 1/50\n",
            "1600/1600 - 3s - loss: 0.6936 - mean_absolute_error: 0.2923 - val_loss: 0.6925 - val_mean_absolute_error: 0.2963\n",
            "Epoch 2/50\n",
            "1600/1600 - 2s - loss: 0.6869 - mean_absolute_error: 0.2896 - val_loss: 0.6925 - val_mean_absolute_error: 0.2977\n",
            "Epoch 3/50\n",
            "1600/1600 - 2s - loss: 0.6802 - mean_absolute_error: 0.2867 - val_loss: 0.6930 - val_mean_absolute_error: 0.2990\n",
            "Epoch 4/50\n",
            "1600/1600 - 2s - loss: 0.6746 - mean_absolute_error: 0.2840 - val_loss: 0.6942 - val_mean_absolute_error: 0.3004\n",
            "Epoch 5/50\n",
            "1600/1600 - 2s - loss: 0.6687 - mean_absolute_error: 0.2807 - val_loss: 0.6962 - val_mean_absolute_error: 0.3020\n",
            "Epoch 6/50\n",
            "1600/1600 - 2s - loss: 0.6662 - mean_absolute_error: 0.2786 - val_loss: 0.6972 - val_mean_absolute_error: 0.3022\n",
            "Epoch 7/50\n",
            "1600/1600 - 2s - loss: 0.6608 - mean_absolute_error: 0.2748 - val_loss: 0.6988 - val_mean_absolute_error: 0.3028\n",
            "Epoch 8/50\n",
            "1600/1600 - 2s - loss: 0.6563 - mean_absolute_error: 0.2718 - val_loss: 0.7015 - val_mean_absolute_error: 0.3040\n",
            "Epoch 9/50\n",
            "1600/1600 - 2s - loss: 0.6532 - mean_absolute_error: 0.2691 - val_loss: 0.7030 - val_mean_absolute_error: 0.3042\n",
            "Epoch 10/50\n",
            "1600/1600 - 2s - loss: 0.6503 - mean_absolute_error: 0.2659 - val_loss: 0.7055 - val_mean_absolute_error: 0.3047\n",
            "Epoch 11/50\n",
            "1600/1600 - 2s - loss: 0.6483 - mean_absolute_error: 0.2643 - val_loss: 0.7071 - val_mean_absolute_error: 0.3047\n",
            "Epoch 12/50\n",
            "1600/1600 - 2s - loss: 0.6479 - mean_absolute_error: 0.2632 - val_loss: 0.7087 - val_mean_absolute_error: 0.3050\n",
            "Epoch 13/50\n",
            "1600/1600 - 2s - loss: 0.6462 - mean_absolute_error: 0.2626 - val_loss: 0.7114 - val_mean_absolute_error: 0.3055\n",
            "Epoch 14/50\n",
            "1600/1600 - 2s - loss: 0.6431 - mean_absolute_error: 0.2595 - val_loss: 0.7130 - val_mean_absolute_error: 0.3058\n",
            "Epoch 15/50\n",
            "1600/1600 - 2s - loss: 0.6432 - mean_absolute_error: 0.2584 - val_loss: 0.7158 - val_mean_absolute_error: 0.3071\n",
            "Epoch 16/50\n",
            "1600/1600 - 2s - loss: 0.6400 - mean_absolute_error: 0.2577 - val_loss: 0.7169 - val_mean_absolute_error: 0.3070\n",
            "Epoch 17/50\n",
            "1600/1600 - 2s - loss: 0.6410 - mean_absolute_error: 0.2571 - val_loss: 0.7184 - val_mean_absolute_error: 0.3074\n",
            "Epoch 18/50\n",
            "1600/1600 - 2s - loss: 0.6379 - mean_absolute_error: 0.2535 - val_loss: 0.7192 - val_mean_absolute_error: 0.3074\n",
            "Epoch 19/50\n",
            "1600/1600 - 2s - loss: 0.6404 - mean_absolute_error: 0.2555 - val_loss: 0.7201 - val_mean_absolute_error: 0.3081\n",
            "Epoch 20/50\n",
            "1600/1600 - 2s - loss: 0.6388 - mean_absolute_error: 0.2555 - val_loss: 0.7211 - val_mean_absolute_error: 0.3083\n",
            "Epoch 21/50\n",
            "1600/1600 - 2s - loss: 0.6364 - mean_absolute_error: 0.2529 - val_loss: 0.7245 - val_mean_absolute_error: 0.3092\n",
            "Epoch 22/50\n",
            "1600/1600 - 2s - loss: 0.6389 - mean_absolute_error: 0.2546 - val_loss: 0.7261 - val_mean_absolute_error: 0.3098\n",
            "Epoch 23/50\n",
            "1600/1600 - 2s - loss: 0.6346 - mean_absolute_error: 0.2515 - val_loss: 0.7285 - val_mean_absolute_error: 0.3111\n",
            "Epoch 24/50\n",
            "1600/1600 - 2s - loss: 0.6362 - mean_absolute_error: 0.2534 - val_loss: 0.7296 - val_mean_absolute_error: 0.3115\n",
            "Epoch 25/50\n",
            "1600/1600 - 2s - loss: 0.6354 - mean_absolute_error: 0.2515 - val_loss: 0.7305 - val_mean_absolute_error: 0.3119\n",
            "Epoch 26/50\n",
            "1600/1600 - 2s - loss: 0.6359 - mean_absolute_error: 0.2516 - val_loss: 0.7313 - val_mean_absolute_error: 0.3123\n",
            "Epoch 27/50\n",
            "1600/1600 - 2s - loss: 0.6358 - mean_absolute_error: 0.2527 - val_loss: 0.7309 - val_mean_absolute_error: 0.3119\n",
            "Epoch 28/50\n",
            "1600/1600 - 2s - loss: 0.6382 - mean_absolute_error: 0.2545 - val_loss: 0.7329 - val_mean_absolute_error: 0.3129\n",
            "Epoch 29/50\n",
            "1600/1600 - 2s - loss: 0.6338 - mean_absolute_error: 0.2510 - val_loss: 0.7344 - val_mean_absolute_error: 0.3135\n",
            "Epoch 30/50\n",
            "1600/1600 - 2s - loss: 0.6347 - mean_absolute_error: 0.2508 - val_loss: 0.7342 - val_mean_absolute_error: 0.3130\n",
            "Epoch 31/50\n",
            "1600/1600 - 2s - loss: 0.6306 - mean_absolute_error: 0.2482 - val_loss: 0.7353 - val_mean_absolute_error: 0.3134\n",
            "Epoch 32/50\n",
            "1600/1600 - 2s - loss: 0.6317 - mean_absolute_error: 0.2497 - val_loss: 0.7381 - val_mean_absolute_error: 0.3146\n",
            "Epoch 33/50\n",
            "1600/1600 - 2s - loss: 0.6318 - mean_absolute_error: 0.2487 - val_loss: 0.7391 - val_mean_absolute_error: 0.3150\n",
            "Epoch 34/50\n",
            "1600/1600 - 2s - loss: 0.6299 - mean_absolute_error: 0.2472 - val_loss: 0.7388 - val_mean_absolute_error: 0.3147\n",
            "Epoch 35/50\n",
            "1600/1600 - 2s - loss: 0.6343 - mean_absolute_error: 0.2500 - val_loss: 0.7405 - val_mean_absolute_error: 0.3155\n",
            "Epoch 36/50\n",
            "1600/1600 - 2s - loss: 0.6314 - mean_absolute_error: 0.2482 - val_loss: 0.7416 - val_mean_absolute_error: 0.3160\n",
            "Epoch 37/50\n",
            "1600/1600 - 2s - loss: 0.6318 - mean_absolute_error: 0.2484 - val_loss: 0.7428 - val_mean_absolute_error: 0.3157\n",
            "Epoch 38/50\n",
            "1600/1600 - 2s - loss: 0.6309 - mean_absolute_error: 0.2490 - val_loss: 0.7438 - val_mean_absolute_error: 0.3161\n",
            "Epoch 39/50\n",
            "1600/1600 - 2s - loss: 0.6306 - mean_absolute_error: 0.2486 - val_loss: 0.7453 - val_mean_absolute_error: 0.3173\n",
            "Epoch 40/50\n",
            "1600/1600 - 2s - loss: 0.6315 - mean_absolute_error: 0.2484 - val_loss: 0.7449 - val_mean_absolute_error: 0.3168\n",
            "Epoch 41/50\n",
            "1600/1600 - 2s - loss: 0.6308 - mean_absolute_error: 0.2476 - val_loss: 0.7439 - val_mean_absolute_error: 0.3159\n",
            "Epoch 42/50\n",
            "1600/1600 - 2s - loss: 0.6331 - mean_absolute_error: 0.2498 - val_loss: 0.7430 - val_mean_absolute_error: 0.3157\n",
            "Epoch 43/50\n",
            "1600/1600 - 2s - loss: 0.6306 - mean_absolute_error: 0.2480 - val_loss: 0.7447 - val_mean_absolute_error: 0.3167\n",
            "Epoch 44/50\n",
            "1600/1600 - 2s - loss: 0.6307 - mean_absolute_error: 0.2477 - val_loss: 0.7442 - val_mean_absolute_error: 0.3162\n",
            "Epoch 45/50\n",
            "1600/1600 - 2s - loss: 0.6287 - mean_absolute_error: 0.2470 - val_loss: 0.7465 - val_mean_absolute_error: 0.3173\n",
            "Epoch 46/50\n",
            "1600/1600 - 2s - loss: 0.6299 - mean_absolute_error: 0.2465 - val_loss: 0.7474 - val_mean_absolute_error: 0.3174\n",
            "Epoch 47/50\n",
            "1600/1600 - 2s - loss: 0.6273 - mean_absolute_error: 0.2447 - val_loss: 0.7487 - val_mean_absolute_error: 0.3183\n",
            "Epoch 48/50\n",
            "1600/1600 - 2s - loss: 0.6305 - mean_absolute_error: 0.2467 - val_loss: 0.7499 - val_mean_absolute_error: 0.3185\n",
            "Epoch 49/50\n",
            "1600/1600 - 2s - loss: 0.6316 - mean_absolute_error: 0.2473 - val_loss: 0.7489 - val_mean_absolute_error: 0.3177\n",
            "Epoch 50/50\n",
            "1600/1600 - 2s - loss: 0.6312 - mean_absolute_error: 0.2483 - val_loss: 0.7489 - val_mean_absolute_error: 0.3179\n"
          ]
        }
      ]
    },
    {
      "cell_type": "markdown",
      "metadata": {
        "id": "0-Jkw_5M1WKn"
      },
      "source": [
        "Didapatkan nilai mae terendah adalah 0.2465 (25%) yang berarti nilai mae masih terlalu tinggi sehingga bisa berakibat data yang akan direkomendasikan kurang sesuai dengan nilai loss yang masih tinggi"
      ]
    },
    {
      "cell_type": "markdown",
      "metadata": {
        "id": "ruRh7rIfAHlo"
      },
      "source": [
        "#### Ploting Model"
      ]
    },
    {
      "cell_type": "code",
      "metadata": {
        "colab": {
          "base_uri": "https://localhost:8080/",
          "height": 428
        },
        "id": "gYMpSsfS_9at",
        "outputId": "1bf6d246-f77f-4556-b01b-6fb21cbb799c"
      },
      "source": [
        "train = h.history['mean_absolute_error']\n",
        "val = h.history['val_mean_absolute_error']\n",
        "\n",
        "e = range(len(train))\n",
        "\n",
        "plt.figure(figsize=(15, 10))\n",
        "plt.plot(e, train, label='training')\n",
        "plt.plot(e, val, label=\"validations\")\n",
        "plt.legend()\n",
        "plt.show()"
      ],
      "execution_count": null,
      "outputs": [
        {
          "output_type": "display_data",
          "data": {
            "image/png": "[encoded data removed]",
            "text/plain": [
              "<Figure size 1080x720 with 1 Axes>"
            ]
          },
          "metadata": {
            "needs_background": "light"
          }
        }
      ]
    },
    {
      "cell_type": "markdown",
      "metadata": {
        "id": "T_naaboP2eRk"
      },
      "source": [
        "### Evaluasi Model\n",
        "\n",
        "Evaluasi dilakukan untuk mengetahui bagaimana tingkat error data sehingga bisa mengetau bagaimana performa dari data. Evaluasi menggunakan metrics MSE. \n",
        "\n",
        "\\begin{align}\n",
        "        \\text{MAE } = (&\\sum_{i=0}^n \\mid y_i -y_i\\mid) /n\n",
        "    \\end{align}"
      ]
    },
    {
      "cell_type": "code",
      "metadata": {
        "colab": {
          "base_uri": "https://localhost:8080/"
        },
        "id": "5jY0Wl9W2jAC",
        "outputId": "ebf0730a-d632-4b8c-d897-36551c073733"
      },
      "source": [
        "ypred = model.predict(val_user)\n",
        "mae = mean_absolute_error(val_rating, ypred)\n",
        "print(mae)"
      ],
      "execution_count": null,
      "outputs": [
        {
          "output_type": "stream",
          "name": "stdout",
          "text": [
            "0.3458515153229237\n"
          ]
        }
      ]
    },
    {
      "cell_type": "markdown",
      "metadata": {
        "id": "WB9Y6MNAUOvX"
      },
      "source": [
        "nilai mae yang di dapatkan tidak terlalu tinggi sehingga data ini cocok untuk digunakan dalam sistem rekomendasi, tetapi mae dengan nilai 34% terbilang cukup tinggi sehingga bisa mengakibatkan overfitting data"
      ]
    },
    {
      "cell_type": "markdown",
      "metadata": {
        "id": "-DSqf23AANiG"
      },
      "source": [
        "### System Rekomendation from user\n",
        "\n",
        "data yang digunakan untuk proses ini diambil dari data yang sudah disimpan dalam directory pada proses data processing pada teknik content based learning\n",
        "\n"
      ]
    },
    {
      "cell_type": "code",
      "metadata": {
        "colab": {
          "base_uri": "https://localhost:8080/",
          "height": 1000
        },
        "id": "FwWqFIclag47",
        "outputId": "54354111-a204-4d66-b68a-8ce076659bc2"
      },
      "source": [
        "place = tourism_inform\n",
        "\n",
        "ratings = data_colaborative\n",
        "place"
      ],
      "execution_count": null,
      "outputs": [
        {
          "output_type": "execute_result",
          "data": {
            "text/html": [
              "<div>\n",
              "<style scoped>\n",
              "    .dataframe tbody tr th:only-of-type {\n",
              "        vertical-align: middle;\n",
              "    }\n",
              "\n",
              "    .dataframe tbody tr th {\n",
              "        vertical-align: top;\n",
              "    }\n",
              "\n",
              "    .dataframe thead th {\n",
              "        text-align: right;\n",
              "    }\n",
              "</style>\n",
              "<table border=\"1\" class=\"dataframe\">\n",
              "  <thead>\n",
              "    <tr style=\"text-align: right;\">\n",
              "      <th></th>\n",
              "      <th>Place_Id</th>\n",
              "      <th>Place_Name</th>\n",
              "      <th>Description</th>\n",
              "      <th>Category</th>\n",
              "      <th>City</th>\n",
              "      <th>Price</th>\n",
              "      <th>Rating</th>\n",
              "      <th>Coordinate</th>\n",
              "      <th>Lat</th>\n",
              "      <th>Long</th>\n",
              "    </tr>\n",
              "  </thead>\n",
              "  <tbody>\n",
              "    <tr>\n",
              "      <th>0</th>\n",
              "      <td>1</td>\n",
              "      <td>Monumen Nasional</td>\n",
              "      <td>Monumen Nasional atau yang populer disingkat d...</td>\n",
              "      <td>Budaya</td>\n",
              "      <td>Jakarta</td>\n",
              "      <td>20000</td>\n",
              "      <td>4.6</td>\n",
              "      <td>{'lat': -6.1753924, 'lng': 106.8271528}</td>\n",
              "      <td>-6.175392</td>\n",
              "      <td>106.827153</td>\n",
              "    </tr>\n",
              "    <tr>\n",
              "      <th>1</th>\n",
              "      <td>2</td>\n",
              "      <td>Kota Tua</td>\n",
              "      <td>Kota tua di Jakarta, yang juga bernama Kota Tu...</td>\n",
              "      <td>Budaya</td>\n",
              "      <td>Jakarta</td>\n",
              "      <td>0</td>\n",
              "      <td>4.6</td>\n",
              "      <td>{'lat': -6.137644799999999, 'lng': 106.8171245}</td>\n",
              "      <td>-6.137645</td>\n",
              "      <td>106.817125</td>\n",
              "    </tr>\n",
              "    <tr>\n",
              "      <th>2</th>\n",
              "      <td>3</td>\n",
              "      <td>Dunia Fantasi</td>\n",
              "      <td>Dunia Fantasi atau disebut juga Dufan adalah t...</td>\n",
              "      <td>Taman Hiburan</td>\n",
              "      <td>Jakarta</td>\n",
              "      <td>270000</td>\n",
              "      <td>4.6</td>\n",
              "      <td>{'lat': -6.125312399999999, 'lng': 106.8335377}</td>\n",
              "      <td>-6.125312</td>\n",
              "      <td>106.833538</td>\n",
              "    </tr>\n",
              "    <tr>\n",
              "      <th>3</th>\n",
              "      <td>4</td>\n",
              "      <td>Taman Mini Indonesia Indah (TMII)</td>\n",
              "      <td>Taman Mini Indonesia Indah merupakan suatu kaw...</td>\n",
              "      <td>Taman Hiburan</td>\n",
              "      <td>Jakarta</td>\n",
              "      <td>10000</td>\n",
              "      <td>4.5</td>\n",
              "      <td>{'lat': -6.302445899999999, 'lng': 106.8951559}</td>\n",
              "      <td>-6.302446</td>\n",
              "      <td>106.895156</td>\n",
              "    </tr>\n",
              "    <tr>\n",
              "      <th>4</th>\n",
              "      <td>5</td>\n",
              "      <td>Atlantis Water Adventure</td>\n",
              "      <td>Atlantis Water Adventure atau dikenal dengan A...</td>\n",
              "      <td>Taman Hiburan</td>\n",
              "      <td>Jakarta</td>\n",
              "      <td>94000</td>\n",
              "      <td>4.5</td>\n",
              "      <td>{'lat': -6.12419, 'lng': 106.839134}</td>\n",
              "      <td>-6.124190</td>\n",
              "      <td>106.839134</td>\n",
              "    </tr>\n",
              "    <tr>\n",
              "      <th>...</th>\n",
              "      <td>...</td>\n",
              "      <td>...</td>\n",
              "      <td>...</td>\n",
              "      <td>...</td>\n",
              "      <td>...</td>\n",
              "      <td>...</td>\n",
              "      <td>...</td>\n",
              "      <td>...</td>\n",
              "      <td>...</td>\n",
              "      <td>...</td>\n",
              "    </tr>\n",
              "    <tr>\n",
              "      <th>432</th>\n",
              "      <td>433</td>\n",
              "      <td>Museum Mpu Tantular</td>\n",
              "      <td>Museum Negeri Mpu Tantular adalah sebuah museu...</td>\n",
              "      <td>Budaya</td>\n",
              "      <td>Surabaya</td>\n",
              "      <td>2000</td>\n",
              "      <td>4.4</td>\n",
              "      <td>{'lat': -7.4338593, 'lng': 112.7199058}</td>\n",
              "      <td>-7.433859</td>\n",
              "      <td>112.719906</td>\n",
              "    </tr>\n",
              "    <tr>\n",
              "      <th>433</th>\n",
              "      <td>434</td>\n",
              "      <td>Taman Bungkul</td>\n",
              "      <td>Taman Bungkul adalah taman wisata kota yang te...</td>\n",
              "      <td>Taman Hiburan</td>\n",
              "      <td>Surabaya</td>\n",
              "      <td>0</td>\n",
              "      <td>4.6</td>\n",
              "      <td>{'lat': -7.291346799999999, 'lng': 112.7398218}</td>\n",
              "      <td>-7.291347</td>\n",
              "      <td>112.739822</td>\n",
              "    </tr>\n",
              "    <tr>\n",
              "      <th>434</th>\n",
              "      <td>435</td>\n",
              "      <td>Taman Air Mancur Menari Kenjeran</td>\n",
              "      <td>Air mancur menari atau dancing fountain juga a...</td>\n",
              "      <td>Taman Hiburan</td>\n",
              "      <td>Surabaya</td>\n",
              "      <td>0</td>\n",
              "      <td>4.4</td>\n",
              "      <td>{'lat': -7.2752955, 'lng': 112.7549381}</td>\n",
              "      <td>-7.275296</td>\n",
              "      <td>112.754938</td>\n",
              "    </tr>\n",
              "    <tr>\n",
              "      <th>435</th>\n",
              "      <td>436</td>\n",
              "      <td>Taman Flora Bratang Surabaya</td>\n",
              "      <td>Taman Flora adalah salah satu taman kota di Su...</td>\n",
              "      <td>Taman Hiburan</td>\n",
              "      <td>Surabaya</td>\n",
              "      <td>0</td>\n",
              "      <td>4.6</td>\n",
              "      <td>{'lat': -7.294330299999999, 'lng': 112.7617534}</td>\n",
              "      <td>-7.294330</td>\n",
              "      <td>112.761753</td>\n",
              "    </tr>\n",
              "    <tr>\n",
              "      <th>436</th>\n",
              "      <td>437</td>\n",
              "      <td>Gereja Perawan Maria Tak Berdosa Surabaya</td>\n",
              "      <td>Gereja Katolik Kelahiran Santa Perawan Maria m...</td>\n",
              "      <td>Tempat Ibadah</td>\n",
              "      <td>Surabaya</td>\n",
              "      <td>10000</td>\n",
              "      <td>4.8</td>\n",
              "      <td>{'lat': -7.2420758, 'lng': 112.7368158}</td>\n",
              "      <td>-7.242076</td>\n",
              "      <td>112.736816</td>\n",
              "    </tr>\n",
              "  </tbody>\n",
              "</table>\n",
              "<p>437 rows × 10 columns</p>\n",
              "</div>"
            ],
            "text/plain": [
              "     Place_Id                                 Place_Name  ...       Lat        Long\n",
              "0           1                           Monumen Nasional  ... -6.175392  106.827153\n",
              "1           2                                   Kota Tua  ... -6.137645  106.817125\n",
              "2           3                              Dunia Fantasi  ... -6.125312  106.833538\n",
              "3           4          Taman Mini Indonesia Indah (TMII)  ... -6.302446  106.895156\n",
              "4           5                   Atlantis Water Adventure  ... -6.124190  106.839134\n",
              "..        ...                                        ...  ...       ...         ...\n",
              "432       433                        Museum Mpu Tantular  ... -7.433859  112.719906\n",
              "433       434                              Taman Bungkul  ... -7.291347  112.739822\n",
              "434       435           Taman Air Mancur Menari Kenjeran  ... -7.275296  112.754938\n",
              "435       436               Taman Flora Bratang Surabaya  ... -7.294330  112.761753\n",
              "436       437  Gereja Perawan Maria Tak Berdosa Surabaya  ... -7.242076  112.736816\n",
              "\n",
              "[437 rows x 10 columns]"
            ]
          },
          "metadata": {},
          "execution_count": 63
        }
      ]
    },
    {
      "cell_type": "markdown",
      "metadata": {
        "id": "uKDSkvgvF7Ej"
      },
      "source": [
        "Data akan diambil sampel 1 data yang digunakan diambil dari data nomer 2, lalu data tersebut nantinya id nya akan dibandingkan id user sehingga bisa meghasikan rekomendasi tempat wisata,\n",
        "\n",
        "Data tersebut nantinya akan dibagi menjadi lokasi yang pernah dikunjungi dan lokasi yang tidak pernah dikunjungi sebelumnya."
      ]
    },
    {
      "cell_type": "code",
      "metadata": {
        "colab": {
          "base_uri": "https://localhost:8080/"
        },
        "id": "-HYskuo9YGaD",
        "outputId": "73ab2bbf-d357-4c59-9a0b-8c0b2c4a203f"
      },
      "source": [
        "#user = input(\"Masukkan user id \")\n",
        "user = ratings.User_Id.sample(2).iloc[0]\n",
        "print(user)\n",
        "place_visited = ratings[ratings.User_Id == user]\n",
        "\n",
        "place_not = place[~place['Place_Id'].isin(place_visited.Place_Id.values)]['Place_Id']\n",
        "place_not = list(\n",
        "    set(place_not)\n",
        "    .intersection(set(encode_place.keys()))\n",
        ")\n",
        "place_not = [[place_encode.get(a)] for a in place_not]\n",
        "user_recomm = user_encode.get(user)\n",
        "user_array = np.hstack(([[user_recomm]] * len(place_not), place_not))"
      ],
      "execution_count": null,
      "outputs": [
        {
          "output_type": "stream",
          "name": "stdout",
          "text": [
            "225\n"
          ]
        }
      ]
    },
    {
      "cell_type": "code",
      "metadata": {
        "colab": {
          "base_uri": "https://localhost:8080/",
          "height": 1000
        },
        "id": "HIXrfvZGCkQG",
        "outputId": "3199e949-ec8c-4499-a7c4-eb82c8b86076"
      },
      "source": [
        "place_visited"
      ],
      "execution_count": null,
      "outputs": [
        {
          "output_type": "execute_result",
          "data": {
            "text/html": [
              "<div>\n",
              "<style scoped>\n",
              "    .dataframe tbody tr th:only-of-type {\n",
              "        vertical-align: middle;\n",
              "    }\n",
              "\n",
              "    .dataframe tbody tr th {\n",
              "        vertical-align: top;\n",
              "    }\n",
              "\n",
              "    .dataframe thead th {\n",
              "        text-align: right;\n",
              "    }\n",
              "</style>\n",
              "<table border=\"1\" class=\"dataframe\">\n",
              "  <thead>\n",
              "    <tr style=\"text-align: right;\">\n",
              "      <th></th>\n",
              "      <th>User_Id</th>\n",
              "      <th>Place_Id</th>\n",
              "      <th>Place_Ratings</th>\n",
              "      <th>Place_Name</th>\n",
              "      <th>City</th>\n",
              "      <th>Category</th>\n",
              "      <th>Rating</th>\n",
              "    </tr>\n",
              "  </thead>\n",
              "  <tbody>\n",
              "    <tr>\n",
              "      <th>269</th>\n",
              "      <td>225</td>\n",
              "      <td>103</td>\n",
              "      <td>3</td>\n",
              "      <td>Tugu Pal Putih Jogja</td>\n",
              "      <td>Yogyakarta</td>\n",
              "      <td>Taman Hiburan</td>\n",
              "      <td>4.7</td>\n",
              "    </tr>\n",
              "    <tr>\n",
              "      <th>997</th>\n",
              "      <td>225</td>\n",
              "      <td>185</td>\n",
              "      <td>3</td>\n",
              "      <td>Pantai Krakal</td>\n",
              "      <td>Yogyakarta</td>\n",
              "      <td>Bahari</td>\n",
              "      <td>4.5</td>\n",
              "    </tr>\n",
              "    <tr>\n",
              "      <th>1317</th>\n",
              "      <td>225</td>\n",
              "      <td>166</td>\n",
              "      <td>3</td>\n",
              "      <td>Kebun Teh Nglinggo</td>\n",
              "      <td>Yogyakarta</td>\n",
              "      <td>Cagar Alam</td>\n",
              "      <td>4.5</td>\n",
              "    </tr>\n",
              "    <tr>\n",
              "      <th>2773</th>\n",
              "      <td>225</td>\n",
              "      <td>61</td>\n",
              "      <td>4</td>\n",
              "      <td>Tugu Proklamasi</td>\n",
              "      <td>Jakarta</td>\n",
              "      <td>Budaya</td>\n",
              "      <td>4.6</td>\n",
              "    </tr>\n",
              "    <tr>\n",
              "      <th>2986</th>\n",
              "      <td>225</td>\n",
              "      <td>381</td>\n",
              "      <td>1</td>\n",
              "      <td>Tugu Muda Semarang</td>\n",
              "      <td>Semarang</td>\n",
              "      <td>Budaya</td>\n",
              "      <td>4.7</td>\n",
              "    </tr>\n",
              "    <tr>\n",
              "      <th>3478</th>\n",
              "      <td>225</td>\n",
              "      <td>298</td>\n",
              "      <td>1</td>\n",
              "      <td>Gunung Lalakon</td>\n",
              "      <td>Bandung</td>\n",
              "      <td>Cagar Alam</td>\n",
              "      <td>4.8</td>\n",
              "    </tr>\n",
              "    <tr>\n",
              "      <th>3519</th>\n",
              "      <td>225</td>\n",
              "      <td>224</td>\n",
              "      <td>4</td>\n",
              "      <td>Dago Dreampark</td>\n",
              "      <td>Bandung</td>\n",
              "      <td>Taman Hiburan</td>\n",
              "      <td>4.2</td>\n",
              "    </tr>\n",
              "    <tr>\n",
              "      <th>3557</th>\n",
              "      <td>225</td>\n",
              "      <td>255</td>\n",
              "      <td>2</td>\n",
              "      <td>Museum Barli</td>\n",
              "      <td>Bandung</td>\n",
              "      <td>Budaya</td>\n",
              "      <td>4.4</td>\n",
              "    </tr>\n",
              "    <tr>\n",
              "      <th>3838</th>\n",
              "      <td>225</td>\n",
              "      <td>247</td>\n",
              "      <td>3</td>\n",
              "      <td>Kiara Artha Park</td>\n",
              "      <td>Bandung</td>\n",
              "      <td>Taman Hiburan</td>\n",
              "      <td>4.4</td>\n",
              "    </tr>\n",
              "    <tr>\n",
              "      <th>3839</th>\n",
              "      <td>225</td>\n",
              "      <td>247</td>\n",
              "      <td>3</td>\n",
              "      <td>Kiara Artha Park</td>\n",
              "      <td>Bandung</td>\n",
              "      <td>Taman Hiburan</td>\n",
              "      <td>4.4</td>\n",
              "    </tr>\n",
              "    <tr>\n",
              "      <th>4183</th>\n",
              "      <td>225</td>\n",
              "      <td>30</td>\n",
              "      <td>5</td>\n",
              "      <td>Taman Menteng</td>\n",
              "      <td>Jakarta</td>\n",
              "      <td>Taman Hiburan</td>\n",
              "      <td>4.5</td>\n",
              "    </tr>\n",
              "    <tr>\n",
              "      <th>4231</th>\n",
              "      <td>225</td>\n",
              "      <td>402</td>\n",
              "      <td>5</td>\n",
              "      <td>Food Junction Grand Pakuwon</td>\n",
              "      <td>Surabaya</td>\n",
              "      <td>Pusat Perbelanjaan</td>\n",
              "      <td>4.5</td>\n",
              "    </tr>\n",
              "    <tr>\n",
              "      <th>4508</th>\n",
              "      <td>225</td>\n",
              "      <td>416</td>\n",
              "      <td>4</td>\n",
              "      <td>Keraton Surabaya</td>\n",
              "      <td>Surabaya</td>\n",
              "      <td>Budaya</td>\n",
              "      <td>4.4</td>\n",
              "    </tr>\n",
              "    <tr>\n",
              "      <th>4536</th>\n",
              "      <td>225</td>\n",
              "      <td>378</td>\n",
              "      <td>5</td>\n",
              "      <td>Jembatan Biru Ambarawa</td>\n",
              "      <td>Semarang</td>\n",
              "      <td>Taman Hiburan</td>\n",
              "      <td>4.2</td>\n",
              "    </tr>\n",
              "    <tr>\n",
              "      <th>4740</th>\n",
              "      <td>225</td>\n",
              "      <td>168</td>\n",
              "      <td>3</td>\n",
              "      <td>Pantai Timang</td>\n",
              "      <td>Yogyakarta</td>\n",
              "      <td>Bahari</td>\n",
              "      <td>4.7</td>\n",
              "    </tr>\n",
              "    <tr>\n",
              "      <th>4808</th>\n",
              "      <td>225</td>\n",
              "      <td>236</td>\n",
              "      <td>2</td>\n",
              "      <td>Taman Balai Kota Bandung</td>\n",
              "      <td>Bandung</td>\n",
              "      <td>Taman Hiburan</td>\n",
              "      <td>4.6</td>\n",
              "    </tr>\n",
              "    <tr>\n",
              "      <th>4836</th>\n",
              "      <td>225</td>\n",
              "      <td>42</td>\n",
              "      <td>2</td>\n",
              "      <td>Museum Seni Rupa dan Kramik</td>\n",
              "      <td>Jakarta</td>\n",
              "      <td>Budaya</td>\n",
              "      <td>4.4</td>\n",
              "    </tr>\n",
              "    <tr>\n",
              "      <th>4858</th>\n",
              "      <td>225</td>\n",
              "      <td>90</td>\n",
              "      <td>5</td>\n",
              "      <td>Kampung Wisata Taman Sari</td>\n",
              "      <td>Yogyakarta</td>\n",
              "      <td>Taman Hiburan</td>\n",
              "      <td>4.6</td>\n",
              "    </tr>\n",
              "    <tr>\n",
              "      <th>5363</th>\n",
              "      <td>225</td>\n",
              "      <td>194</td>\n",
              "      <td>3</td>\n",
              "      <td>Pantai Wediombo</td>\n",
              "      <td>Yogyakarta</td>\n",
              "      <td>Bahari</td>\n",
              "      <td>4.5</td>\n",
              "    </tr>\n",
              "    <tr>\n",
              "      <th>5607</th>\n",
              "      <td>225</td>\n",
              "      <td>71</td>\n",
              "      <td>2</td>\n",
              "      <td>Cibubur Garden Diary (Cibugary)</td>\n",
              "      <td>Jakarta</td>\n",
              "      <td>Cagar Alam</td>\n",
              "      <td>4.5</td>\n",
              "    </tr>\n",
              "    <tr>\n",
              "      <th>5641</th>\n",
              "      <td>225</td>\n",
              "      <td>293</td>\n",
              "      <td>5</td>\n",
              "      <td>Taman Badak</td>\n",
              "      <td>Bandung</td>\n",
              "      <td>Taman Hiburan</td>\n",
              "      <td>4.5</td>\n",
              "    </tr>\n",
              "    <tr>\n",
              "      <th>5795</th>\n",
              "      <td>225</td>\n",
              "      <td>177</td>\n",
              "      <td>2</td>\n",
              "      <td>Pantai Parangtritis</td>\n",
              "      <td>Yogyakarta</td>\n",
              "      <td>Bahari</td>\n",
              "      <td>4.5</td>\n",
              "    </tr>\n",
              "    <tr>\n",
              "      <th>6122</th>\n",
              "      <td>225</td>\n",
              "      <td>342</td>\n",
              "      <td>2</td>\n",
              "      <td>Taman Kasmaran</td>\n",
              "      <td>Semarang</td>\n",
              "      <td>Taman Hiburan</td>\n",
              "      <td>4.5</td>\n",
              "    </tr>\n",
              "    <tr>\n",
              "      <th>6346</th>\n",
              "      <td>225</td>\n",
              "      <td>239</td>\n",
              "      <td>3</td>\n",
              "      <td>Lembang Park &amp; Zoo</td>\n",
              "      <td>Bandung</td>\n",
              "      <td>Cagar Alam</td>\n",
              "      <td>4.5</td>\n",
              "    </tr>\n",
              "    <tr>\n",
              "      <th>7421</th>\n",
              "      <td>225</td>\n",
              "      <td>317</td>\n",
              "      <td>5</td>\n",
              "      <td>Curug Cimahi</td>\n",
              "      <td>Bandung</td>\n",
              "      <td>Cagar Alam</td>\n",
              "      <td>4.6</td>\n",
              "    </tr>\n",
              "    <tr>\n",
              "      <th>8077</th>\n",
              "      <td>225</td>\n",
              "      <td>200</td>\n",
              "      <td>5</td>\n",
              "      <td>Pantai Watu Kodok</td>\n",
              "      <td>Yogyakarta</td>\n",
              "      <td>Bahari</td>\n",
              "      <td>4.6</td>\n",
              "    </tr>\n",
              "    <tr>\n",
              "      <th>8555</th>\n",
              "      <td>225</td>\n",
              "      <td>123</td>\n",
              "      <td>3</td>\n",
              "      <td>Kampung Wisata Rejowinangun</td>\n",
              "      <td>Yogyakarta</td>\n",
              "      <td>Budaya</td>\n",
              "      <td>4.3</td>\n",
              "    </tr>\n",
              "    <tr>\n",
              "      <th>8923</th>\n",
              "      <td>225</td>\n",
              "      <td>313</td>\n",
              "      <td>4</td>\n",
              "      <td>Taman Begonia</td>\n",
              "      <td>Bandung</td>\n",
              "      <td>Cagar Alam</td>\n",
              "      <td>4.4</td>\n",
              "    </tr>\n",
              "    <tr>\n",
              "      <th>9450</th>\n",
              "      <td>225</td>\n",
              "      <td>218</td>\n",
              "      <td>3</td>\n",
              "      <td>Kawah Putih</td>\n",
              "      <td>Bandung</td>\n",
              "      <td>Cagar Alam</td>\n",
              "      <td>4.5</td>\n",
              "    </tr>\n",
              "    <tr>\n",
              "      <th>9870</th>\n",
              "      <td>225</td>\n",
              "      <td>361</td>\n",
              "      <td>3</td>\n",
              "      <td>Wisata Kampung Krisan Clapar</td>\n",
              "      <td>Semarang</td>\n",
              "      <td>Taman Hiburan</td>\n",
              "      <td>4.1</td>\n",
              "    </tr>\n",
              "  </tbody>\n",
              "</table>\n",
              "</div>"
            ],
            "text/plain": [
              "      User_Id  Place_Id  Place_Ratings  ...        City            Category Rating\n",
              "269       225       103              3  ...  Yogyakarta       Taman Hiburan    4.7\n",
              "997       225       185              3  ...  Yogyakarta              Bahari    4.5\n",
              "1317      225       166              3  ...  Yogyakarta          Cagar Alam    4.5\n",
              "2773      225        61              4  ...     Jakarta              Budaya    4.6\n",
              "2986      225       381              1  ...    Semarang              Budaya    4.7\n",
              "3478      225       298              1  ...     Bandung          Cagar Alam    4.8\n",
              "3519      225       224              4  ...     Bandung       Taman Hiburan    4.2\n",
              "3557      225       255              2  ...     Bandung              Budaya    4.4\n",
              "3838      225       247              3  ...     Bandung       Taman Hiburan    4.4\n",
              "3839      225       247              3  ...     Bandung       Taman Hiburan    4.4\n",
              "4183      225        30              5  ...     Jakarta       Taman Hiburan    4.5\n",
              "4231      225       402              5  ...    Surabaya  Pusat Perbelanjaan    4.5\n",
              "4508      225       416              4  ...    Surabaya              Budaya    4.4\n",
              "4536      225       378              5  ...    Semarang       Taman Hiburan    4.2\n",
              "4740      225       168              3  ...  Yogyakarta              Bahari    4.7\n",
              "4808      225       236              2  ...     Bandung       Taman Hiburan    4.6\n",
              "4836      225        42              2  ...     Jakarta              Budaya    4.4\n",
              "4858      225        90              5  ...  Yogyakarta       Taman Hiburan    4.6\n",
              "5363      225       194              3  ...  Yogyakarta              Bahari    4.5\n",
              "5607      225        71              2  ...     Jakarta          Cagar Alam    4.5\n",
              "5641      225       293              5  ...     Bandung       Taman Hiburan    4.5\n",
              "5795      225       177              2  ...  Yogyakarta              Bahari    4.5\n",
              "6122      225       342              2  ...    Semarang       Taman Hiburan    4.5\n",
              "6346      225       239              3  ...     Bandung          Cagar Alam    4.5\n",
              "7421      225       317              5  ...     Bandung          Cagar Alam    4.6\n",
              "8077      225       200              5  ...  Yogyakarta              Bahari    4.6\n",
              "8555      225       123              3  ...  Yogyakarta              Budaya    4.3\n",
              "8923      225       313              4  ...     Bandung          Cagar Alam    4.4\n",
              "9450      225       218              3  ...     Bandung          Cagar Alam    4.5\n",
              "9870      225       361              3  ...    Semarang       Taman Hiburan    4.1\n",
              "\n",
              "[30 rows x 7 columns]"
            ]
          },
          "metadata": {},
          "execution_count": 65
        }
      ]
    },
    {
      "cell_type": "markdown",
      "metadata": {
        "id": "crDdGDeOGYHD"
      },
      "source": [
        "Dilihat bahwa id yang diambil adalah 225 id tersebut melakukan penilaian ke beberapa tempat dengan nilai rating yang berbeda-beda"
      ]
    },
    {
      "cell_type": "code",
      "metadata": {
        "colab": {
          "base_uri": "https://localhost:8080/"
        },
        "id": "MVX7nekEckAt",
        "outputId": "e020e6ab-207c-4faa-a6e1-17b28a1ba41d"
      },
      "source": [
        "predict = model.predict(user_array).flatten()\n",
        "\n",
        "top_rate = predict.argsort()[-5:][::-1]\n",
        "recomended_place = [\n",
        "                    place_encode.get(place_not[a][0]) for a in top_rate\n",
        "]\n",
        "\n",
        "print(f' Rekomendasi dari user ber id : {user}')\n",
        "\n",
        "print('---' * 10)\n",
        "print(\"rekomendasi user dengan nilai rating tertinggi \")\n",
        "\n",
        "top_place = (\n",
        "    place_visited.sort_values(by='Place_Ratings', ascending=False)\n",
        ").head(3).Place_Id.values\n",
        "\n",
        "top_row = place[place['Place_Id'].isin(top_place)]\n",
        "for r in top_row.itertuples():\n",
        "  print(r.Place_Name, ':', r.Category)\n",
        "\n",
        "print('----' * 10)\n",
        "print(\"5 rekomendasi tertinggi\")\n",
        "\n",
        "recomended_top_rating = place[place['Place_Id'].isin(recomended_place)]\n",
        "for r in recomended_top_rating.itertuples():\n",
        "  print(r.Place_Name, ':', r.Category)"
      ],
      "execution_count": null,
      "outputs": [
        {
          "output_type": "stream",
          "name": "stdout",
          "text": [
            " Rekomendasi dari user ber id : 225\n",
            "------------------------------\n",
            "rekomendasi user dengan nilai rating tertinggi \n",
            "Kampung Wisata Taman Sari : Taman Hiburan\n",
            "Pantai Watu Kodok : Bahari\n",
            "Curug Cimahi : Cagar Alam\n",
            "----------------------------------------\n",
            "5 rekomendasi tertinggi\n",
            "Museum Seni Rupa dan Kramik : Budaya\n",
            "Museum Joang 45 : Budaya\n",
            "Museum Basoeki Abdullah : Budaya\n",
            "Wisata Mangrove Tapak : Cagar Alam\n",
            "Old City 3D Trick Art Museum : Budaya\n"
          ]
        }
      ]
    },
    {
      "cell_type": "markdown",
      "metadata": {
        "id": "9TVRbXnuFoxU"
      },
      "source": [
        "karena sistem rekomendasi yang sudah di setting dengan hanya menampilkan 5 data saja maka data rekomendasi hanya 5 data diambil berdasarkan rating tertinggi dari user terhadap tempat-tempat wisata tersebut"
      ]
    }
  ]
}